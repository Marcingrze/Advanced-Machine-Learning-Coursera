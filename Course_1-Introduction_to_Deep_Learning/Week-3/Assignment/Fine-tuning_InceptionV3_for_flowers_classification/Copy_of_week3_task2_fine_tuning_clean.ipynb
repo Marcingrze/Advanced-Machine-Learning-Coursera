{
  "cells": [
    {
      "cell_type": "markdown",
      "metadata": {
        "colab_type": "text",
        "id": "2MIFymPa65j3"
      },
      "source": [
        "# Fine-tuning InceptionV3 for flowers classification\n",
        "\n",
        "In this task you will fine-tune InceptionV3 architecture for flowers classification task.\n",
        "\n",
        "InceptionV3 architecture (https://research.googleblog.com/2016/03/train-your-own-image-classifier-with.html):\n",
        "<img src=\"https://github.com/hse-aml/intro-to-dl/blob/master/week3/images/inceptionv3.png?raw=1\" style=\"width:70%\">\n",
        "\n",
        "Flowers classification dataset (http://www.robots.ox.ac.uk/~vgg/data/flowers/102/index.html) consists of 102 flower categories commonly occurring in the United Kingdom. Each class contains between 40 and 258 images:\n",
        "<img src=\"https://github.com/hse-aml/intro-to-dl/blob/master/week3/images/flowers.jpg?raw=1\" style=\"width:70%\">"
      ]
    },
    {
      "cell_type": "code",
      "execution_count": 1,
      "metadata": {
        "colab": {
          "base_uri": "https://localhost:8080/",
          "height": 421
        },
        "colab_type": "code",
        "id": "xXwqerkI7Lqx",
        "outputId": "a1d9e028-de19-4a10-8e2b-6c11f8756b65"
      },
      "outputs": [
        {
          "name": "stdout",
          "output_type": "stream",
          "text": [
            "shred: setup_google_colab.py: failed to open for writing: No such file or directory\n",
            "--2019-08-02 06:19:50--  https://raw.githubusercontent.com/hse-aml/intro-to-dl/master/setup_google_colab.py\n",
            "Resolving raw.githubusercontent.com (raw.githubusercontent.com)... 151.101.0.133, 151.101.64.133, 151.101.128.133, ...\n",
            "Connecting to raw.githubusercontent.com (raw.githubusercontent.com)|151.101.0.133|:443... connected.\n",
            "HTTP request sent, awaiting response... 200 OK\n",
            "Length: 3792 (3.7K) [text/plain]\n",
            "Saving to: ‘setup_google_colab.py’\n",
            "\n",
            "setup_google_colab. 100%[===================>]   3.70K  --.-KB/s    in 0s      \n",
            "\n",
            "2019-08-02 06:19:55 (28.1 MB/s) - ‘setup_google_colab.py’ saved [3792/3792]\n",
            "\n",
            "**************************************************\n",
            "102flowers.tgz\n",
            "**************************************************\n",
            "imagelabels.mat\n",
            "**************************************************\n",
            "inception_v3_weights_tf_dim_ordering_tf_kernels_notop.h5\n",
            "**************************************************\n",
            "cifar-10-batches-py.tar.gz\n",
            "**************************************************\n",
            "mnist.npz\n"
          ]
        }
      ],
      "source": [
        "! shred -u setup_google_colab.py\n",
        "! wget https://raw.githubusercontent.com/hse-aml/intro-to-dl/master/setup_google_colab.py -O setup_google_colab.py\n",
        "import setup_google_colab\n",
        "setup_google_colab.setup_week3()"
      ]
    },
    {
      "cell_type": "markdown",
      "metadata": {
        "colab_type": "text",
        "id": "a1qJHr1o65kA"
      },
      "source": [
        "# Import stuff"
      ]
    },
    {
      "cell_type": "code",
      "execution_count": 1,
      "metadata": {
        "colab": {},
        "colab_type": "code",
        "id": "VxLFBDtu65kD",
        "scrolled": false
      },
      "outputs": [],
      "source": [
        "import sys\n",
        "sys.path.append(\"..\")\n",
        "#import grading\n",
        "#import download_utils"
      ]
    },
    {
      "cell_type": "code",
      "execution_count": null,
      "metadata": {
        "colab": {},
        "colab_type": "code",
        "id": "PtFoZroN65kL"
      },
      "outputs": [],
      "source": [
        "# !!! remember to clear session/graph if you rebuild your graph to avoid out-of-memory errors !!!"
      ]
    },
    {
      "cell_type": "code",
      "execution_count": null,
      "metadata": {
        "colab": {},
        "colab_type": "code",
        "id": "XUCbEFFJ65kS",
        "scrolled": false
      },
      "outputs": [],
      "source": [
        "download_utils.link_all_keras_resources()"
      ]
    },
    {
      "cell_type": "code",
      "execution_count": 2,
      "metadata": {
        "ExecuteTime": {
          "end_time": "2017-09-03T13:00:39.210959Z",
          "start_time": "2017-09-03T13:00:39.057800Z"
        },
        "colab": {
          "base_uri": "https://localhost:8080/",
          "height": 72
        },
        "colab_type": "code",
        "id": "EYU4DtLk65kX",
        "outputId": "cc3ee3e8-04d3-45ed-c109-fbc312e12691",
        "scrolled": true
      },
      "outputs": [
        {
          "name": "stderr",
          "output_type": "stream",
          "text": [
            "C:\\tools\\Anaconda3\\envs\\hsefs\\lib\\site-packages\\tensorflow\\python\\framework\\dtypes.py:519: FutureWarning: Passing (type, 1) or '1type' as a synonym of type is deprecated; in a future version of numpy, it will be understood as (type, (1,)) / '(1,)type'.\n",
            "  _np_qint8 = np.dtype([(\"qint8\", np.int8, 1)])\n",
            "C:\\tools\\Anaconda3\\envs\\hsefs\\lib\\site-packages\\tensorflow\\python\\framework\\dtypes.py:520: FutureWarning: Passing (type, 1) or '1type' as a synonym of type is deprecated; in a future version of numpy, it will be understood as (type, (1,)) / '(1,)type'.\n",
            "  _np_quint8 = np.dtype([(\"quint8\", np.uint8, 1)])\n",
            "C:\\tools\\Anaconda3\\envs\\hsefs\\lib\\site-packages\\tensorflow\\python\\framework\\dtypes.py:521: FutureWarning: Passing (type, 1) or '1type' as a synonym of type is deprecated; in a future version of numpy, it will be understood as (type, (1,)) / '(1,)type'.\n",
            "  _np_qint16 = np.dtype([(\"qint16\", np.int16, 1)])\n",
            "C:\\tools\\Anaconda3\\envs\\hsefs\\lib\\site-packages\\tensorflow\\python\\framework\\dtypes.py:522: FutureWarning: Passing (type, 1) or '1type' as a synonym of type is deprecated; in a future version of numpy, it will be understood as (type, (1,)) / '(1,)type'.\n",
            "  _np_quint16 = np.dtype([(\"quint16\", np.uint16, 1)])\n",
            "C:\\tools\\Anaconda3\\envs\\hsefs\\lib\\site-packages\\tensorflow\\python\\framework\\dtypes.py:523: FutureWarning: Passing (type, 1) or '1type' as a synonym of type is deprecated; in a future version of numpy, it will be understood as (type, (1,)) / '(1,)type'.\n",
            "  _np_qint32 = np.dtype([(\"qint32\", np.int32, 1)])\n",
            "C:\\tools\\Anaconda3\\envs\\hsefs\\lib\\site-packages\\tensorflow\\python\\framework\\dtypes.py:528: FutureWarning: Passing (type, 1) or '1type' as a synonym of type is deprecated; in a future version of numpy, it will be understood as (type, (1,)) / '(1,)type'.\n",
            "  np_resource = np.dtype([(\"resource\", np.ubyte, 1)])\n",
            "Using Theano backend.\n"
          ]
        },
        {
          "name": "stdout",
          "output_type": "stream",
          "text": [
            "1.8.0\n",
            "2.1.6\n"
          ]
        }
      ],
      "source": [
        "import tensorflow as tf\n",
        "import keras\n",
        "from keras import backend as K\n",
        "import numpy as np\n",
        "%matplotlib inline\n",
        "import matplotlib.pyplot as plt\n",
        "print(tf.__version__)\n",
        "print(keras.__version__)\n",
        "import cv2  # for image processing\n",
        "from sklearn.model_selection import train_test_split\n",
        "import scipy.io\n",
        "import os\n",
        "import tarfile\n",
        "#import keras_utils\n",
        "#from keras_utils import reset_tf_session "
      ]
    },
    {
      "cell_type": "markdown",
      "metadata": {
        "colab_type": "text",
        "id": "ybstz9Dy65ke"
      },
      "source": [
        "# Fill in your Coursera token and email\n",
        "To successfully submit your answers to our grader, please fill in your Coursera submission token and email"
      ]
    },
    {
      "cell_type": "code",
      "execution_count": null,
      "metadata": {
        "colab": {},
        "colab_type": "code",
        "id": "pw-6xG8O65kg",
        "scrolled": false
      },
      "outputs": [],
      "source": [
        "grader = grading.Grader(assignment_key=\"2v-uxpD7EeeMxQ6FWsz5LA\", \n",
        "                        all_parts=[\"wuwwC\", \"a4FK1\", \"qRsZ1\"])"
      ]
    },
    {
      "cell_type": "code",
      "execution_count": null,
      "metadata": {
        "colab": {},
        "colab_type": "code",
        "id": "iei42YyE65kl",
        "scrolled": false
      },
      "outputs": [],
      "source": [
        "# token expires every 30 min\n",
        "COURSERA_TOKEN =  ### YOUR TOKEN HERE\n",
        "COURSERA_EMAIL =  ### YOUR EMAIL HERE"
      ]
    },
    {
      "cell_type": "markdown",
      "metadata": {
        "colab_type": "text",
        "id": "jDj6lFCz65kq"
      },
      "source": [
        "# Load dataset"
      ]
    },
    {
      "cell_type": "markdown",
      "metadata": {
        "colab_type": "text",
        "id": "FHahksny65ks"
      },
      "source": [
        "Dataset was downloaded for you, it takes 12 min and 400mb.\n",
        "Relevant links (just in case):\n",
        "- http://www.robots.ox.ac.uk/~vgg/data/flowers/102/index.html\n",
        "- http://www.robots.ox.ac.uk/~vgg/data/flowers/102/102flowers.tgz\n",
        "- http://www.robots.ox.ac.uk/~vgg/data/flowers/102/imagelabels.mat"
      ]
    },
    {
      "cell_type": "code",
      "execution_count": null,
      "metadata": {
        "colab": {},
        "colab_type": "code",
        "id": "EwiJgJlK65ky",
        "scrolled": false
      },
      "outputs": [],
      "source": [
        "# we downloaded them for you, just link them here\n",
        "download_utils.link_week_3_resources()"
      ]
    },
    {
      "cell_type": "markdown",
      "metadata": {
        "colab_type": "text",
        "id": "KEh48Fgw65k3"
      },
      "source": [
        "# Prepare images for model"
      ]
    },
    {
      "cell_type": "code",
      "execution_count": 3,
      "metadata": {
        "ExecuteTime": {
          "end_time": "2017-09-03T13:00:39.214524Z",
          "start_time": "2017-09-03T13:00:39.212453Z"
        },
        "colab": {},
        "colab_type": "code",
        "id": "CaqHbdNJ65k4",
        "scrolled": false
      },
      "outputs": [],
      "source": [
        "# we will crop and resize input images to IMG_SIZE x IMG_SIZE\n",
        "IMG_SIZE = 250"
      ]
    },
    {
      "cell_type": "code",
      "execution_count": 4,
      "metadata": {
        "ExecuteTime": {
          "end_time": "2017-09-10T12:46:09.790818Z",
          "start_time": "2017-09-10T12:46:09.777771Z"
        },
        "colab": {},
        "colab_type": "code",
        "id": "kw0lfhn365lG",
        "scrolled": false
      },
      "outputs": [],
      "source": [
        "def decode_image_from_raw_bytes(raw_bytes):\n",
        "    img = cv2.imdecode(np.asarray(bytearray(raw_bytes), dtype=np.uint8), 1)\n",
        "    img = cv2.cvtColor(img, cv2.COLOR_BGR2RGB)\n",
        "    return img"
      ]
    },
    {
      "cell_type": "markdown",
      "metadata": {
        "colab_type": "text",
        "id": "TxzkAyxC65lL"
      },
      "source": [
        "We will take a center crop from each image like this:\n",
        "<img src=\"https://github.com/hse-aml/intro-to-dl/blob/master/week3/images/center_crop.jpg?raw=1\" style=\"width:50%\">"
      ]
    },
    {
      "cell_type": "code",
      "execution_count": 5,
      "metadata": {
        "ExecuteTime": {
          "end_time": "2017-09-03T13:00:39.393675Z",
          "start_time": "2017-09-03T13:00:39.302130Z"
        },
        "colab": {},
        "colab_type": "code",
        "id": "2hxtVlYg65lN",
        "scrolled": false
      },
      "outputs": [],
      "source": [
        "def image_center_crop(img):\n",
        "    \"\"\"\n",
        "    Makes a square center crop of an img, which is a [h, w, 3] numpy array.\n",
        "    Returns [min(h, w), min(h, w), 3] output with same width and height.\n",
        "    For cropping use numpy slicing.\n",
        "    \"\"\"\n",
        "    \n",
        "    h, w = img.shape[0], img.shape[1]\n",
        "    length = min(h, w)\n",
        "    \n",
        "    h_start = h//2 - length//2\n",
        "    h_end = h_start + length \n",
        "    w_start = w//2 - length//2\n",
        "    w_end = w_start + length \n",
        "    \n",
        "    cropped_img = img[h_start:h_end, w_start:w_end, ] ### YOUR CODE HERE\n",
        "    \n",
        "    \n",
        "    # checks for errors\n",
        "    h, w, c = img.shape\n",
        "    assert cropped_img.shape == (min(h, w), min(h, w), c), \"error in image_center_crop!\"\n",
        "    \n",
        "    return cropped_img"
      ]
    },
    {
      "cell_type": "code",
      "execution_count": 6,
      "metadata": {
        "ExecuteTime": {
          "end_time": "2017-09-03T13:00:39.506473Z",
          "start_time": "2017-09-03T13:00:39.395470Z"
        },
        "colab": {},
        "colab_type": "code",
        "id": "5JndoDLz65lS",
        "scrolled": false
      },
      "outputs": [],
      "source": [
        "def prepare_raw_bytes_for_model(raw_bytes, normalize_for_model=True):\n",
        "    img = decode_image_from_raw_bytes(raw_bytes)  # decode image raw bytes to matrix\n",
        "    img = image_center_crop(img)  # take squared center crop\n",
        "    img = cv2.resize(img, (IMG_SIZE, IMG_SIZE))  # resize for our model\n",
        "    if normalize_for_model:\n",
        "        img = img.astype(\"float32\")  # prepare for normalization\n",
        "        img = keras.applications.inception_v3.preprocess_input(img)  # normalize for model\n",
        "    return img"
      ]
    },
    {
      "cell_type": "code",
      "execution_count": 7,
      "metadata": {
        "colab": {},
        "colab_type": "code",
        "id": "vx3vCN_K65lY",
        "scrolled": false
      },
      "outputs": [],
      "source": [
        "# reads bytes directly from tar by filename (slow, but ok for testing, takes ~6 sec)\n",
        "def read_raw_from_tar(tar_fn, fn):\n",
        "    with tarfile.open(tar_fn) as f:\n",
        "        m = f.getmember(fn)\n",
        "        return f.extractfile(m).read()"
      ]
    },
    {
      "cell_type": "code",
      "execution_count": 8,
      "metadata": {
        "ExecuteTime": {
          "end_time": "2017-09-03T13:00:39.961301Z",
          "start_time": "2017-09-03T13:00:39.508004Z"
        },
        "colab": {
          "base_uri": "https://localhost:8080/",
          "height": 558
        },
        "colab_type": "code",
        "id": "Th7Isf2A65lc",
        "outputId": "40a6c4f6-ba6f-422a-ece4-63198b8882b8",
        "scrolled": false
      },
      "outputs": [
        {
          "ename": "FileNotFoundError",
          "evalue": "[Errno 2] No such file or directory: '102flowers.tgz'",
          "output_type": "error",
          "traceback": [
            "\u001b[1;31m---------------------------------------------------------------------------\u001b[0m",
            "\u001b[1;31mFileNotFoundError\u001b[0m                         Traceback (most recent call last)",
            "\u001b[1;32m<ipython-input-8-136f0f9d143b>\u001b[0m in \u001b[0;36m<module>\u001b[1;34m\u001b[0m\n\u001b[0;32m      1\u001b[0m \u001b[1;31m# test cropping\u001b[0m\u001b[1;33m\u001b[0m\u001b[1;33m\u001b[0m\u001b[1;33m\u001b[0m\u001b[0m\n\u001b[1;32m----> 2\u001b[1;33m \u001b[0mraw_bytes\u001b[0m \u001b[1;33m=\u001b[0m \u001b[0mread_raw_from_tar\u001b[0m\u001b[1;33m(\u001b[0m\u001b[1;34m\"102flowers.tgz\"\u001b[0m\u001b[1;33m,\u001b[0m \u001b[1;34m\"jpg/image_00001.jpg\"\u001b[0m\u001b[1;33m)\u001b[0m\u001b[1;33m\u001b[0m\u001b[1;33m\u001b[0m\u001b[0m\n\u001b[0m\u001b[0;32m      3\u001b[0m \u001b[1;33m\u001b[0m\u001b[0m\n\u001b[0;32m      4\u001b[0m \u001b[0mimg\u001b[0m \u001b[1;33m=\u001b[0m \u001b[0mdecode_image_from_raw_bytes\u001b[0m\u001b[1;33m(\u001b[0m\u001b[0mraw_bytes\u001b[0m\u001b[1;33m)\u001b[0m\u001b[1;33m\u001b[0m\u001b[1;33m\u001b[0m\u001b[0m\n\u001b[0;32m      5\u001b[0m \u001b[0mprint\u001b[0m\u001b[1;33m(\u001b[0m\u001b[0mimg\u001b[0m\u001b[1;33m.\u001b[0m\u001b[0mshape\u001b[0m\u001b[1;33m)\u001b[0m\u001b[1;33m\u001b[0m\u001b[1;33m\u001b[0m\u001b[0m\n",
            "\u001b[1;32m<ipython-input-7-c30aada397ff>\u001b[0m in \u001b[0;36mread_raw_from_tar\u001b[1;34m(tar_fn, fn)\u001b[0m\n\u001b[0;32m      1\u001b[0m \u001b[1;31m# reads bytes directly from tar by filename (slow, but ok for testing, takes ~6 sec)\u001b[0m\u001b[1;33m\u001b[0m\u001b[1;33m\u001b[0m\u001b[1;33m\u001b[0m\u001b[0m\n\u001b[0;32m      2\u001b[0m \u001b[1;32mdef\u001b[0m \u001b[0mread_raw_from_tar\u001b[0m\u001b[1;33m(\u001b[0m\u001b[0mtar_fn\u001b[0m\u001b[1;33m,\u001b[0m \u001b[0mfn\u001b[0m\u001b[1;33m)\u001b[0m\u001b[1;33m:\u001b[0m\u001b[1;33m\u001b[0m\u001b[1;33m\u001b[0m\u001b[0m\n\u001b[1;32m----> 3\u001b[1;33m     \u001b[1;32mwith\u001b[0m \u001b[0mtarfile\u001b[0m\u001b[1;33m.\u001b[0m\u001b[0mopen\u001b[0m\u001b[1;33m(\u001b[0m\u001b[0mtar_fn\u001b[0m\u001b[1;33m)\u001b[0m \u001b[1;32mas\u001b[0m \u001b[0mf\u001b[0m\u001b[1;33m:\u001b[0m\u001b[1;33m\u001b[0m\u001b[1;33m\u001b[0m\u001b[0m\n\u001b[0m\u001b[0;32m      4\u001b[0m         \u001b[0mm\u001b[0m \u001b[1;33m=\u001b[0m \u001b[0mf\u001b[0m\u001b[1;33m.\u001b[0m\u001b[0mgetmember\u001b[0m\u001b[1;33m(\u001b[0m\u001b[0mfn\u001b[0m\u001b[1;33m)\u001b[0m\u001b[1;33m\u001b[0m\u001b[1;33m\u001b[0m\u001b[0m\n\u001b[0;32m      5\u001b[0m         \u001b[1;32mreturn\u001b[0m \u001b[0mf\u001b[0m\u001b[1;33m.\u001b[0m\u001b[0mextractfile\u001b[0m\u001b[1;33m(\u001b[0m\u001b[0mm\u001b[0m\u001b[1;33m)\u001b[0m\u001b[1;33m.\u001b[0m\u001b[0mread\u001b[0m\u001b[1;33m(\u001b[0m\u001b[1;33m)\u001b[0m\u001b[1;33m\u001b[0m\u001b[1;33m\u001b[0m\u001b[0m\n",
            "\u001b[1;32mC:\\tools\\Anaconda3\\envs\\hsefs\\lib\\tarfile.py\u001b[0m in \u001b[0;36mopen\u001b[1;34m(cls, name, mode, fileobj, bufsize, **kwargs)\u001b[0m\n\u001b[0;32m   1571\u001b[0m                     \u001b[0msaved_pos\u001b[0m \u001b[1;33m=\u001b[0m \u001b[0mfileobj\u001b[0m\u001b[1;33m.\u001b[0m\u001b[0mtell\u001b[0m\u001b[1;33m(\u001b[0m\u001b[1;33m)\u001b[0m\u001b[1;33m\u001b[0m\u001b[1;33m\u001b[0m\u001b[0m\n\u001b[0;32m   1572\u001b[0m                 \u001b[1;32mtry\u001b[0m\u001b[1;33m:\u001b[0m\u001b[1;33m\u001b[0m\u001b[1;33m\u001b[0m\u001b[0m\n\u001b[1;32m-> 1573\u001b[1;33m                     \u001b[1;32mreturn\u001b[0m \u001b[0mfunc\u001b[0m\u001b[1;33m(\u001b[0m\u001b[0mname\u001b[0m\u001b[1;33m,\u001b[0m \u001b[1;34m\"r\"\u001b[0m\u001b[1;33m,\u001b[0m \u001b[0mfileobj\u001b[0m\u001b[1;33m,\u001b[0m \u001b[1;33m**\u001b[0m\u001b[0mkwargs\u001b[0m\u001b[1;33m)\u001b[0m\u001b[1;33m\u001b[0m\u001b[1;33m\u001b[0m\u001b[0m\n\u001b[0m\u001b[0;32m   1574\u001b[0m                 \u001b[1;32mexcept\u001b[0m \u001b[1;33m(\u001b[0m\u001b[0mReadError\u001b[0m\u001b[1;33m,\u001b[0m \u001b[0mCompressionError\u001b[0m\u001b[1;33m)\u001b[0m\u001b[1;33m:\u001b[0m\u001b[1;33m\u001b[0m\u001b[1;33m\u001b[0m\u001b[0m\n\u001b[0;32m   1575\u001b[0m                     \u001b[1;32mif\u001b[0m \u001b[0mfileobj\u001b[0m \u001b[1;32mis\u001b[0m \u001b[1;32mnot\u001b[0m \u001b[1;32mNone\u001b[0m\u001b[1;33m:\u001b[0m\u001b[1;33m\u001b[0m\u001b[1;33m\u001b[0m\u001b[0m\n",
            "\u001b[1;32mC:\\tools\\Anaconda3\\envs\\hsefs\\lib\\tarfile.py\u001b[0m in \u001b[0;36mgzopen\u001b[1;34m(cls, name, mode, fileobj, compresslevel, **kwargs)\u001b[0m\n\u001b[0;32m   1636\u001b[0m \u001b[1;33m\u001b[0m\u001b[0m\n\u001b[0;32m   1637\u001b[0m         \u001b[1;32mtry\u001b[0m\u001b[1;33m:\u001b[0m\u001b[1;33m\u001b[0m\u001b[1;33m\u001b[0m\u001b[0m\n\u001b[1;32m-> 1638\u001b[1;33m             \u001b[0mfileobj\u001b[0m \u001b[1;33m=\u001b[0m \u001b[0mgzip\u001b[0m\u001b[1;33m.\u001b[0m\u001b[0mGzipFile\u001b[0m\u001b[1;33m(\u001b[0m\u001b[0mname\u001b[0m\u001b[1;33m,\u001b[0m \u001b[0mmode\u001b[0m \u001b[1;33m+\u001b[0m \u001b[1;34m\"b\"\u001b[0m\u001b[1;33m,\u001b[0m \u001b[0mcompresslevel\u001b[0m\u001b[1;33m,\u001b[0m \u001b[0mfileobj\u001b[0m\u001b[1;33m)\u001b[0m\u001b[1;33m\u001b[0m\u001b[1;33m\u001b[0m\u001b[0m\n\u001b[0m\u001b[0;32m   1639\u001b[0m         \u001b[1;32mexcept\u001b[0m \u001b[0mOSError\u001b[0m\u001b[1;33m:\u001b[0m\u001b[1;33m\u001b[0m\u001b[1;33m\u001b[0m\u001b[0m\n\u001b[0;32m   1640\u001b[0m             \u001b[1;32mif\u001b[0m \u001b[0mfileobj\u001b[0m \u001b[1;32mis\u001b[0m \u001b[1;32mnot\u001b[0m \u001b[1;32mNone\u001b[0m \u001b[1;32mand\u001b[0m \u001b[0mmode\u001b[0m \u001b[1;33m==\u001b[0m \u001b[1;34m'r'\u001b[0m\u001b[1;33m:\u001b[0m\u001b[1;33m\u001b[0m\u001b[1;33m\u001b[0m\u001b[0m\n",
            "\u001b[1;32mC:\\tools\\Anaconda3\\envs\\hsefs\\lib\\gzip.py\u001b[0m in \u001b[0;36m__init__\u001b[1;34m(self, filename, mode, compresslevel, fileobj, mtime)\u001b[0m\n\u001b[0;32m    161\u001b[0m             \u001b[0mmode\u001b[0m \u001b[1;33m+=\u001b[0m \u001b[1;34m'b'\u001b[0m\u001b[1;33m\u001b[0m\u001b[1;33m\u001b[0m\u001b[0m\n\u001b[0;32m    162\u001b[0m         \u001b[1;32mif\u001b[0m \u001b[0mfileobj\u001b[0m \u001b[1;32mis\u001b[0m \u001b[1;32mNone\u001b[0m\u001b[1;33m:\u001b[0m\u001b[1;33m\u001b[0m\u001b[1;33m\u001b[0m\u001b[0m\n\u001b[1;32m--> 163\u001b[1;33m             \u001b[0mfileobj\u001b[0m \u001b[1;33m=\u001b[0m \u001b[0mself\u001b[0m\u001b[1;33m.\u001b[0m\u001b[0mmyfileobj\u001b[0m \u001b[1;33m=\u001b[0m \u001b[0mbuiltins\u001b[0m\u001b[1;33m.\u001b[0m\u001b[0mopen\u001b[0m\u001b[1;33m(\u001b[0m\u001b[0mfilename\u001b[0m\u001b[1;33m,\u001b[0m \u001b[0mmode\u001b[0m \u001b[1;32mor\u001b[0m \u001b[1;34m'rb'\u001b[0m\u001b[1;33m)\u001b[0m\u001b[1;33m\u001b[0m\u001b[1;33m\u001b[0m\u001b[0m\n\u001b[0m\u001b[0;32m    164\u001b[0m         \u001b[1;32mif\u001b[0m \u001b[0mfilename\u001b[0m \u001b[1;32mis\u001b[0m \u001b[1;32mNone\u001b[0m\u001b[1;33m:\u001b[0m\u001b[1;33m\u001b[0m\u001b[1;33m\u001b[0m\u001b[0m\n\u001b[0;32m    165\u001b[0m             \u001b[0mfilename\u001b[0m \u001b[1;33m=\u001b[0m \u001b[0mgetattr\u001b[0m\u001b[1;33m(\u001b[0m\u001b[0mfileobj\u001b[0m\u001b[1;33m,\u001b[0m \u001b[1;34m'name'\u001b[0m\u001b[1;33m,\u001b[0m \u001b[1;34m''\u001b[0m\u001b[1;33m)\u001b[0m\u001b[1;33m\u001b[0m\u001b[1;33m\u001b[0m\u001b[0m\n",
            "\u001b[1;31mFileNotFoundError\u001b[0m: [Errno 2] No such file or directory: '102flowers.tgz'"
          ]
        }
      ],
      "source": [
        "# test cropping\n",
        "raw_bytes = read_raw_from_tar(\"102flowers.tgz\", \"jpg/image_00001.jpg\")\n",
        "\n",
        "img = decode_image_from_raw_bytes(raw_bytes)\n",
        "print(img.shape)\n",
        "plt.imshow(img)\n",
        "plt.show()\n",
        "\n",
        "img = prepare_raw_bytes_for_model(raw_bytes, normalize_for_model=False)\n",
        "print(img.shape)\n",
        "plt.imshow(img)\n",
        "plt.show()"
      ]
    },
    {
      "cell_type": "code",
      "execution_count": null,
      "metadata": {
        "colab": {},
        "colab_type": "code",
        "id": "1mTSKUkm65li",
        "scrolled": false
      },
      "outputs": [],
      "source": [
        "## GRADED PART, DO NOT CHANGE!\n",
        "# Test image preparation for model\n",
        "prepared_img = prepare_raw_bytes_for_model(read_raw_from_tar(\"102flowers.tgz\", \"jpg/image_00001.jpg\"))\n",
        "grader.set_answer(\"qRsZ1\", list(prepared_img.shape) + [np.mean(prepared_img), np.std(prepared_img)])"
      ]
    },
    {
      "cell_type": "code",
      "execution_count": null,
      "metadata": {
        "colab": {},
        "colab_type": "code",
        "id": "zuOQ3JoO65ln",
        "scrolled": false
      },
      "outputs": [],
      "source": [
        "# you can make submission with answers so far to check yourself at this stage\n",
        "grader.submit(COURSERA_EMAIL, COURSERA_TOKEN)"
      ]
    },
    {
      "cell_type": "markdown",
      "metadata": {
        "colab_type": "text",
        "id": "o6kTD-4M65lr"
      },
      "source": [
        "# Prepare for training"
      ]
    },
    {
      "cell_type": "code",
      "execution_count": 15,
      "metadata": {
        "colab": {
          "base_uri": "https://localhost:8080/",
          "height": 35
        },
        "colab_type": "code",
        "id": "c5JBO0mB65ls",
        "outputId": "7796c2f1-2f0c-4b03-ed49-b8c6ddad0f67",
        "scrolled": false
      },
      "outputs": [
        {
          "name": "stdout",
          "output_type": "stream",
          "text": [
            "102\n"
          ]
        }
      ],
      "source": [
        "# read all filenames and labels for them\n",
        "\n",
        "# read filenames firectly from tar\n",
        "def get_all_filenames(tar_fn):\n",
        "    with tarfile.open(tar_fn) as f:\n",
        "        return [m.name for m in f.getmembers() if m.isfile()]\n",
        "\n",
        "all_files = sorted(get_all_filenames(\"102flowers.tgz\"))  # list all files in tar sorted by name\n",
        "all_labels = scipy.io.loadmat('imagelabels.mat')['labels'][0] - 1  # read class labels (0, 1, 2, ...)\n",
        "# all_files and all_labels are aligned now\n",
        "N_CLASSES = len(np.unique(all_labels))\n",
        "print(N_CLASSES)"
      ]
    },
    {
      "cell_type": "code",
      "execution_count": null,
      "metadata": {
        "ExecuteTime": {
          "end_time": "2017-09-03T13:00:40.185940Z",
          "start_time": "2017-09-03T13:00:40.175758Z"
        },
        "colab": {},
        "colab_type": "code",
        "id": "SGrK55C_65lw",
        "scrolled": false
      },
      "outputs": [],
      "source": [
        "# split into train/test\n",
        "tr_files, te_files, tr_labels, te_labels = \\\n",
        "    train_test_split(all_files, all_labels, test_size=0.2, random_state=42, stratify=all_labels)"
      ]
    },
    {
      "cell_type": "code",
      "execution_count": null,
      "metadata": {
        "colab": {},
        "colab_type": "code",
        "id": "It0zYv-E65l0",
        "scrolled": false
      },
      "outputs": [],
      "source": [
        "# will yield raw image bytes from tar with corresponding label\n",
        "def raw_generator_with_label_from_tar(tar_fn, files, labels):\n",
        "    label_by_fn = dict(zip(files, labels))\n",
        "    with tarfile.open(tar_fn) as f:\n",
        "        while True:\n",
        "            m = f.next()\n",
        "            if m is None:\n",
        "                break\n",
        "            if m.name in label_by_fn:\n",
        "                yield f.extractfile(m).read(), label_by_fn[m.name]"
      ]
    },
    {
      "cell_type": "code",
      "execution_count": null,
      "metadata": {
        "ExecuteTime": {
          "end_time": "2017-09-03T13:00:40.529088Z",
          "start_time": "2017-09-03T13:00:40.423114Z"
        },
        "colab": {},
        "colab_type": "code",
        "id": "4qZZ-2E-65l4",
        "scrolled": false
      },
      "outputs": [],
      "source": [
        "# batch generator\n",
        "BATCH_SIZE = 32\n",
        "\n",
        "def batch_generator(items, batch_size):\n",
        "    \"\"\"\n",
        "    Implement batch generator that yields items in batches of size batch_size.\n",
        "    There's no need to shuffle input items, just chop them into batches.\n",
        "    Remember about the last batch that can be smaller than batch_size!\n",
        "    Input: any iterable (list, generator, ...). You should do `for item in items: ...`\n",
        "        In case of generator you can pass through your items only once!\n",
        "    Output: In output yield each batch as a list of items.\n",
        "    \"\"\"\n",
        "    con = 0\n",
        "    output_batch = []\n",
        "    \n",
        "    for item in items:\n",
        "        output_batch.append(item)\n",
        "        con += 1\n",
        "        if con == batch_size:\n",
        "            yield output_batch\n",
        "            \n",
        "            output_batch = []\n",
        "            con = 0\n",
        "            \n",
        "    yield output_batch\n",
        "    ### YOUR CODE HERE"
      ]
    },
    {
      "cell_type": "code",
      "execution_count": null,
      "metadata": {
        "colab": {},
        "colab_type": "code",
        "id": "S3H-z0os65l8",
        "scrolled": false
      },
      "outputs": [],
      "source": [
        "## GRADED PART, DO NOT CHANGE!\n",
        "# Test batch generator\n",
        "def _test_items_generator():\n",
        "    for i in range(10):\n",
        "        yield i\n",
        "\n",
        "grader.set_answer(\"a4FK1\", list(map(lambda x: len(x), batch_generator(_test_items_generator(), 3))))"
      ]
    },
    {
      "cell_type": "code",
      "execution_count": null,
      "metadata": {
        "colab": {},
        "colab_type": "code",
        "id": "v8tRjgvz65l_",
        "scrolled": false
      },
      "outputs": [],
      "source": [
        "# you can make submission with answers so far to check yourself at this stage\n",
        "grader.submit(COURSERA_EMAIL, COURSERA_TOKEN)"
      ]
    },
    {
      "cell_type": "code",
      "execution_count": null,
      "metadata": {
        "ExecuteTime": {
          "end_time": "2017-09-03T13:00:40.637615Z",
          "start_time": "2017-09-03T13:00:40.530642Z"
        },
        "colab": {},
        "colab_type": "code",
        "id": "jXYotGhz65mF",
        "scrolled": false
      },
      "outputs": [],
      "source": [
        "def train_generator(files, labels):\n",
        "    while True:  # so that Keras can loop through this as long as it wants\n",
        "        for batch in batch_generator(raw_generator_with_label_from_tar(\n",
        "                \"102flowers.tgz\", files, labels), BATCH_SIZE):\n",
        "            # prepare batch images\n",
        "            batch_imgs = []\n",
        "            batch_targets = []\n",
        "            for raw, label in batch:\n",
        "                img = prepare_raw_bytes_for_model(raw)\n",
        "                batch_imgs.append(img)\n",
        "                batch_targets.append(label)\n",
        "            # stack images into 4D tensor [batch_size, img_size, img_size, 3]\n",
        "            batch_imgs = np.stack(batch_imgs, axis=0)\n",
        "            # convert targets into 2D tensor [batch_size, num_classes]\n",
        "            batch_targets = keras.utils.np_utils.to_categorical(batch_targets, N_CLASSES)\n",
        "            yield batch_imgs, batch_targets"
      ]
    },
    {
      "cell_type": "code",
      "execution_count": 21,
      "metadata": {
        "ExecuteTime": {
          "end_time": "2017-09-03T13:00:41.092659Z",
          "start_time": "2017-09-03T13:00:40.639132Z"
        },
        "colab": {
          "base_uri": "https://localhost:8080/",
          "height": 287
        },
        "colab_type": "code",
        "id": "oGdUvmz065mI",
        "outputId": "5257025c-10ff-4370-b7ab-dbd8e2bf0c60",
        "scrolled": false
      },
      "outputs": [
        {
          "name": "stdout",
          "output_type": "stream",
          "text": [
            "(32, 250, 250, 3) (32, 102)\n"
          ]
        },
        {
          "data": {
            "image/png": "[encoded data removed]",
            "text/plain": [
              "<Figure size 432x288 with 1 Axes>"
            ]
          },
          "metadata": {
            "tags": []
          },
          "output_type": "display_data"
        }
      ],
      "source": [
        "# test training generator\n",
        "for _ in train_generator(tr_files, tr_labels):\n",
        "    print(_[0].shape, _[1].shape)\n",
        "    plt.imshow(np.clip(_[0][0] / 2. + 0.5, 0, 1))\n",
        "    break"
      ]
    },
    {
      "cell_type": "markdown",
      "metadata": {
        "colab_type": "text",
        "id": "OnuwbQBr65mL"
      },
      "source": [
        "# Training"
      ]
    },
    {
      "cell_type": "markdown",
      "metadata": {
        "ExecuteTime": {
          "end_time": "2017-09-10T13:16:35.109044Z",
          "start_time": "2017-09-10T13:16:35.105127Z"
        },
        "colab_type": "text",
        "id": "Zls-i1hW65mM"
      },
      "source": [
        "You cannot train such a huge architecture from scratch with such a small dataset.\n",
        "\n",
        "But using fine-tuning of last layers of pre-trained network you can get a pretty good classifier very quickly."
      ]
    },
    {
      "cell_type": "code",
      "execution_count": 22,
      "metadata": {
        "ExecuteTime": {
          "end_time": "2017-09-03T13:00:41.097588Z",
          "start_time": "2017-09-03T13:00:41.094216Z"
        },
        "colab": {
          "base_uri": "https://localhost:8080/",
          "height": 239
        },
        "colab_type": "code",
        "id": "k9VGdiH565mN",
        "outputId": "509afea8-b046-43fb-f607-570ef6b6659d",
        "scrolled": false
      },
      "outputs": [
        {
          "name": "stderr",
          "output_type": "stream",
          "text": [
            "WARNING: Logging before flag parsing goes to stderr.\n",
            "W0802 06:22:15.843387 139950620673920 deprecation_wrapper.py:119] From /content/keras_utils.py:68: The name tf.get_default_session is deprecated. Please use tf.compat.v1.get_default_session instead.\n",
            "\n",
            "W0802 06:22:15.846811 139950620673920 deprecation_wrapper.py:119] From /usr/local/lib/python3.6/dist-packages/keras/backend/tensorflow_backend.py:79: The name tf.reset_default_graph is deprecated. Please use tf.compat.v1.reset_default_graph instead.\n",
            "\n",
            "W0802 06:22:15.848164 139950620673920 deprecation_wrapper.py:119] From /usr/local/lib/python3.6/dist-packages/keras/backend/tensorflow_backend.py:82: The name tf.placeholder is deprecated. Please use tf.compat.v1.placeholder instead.\n",
            "\n",
            "W0802 06:22:15.862708 139950620673920 deprecation_wrapper.py:119] From /usr/local/lib/python3.6/dist-packages/keras/backend/tensorflow_backend.py:84: The name tf.get_default_graph is deprecated. Please use tf.compat.v1.get_default_graph instead.\n",
            "\n",
            "W0802 06:22:15.865315 139950620673920 deprecation_wrapper.py:119] From /content/keras_utils.py:75: The name tf.ConfigProto is deprecated. Please use tf.compat.v1.ConfigProto instead.\n",
            "\n"
          ]
        }
      ],
      "source": [
        "# remember to clear session if you start building graph from scratch!\n",
        "s = reset_tf_session()\n",
        "# don't call K.set_learning_phase() !!! (otherwise will enable dropout in train/test simultaneously)"
      ]
    },
    {
      "cell_type": "code",
      "execution_count": null,
      "metadata": {
        "ExecuteTime": {
          "end_time": "2017-09-03T13:00:41.222209Z",
          "start_time": "2017-09-03T13:00:41.098974Z"
        },
        "colab": {},
        "colab_type": "code",
        "id": "NGQSaT6265mT",
        "scrolled": false
      },
      "outputs": [],
      "source": [
        "def inception(use_imagenet=True):\n",
        "    # load pre-trained model graph, don't add final layer\n",
        "    model = keras.applications.InceptionV3(include_top=False, input_shape=(IMG_SIZE, IMG_SIZE, 3),\n",
        "                                          weights='imagenet' if use_imagenet else None)\n",
        "    # add global pooling just like in InceptionV3\n",
        "    new_output = keras.layers.GlobalAveragePooling2D()(model.output)\n",
        "    # add new dense layer for our labels\n",
        "    new_output = keras.layers.Dense(N_CLASSES, activation='softmax')(new_output)\n",
        "    model = keras.engine.training.Model(model.inputs, new_output)\n",
        "    return model"
      ]
    },
    {
      "cell_type": "code",
      "execution_count": 24,
      "metadata": {
        "ExecuteTime": {
          "end_time": "2017-09-03T13:00:45.150429Z",
          "start_time": "2017-09-03T13:00:41.223777Z"
        },
        "colab": {
          "base_uri": "https://localhost:8080/",
          "height": 110
        },
        "colab_type": "code",
        "id": "-chy6Q9665mX",
        "outputId": "3fbb5ca2-4ce6-47ff-9cb1-77262c98bc03",
        "scrolled": false
      },
      "outputs": [
        {
          "name": "stderr",
          "output_type": "stream",
          "text": [
            "W0802 06:22:21.954300 139950620673920 deprecation_wrapper.py:119] From /usr/local/lib/python3.6/dist-packages/keras/backend/tensorflow_backend.py:3378: The name tf.nn.max_pool is deprecated. Please use tf.nn.max_pool2d instead.\n",
            "\n",
            "W0802 06:22:22.325725 139950620673920 deprecation_wrapper.py:119] From /usr/local/lib/python3.6/dist-packages/keras/backend/tensorflow_backend.py:3380: The name tf.nn.avg_pool is deprecated. Please use tf.nn.avg_pool2d instead.\n",
            "\n"
          ]
        }
      ],
      "source": [
        "model = inception()"
      ]
    },
    {
      "cell_type": "code",
      "execution_count": 25,
      "metadata": {
        "ExecuteTime": {
          "end_time": "2017-09-03T13:00:45.252883Z",
          "start_time": "2017-09-03T13:00:45.152062Z"
        },
        "colab": {
          "base_uri": "https://localhost:8080/",
          "height": 1000
        },
        "colab_type": "code",
        "id": "p3-5yXdq65mb",
        "outputId": "82c34dfe-8179-4eae-e507-cb97fb9dee33",
        "scrolled": false
      },
      "outputs": [
        {
          "name": "stdout",
          "output_type": "stream",
          "text": [
            "____________________________________________________________________________________________________\n",
            "Layer (type)                     Output Shape          Param #     Connected to                     \n",
            "====================================================================================================\n",
            "input_1 (InputLayer)             (None, 250, 250, 3)   0                                            \n",
            "____________________________________________________________________________________________________\n",
            "conv2d_1 (Conv2D)                (None, 124, 124, 32)  864         input_1[0][0]                    \n",
            "____________________________________________________________________________________________________\n",
            "batch_normalization_1 (BatchNorm (None, 124, 124, 32)  96          conv2d_1[0][0]                   \n",
            "____________________________________________________________________________________________________\n",
            "activation_1 (Activation)        (None, 124, 124, 32)  0           batch_normalization_1[0][0]      \n",
            "____________________________________________________________________________________________________\n",
            "conv2d_2 (Conv2D)                (None, 122, 122, 32)  9216        activation_1[0][0]               \n",
            "____________________________________________________________________________________________________\n",
            "batch_normalization_2 (BatchNorm (None, 122, 122, 32)  96          conv2d_2[0][0]                   \n",
            "____________________________________________________________________________________________________\n",
            "activation_2 (Activation)        (None, 122, 122, 32)  0           batch_normalization_2[0][0]      \n",
            "____________________________________________________________________________________________________\n",
            "conv2d_3 (Conv2D)                (None, 122, 122, 64)  18432       activation_2[0][0]               \n",
            "____________________________________________________________________________________________________\n",
            "batch_normalization_3 (BatchNorm (None, 122, 122, 64)  192         conv2d_3[0][0]                   \n",
            "____________________________________________________________________________________________________\n",
            "activation_3 (Activation)        (None, 122, 122, 64)  0           batch_normalization_3[0][0]      \n",
            "____________________________________________________________________________________________________\n",
            "max_pooling2d_1 (MaxPooling2D)   (None, 60, 60, 64)    0           activation_3[0][0]               \n",
            "____________________________________________________________________________________________________\n",
            "conv2d_4 (Conv2D)                (None, 60, 60, 80)    5120        max_pooling2d_1[0][0]            \n",
            "____________________________________________________________________________________________________\n",
            "batch_normalization_4 (BatchNorm (None, 60, 60, 80)    240         conv2d_4[0][0]                   \n",
            "____________________________________________________________________________________________________\n",
            "activation_4 (Activation)        (None, 60, 60, 80)    0           batch_normalization_4[0][0]      \n",
            "____________________________________________________________________________________________________\n",
            "conv2d_5 (Conv2D)                (None, 58, 58, 192)   138240      activation_4[0][0]               \n",
            "____________________________________________________________________________________________________\n",
            "batch_normalization_5 (BatchNorm (None, 58, 58, 192)   576         conv2d_5[0][0]                   \n",
            "____________________________________________________________________________________________________\n",
            "activation_5 (Activation)        (None, 58, 58, 192)   0           batch_normalization_5[0][0]      \n",
            "____________________________________________________________________________________________________\n",
            "max_pooling2d_2 (MaxPooling2D)   (None, 28, 28, 192)   0           activation_5[0][0]               \n",
            "____________________________________________________________________________________________________\n",
            "conv2d_9 (Conv2D)                (None, 28, 28, 64)    12288       max_pooling2d_2[0][0]            \n",
            "____________________________________________________________________________________________________\n",
            "batch_normalization_9 (BatchNorm (None, 28, 28, 64)    192         conv2d_9[0][0]                   \n",
            "____________________________________________________________________________________________________\n",
            "activation_9 (Activation)        (None, 28, 28, 64)    0           batch_normalization_9[0][0]      \n",
            "____________________________________________________________________________________________________\n",
            "conv2d_7 (Conv2D)                (None, 28, 28, 48)    9216        max_pooling2d_2[0][0]            \n",
            "____________________________________________________________________________________________________\n",
            "conv2d_10 (Conv2D)               (None, 28, 28, 96)    55296       activation_9[0][0]               \n",
            "____________________________________________________________________________________________________\n",
            "batch_normalization_7 (BatchNorm (None, 28, 28, 48)    144         conv2d_7[0][0]                   \n",
            "____________________________________________________________________________________________________\n",
            "batch_normalization_10 (BatchNor (None, 28, 28, 96)    288         conv2d_10[0][0]                  \n",
            "____________________________________________________________________________________________________\n",
            "activation_7 (Activation)        (None, 28, 28, 48)    0           batch_normalization_7[0][0]      \n",
            "____________________________________________________________________________________________________\n",
            "activation_10 (Activation)       (None, 28, 28, 96)    0           batch_normalization_10[0][0]     \n",
            "____________________________________________________________________________________________________\n",
            "average_pooling2d_1 (AveragePool (None, 28, 28, 192)   0           max_pooling2d_2[0][0]            \n",
            "____________________________________________________________________________________________________\n",
            "conv2d_6 (Conv2D)                (None, 28, 28, 64)    12288       max_pooling2d_2[0][0]            \n",
            "____________________________________________________________________________________________________\n",
            "conv2d_8 (Conv2D)                (None, 28, 28, 64)    76800       activation_7[0][0]               \n",
            "____________________________________________________________________________________________________\n",
            "conv2d_11 (Conv2D)               (None, 28, 28, 96)    82944       activation_10[0][0]              \n",
            "____________________________________________________________________________________________________\n",
            "conv2d_12 (Conv2D)               (None, 28, 28, 32)    6144        average_pooling2d_1[0][0]        \n",
            "____________________________________________________________________________________________________\n",
            "batch_normalization_6 (BatchNorm (None, 28, 28, 64)    192         conv2d_6[0][0]                   \n",
            "____________________________________________________________________________________________________\n",
            "batch_normalization_8 (BatchNorm (None, 28, 28, 64)    192         conv2d_8[0][0]                   \n",
            "____________________________________________________________________________________________________\n",
            "batch_normalization_11 (BatchNor (None, 28, 28, 96)    288         conv2d_11[0][0]                  \n",
            "____________________________________________________________________________________________________\n",
            "batch_normalization_12 (BatchNor (None, 28, 28, 32)    96          conv2d_12[0][0]                  \n",
            "____________________________________________________________________________________________________\n",
            "activation_6 (Activation)        (None, 28, 28, 64)    0           batch_normalization_6[0][0]      \n",
            "____________________________________________________________________________________________________\n",
            "activation_8 (Activation)        (None, 28, 28, 64)    0           batch_normalization_8[0][0]      \n",
            "____________________________________________________________________________________________________\n",
            "activation_11 (Activation)       (None, 28, 28, 96)    0           batch_normalization_11[0][0]     \n",
            "____________________________________________________________________________________________________\n",
            "activation_12 (Activation)       (None, 28, 28, 32)    0           batch_normalization_12[0][0]     \n",
            "____________________________________________________________________________________________________\n",
            "mixed0 (Concatenate)             (None, 28, 28, 256)   0           activation_6[0][0]               \n",
            "                                                                   activation_8[0][0]               \n",
            "                                                                   activation_11[0][0]              \n",
            "                                                                   activation_12[0][0]              \n",
            "____________________________________________________________________________________________________\n",
            "conv2d_16 (Conv2D)               (None, 28, 28, 64)    16384       mixed0[0][0]                     \n",
            "____________________________________________________________________________________________________\n",
            "batch_normalization_16 (BatchNor (None, 28, 28, 64)    192         conv2d_16[0][0]                  \n",
            "____________________________________________________________________________________________________\n",
            "activation_16 (Activation)       (None, 28, 28, 64)    0           batch_normalization_16[0][0]     \n",
            "____________________________________________________________________________________________________\n",
            "conv2d_14 (Conv2D)               (None, 28, 28, 48)    12288       mixed0[0][0]                     \n",
            "____________________________________________________________________________________________________\n",
            "conv2d_17 (Conv2D)               (None, 28, 28, 96)    55296       activation_16[0][0]              \n",
            "____________________________________________________________________________________________________\n",
            "batch_normalization_14 (BatchNor (None, 28, 28, 48)    144         conv2d_14[0][0]                  \n",
            "____________________________________________________________________________________________________\n",
            "batch_normalization_17 (BatchNor (None, 28, 28, 96)    288         conv2d_17[0][0]                  \n",
            "____________________________________________________________________________________________________\n",
            "activation_14 (Activation)       (None, 28, 28, 48)    0           batch_normalization_14[0][0]     \n",
            "____________________________________________________________________________________________________\n",
            "activation_17 (Activation)       (None, 28, 28, 96)    0           batch_normalization_17[0][0]     \n",
            "____________________________________________________________________________________________________\n",
            "average_pooling2d_2 (AveragePool (None, 28, 28, 256)   0           mixed0[0][0]                     \n",
            "____________________________________________________________________________________________________\n",
            "conv2d_13 (Conv2D)               (None, 28, 28, 64)    16384       mixed0[0][0]                     \n",
            "____________________________________________________________________________________________________\n",
            "conv2d_15 (Conv2D)               (None, 28, 28, 64)    76800       activation_14[0][0]              \n",
            "____________________________________________________________________________________________________\n",
            "conv2d_18 (Conv2D)               (None, 28, 28, 96)    82944       activation_17[0][0]              \n",
            "____________________________________________________________________________________________________\n",
            "conv2d_19 (Conv2D)               (None, 28, 28, 64)    16384       average_pooling2d_2[0][0]        \n",
            "____________________________________________________________________________________________________\n",
            "batch_normalization_13 (BatchNor (None, 28, 28, 64)    192         conv2d_13[0][0]                  \n",
            "____________________________________________________________________________________________________\n",
            "batch_normalization_15 (BatchNor (None, 28, 28, 64)    192         conv2d_15[0][0]                  \n",
            "____________________________________________________________________________________________________\n",
            "batch_normalization_18 (BatchNor (None, 28, 28, 96)    288         conv2d_18[0][0]                  \n",
            "____________________________________________________________________________________________________\n",
            "batch_normalization_19 (BatchNor (None, 28, 28, 64)    192         conv2d_19[0][0]                  \n",
            "____________________________________________________________________________________________________\n",
            "activation_13 (Activation)       (None, 28, 28, 64)    0           batch_normalization_13[0][0]     \n",
            "____________________________________________________________________________________________________\n",
            "activation_15 (Activation)       (None, 28, 28, 64)    0           batch_normalization_15[0][0]     \n",
            "____________________________________________________________________________________________________\n",
            "activation_18 (Activation)       (None, 28, 28, 96)    0           batch_normalization_18[0][0]     \n",
            "____________________________________________________________________________________________________\n",
            "activation_19 (Activation)       (None, 28, 28, 64)    0           batch_normalization_19[0][0]     \n",
            "____________________________________________________________________________________________________\n",
            "mixed1 (Concatenate)             (None, 28, 28, 288)   0           activation_13[0][0]              \n",
            "                                                                   activation_15[0][0]              \n",
            "                                                                   activation_18[0][0]              \n",
            "                                                                   activation_19[0][0]              \n",
            "____________________________________________________________________________________________________\n",
            "conv2d_23 (Conv2D)               (None, 28, 28, 64)    18432       mixed1[0][0]                     \n",
            "____________________________________________________________________________________________________\n",
            "batch_normalization_23 (BatchNor (None, 28, 28, 64)    192         conv2d_23[0][0]                  \n",
            "____________________________________________________________________________________________________\n",
            "activation_23 (Activation)       (None, 28, 28, 64)    0           batch_normalization_23[0][0]     \n",
            "____________________________________________________________________________________________________\n",
            "conv2d_21 (Conv2D)               (None, 28, 28, 48)    13824       mixed1[0][0]                     \n",
            "____________________________________________________________________________________________________\n",
            "conv2d_24 (Conv2D)               (None, 28, 28, 96)    55296       activation_23[0][0]              \n",
            "____________________________________________________________________________________________________\n",
            "batch_normalization_21 (BatchNor (None, 28, 28, 48)    144         conv2d_21[0][0]                  \n",
            "____________________________________________________________________________________________________\n",
            "batch_normalization_24 (BatchNor (None, 28, 28, 96)    288         conv2d_24[0][0]                  \n",
            "____________________________________________________________________________________________________\n",
            "activation_21 (Activation)       (None, 28, 28, 48)    0           batch_normalization_21[0][0]     \n",
            "____________________________________________________________________________________________________\n",
            "activation_24 (Activation)       (None, 28, 28, 96)    0           batch_normalization_24[0][0]     \n",
            "____________________________________________________________________________________________________\n",
            "average_pooling2d_3 (AveragePool (None, 28, 28, 288)   0           mixed1[0][0]                     \n",
            "____________________________________________________________________________________________________\n",
            "conv2d_20 (Conv2D)               (None, 28, 28, 64)    18432       mixed1[0][0]                     \n",
            "____________________________________________________________________________________________________\n",
            "conv2d_22 (Conv2D)               (None, 28, 28, 64)    76800       activation_21[0][0]              \n",
            "____________________________________________________________________________________________________\n",
            "conv2d_25 (Conv2D)               (None, 28, 28, 96)    82944       activation_24[0][0]              \n",
            "____________________________________________________________________________________________________\n",
            "conv2d_26 (Conv2D)               (None, 28, 28, 64)    18432       average_pooling2d_3[0][0]        \n",
            "____________________________________________________________________________________________________\n",
            "batch_normalization_20 (BatchNor (None, 28, 28, 64)    192         conv2d_20[0][0]                  \n",
            "____________________________________________________________________________________________________\n",
            "batch_normalization_22 (BatchNor (None, 28, 28, 64)    192         conv2d_22[0][0]                  \n",
            "____________________________________________________________________________________________________\n",
            "batch_normalization_25 (BatchNor (None, 28, 28, 96)    288         conv2d_25[0][0]                  \n",
            "____________________________________________________________________________________________________\n",
            "batch_normalization_26 (BatchNor (None, 28, 28, 64)    192         conv2d_26[0][0]                  \n",
            "____________________________________________________________________________________________________\n",
            "activation_20 (Activation)       (None, 28, 28, 64)    0           batch_normalization_20[0][0]     \n",
            "____________________________________________________________________________________________________\n",
            "activation_22 (Activation)       (None, 28, 28, 64)    0           batch_normalization_22[0][0]     \n",
            "____________________________________________________________________________________________________\n",
            "activation_25 (Activation)       (None, 28, 28, 96)    0           batch_normalization_25[0][0]     \n",
            "____________________________________________________________________________________________________\n",
            "activation_26 (Activation)       (None, 28, 28, 64)    0           batch_normalization_26[0][0]     \n",
            "____________________________________________________________________________________________________\n",
            "mixed2 (Concatenate)             (None, 28, 28, 288)   0           activation_20[0][0]              \n",
            "                                                                   activation_22[0][0]              \n",
            "                                                                   activation_25[0][0]              \n",
            "                                                                   activation_26[0][0]              \n",
            "____________________________________________________________________________________________________\n",
            "conv2d_28 (Conv2D)               (None, 28, 28, 64)    18432       mixed2[0][0]                     \n",
            "____________________________________________________________________________________________________\n",
            "batch_normalization_28 (BatchNor (None, 28, 28, 64)    192         conv2d_28[0][0]                  \n",
            "____________________________________________________________________________________________________\n",
            "activation_28 (Activation)       (None, 28, 28, 64)    0           batch_normalization_28[0][0]     \n",
            "____________________________________________________________________________________________________\n",
            "conv2d_29 (Conv2D)               (None, 28, 28, 96)    55296       activation_28[0][0]              \n",
            "____________________________________________________________________________________________________\n",
            "batch_normalization_29 (BatchNor (None, 28, 28, 96)    288         conv2d_29[0][0]                  \n",
            "____________________________________________________________________________________________________\n",
            "activation_29 (Activation)       (None, 28, 28, 96)    0           batch_normalization_29[0][0]     \n",
            "____________________________________________________________________________________________________\n",
            "conv2d_27 (Conv2D)               (None, 13, 13, 384)   995328      mixed2[0][0]                     \n",
            "____________________________________________________________________________________________________\n",
            "conv2d_30 (Conv2D)               (None, 13, 13, 96)    82944       activation_29[0][0]              \n",
            "____________________________________________________________________________________________________\n",
            "batch_normalization_27 (BatchNor (None, 13, 13, 384)   1152        conv2d_27[0][0]                  \n",
            "____________________________________________________________________________________________________\n",
            "batch_normalization_30 (BatchNor (None, 13, 13, 96)    288         conv2d_30[0][0]                  \n",
            "____________________________________________________________________________________________________\n",
            "activation_27 (Activation)       (None, 13, 13, 384)   0           batch_normalization_27[0][0]     \n",
            "____________________________________________________________________________________________________\n",
            "activation_30 (Activation)       (None, 13, 13, 96)    0           batch_normalization_30[0][0]     \n",
            "____________________________________________________________________________________________________\n",
            "max_pooling2d_3 (MaxPooling2D)   (None, 13, 13, 288)   0           mixed2[0][0]                     \n",
            "____________________________________________________________________________________________________\n",
            "mixed3 (Concatenate)             (None, 13, 13, 768)   0           activation_27[0][0]              \n",
            "                                                                   activation_30[0][0]              \n",
            "                                                                   max_pooling2d_3[0][0]            \n",
            "____________________________________________________________________________________________________\n",
            "conv2d_35 (Conv2D)               (None, 13, 13, 128)   98304       mixed3[0][0]                     \n",
            "____________________________________________________________________________________________________\n",
            "batch_normalization_35 (BatchNor (None, 13, 13, 128)   384         conv2d_35[0][0]                  \n",
            "____________________________________________________________________________________________________\n",
            "activation_35 (Activation)       (None, 13, 13, 128)   0           batch_normalization_35[0][0]     \n",
            "____________________________________________________________________________________________________\n",
            "conv2d_36 (Conv2D)               (None, 13, 13, 128)   114688      activation_35[0][0]              \n",
            "____________________________________________________________________________________________________\n",
            "batch_normalization_36 (BatchNor (None, 13, 13, 128)   384         conv2d_36[0][0]                  \n",
            "____________________________________________________________________________________________________\n",
            "activation_36 (Activation)       (None, 13, 13, 128)   0           batch_normalization_36[0][0]     \n",
            "____________________________________________________________________________________________________\n",
            "conv2d_32 (Conv2D)               (None, 13, 13, 128)   98304       mixed3[0][0]                     \n",
            "____________________________________________________________________________________________________\n",
            "conv2d_37 (Conv2D)               (None, 13, 13, 128)   114688      activation_36[0][0]              \n",
            "____________________________________________________________________________________________________\n",
            "batch_normalization_32 (BatchNor (None, 13, 13, 128)   384         conv2d_32[0][0]                  \n",
            "____________________________________________________________________________________________________\n",
            "batch_normalization_37 (BatchNor (None, 13, 13, 128)   384         conv2d_37[0][0]                  \n",
            "____________________________________________________________________________________________________\n",
            "activation_32 (Activation)       (None, 13, 13, 128)   0           batch_normalization_32[0][0]     \n",
            "____________________________________________________________________________________________________\n",
            "activation_37 (Activation)       (None, 13, 13, 128)   0           batch_normalization_37[0][0]     \n",
            "____________________________________________________________________________________________________\n",
            "conv2d_33 (Conv2D)               (None, 13, 13, 128)   114688      activation_32[0][0]              \n",
            "____________________________________________________________________________________________________\n",
            "conv2d_38 (Conv2D)               (None, 13, 13, 128)   114688      activation_37[0][0]              \n",
            "____________________________________________________________________________________________________\n",
            "batch_normalization_33 (BatchNor (None, 13, 13, 128)   384         conv2d_33[0][0]                  \n",
            "____________________________________________________________________________________________________\n",
            "batch_normalization_38 (BatchNor (None, 13, 13, 128)   384         conv2d_38[0][0]                  \n",
            "____________________________________________________________________________________________________\n",
            "activation_33 (Activation)       (None, 13, 13, 128)   0           batch_normalization_33[0][0]     \n",
            "____________________________________________________________________________________________________\n",
            "activation_38 (Activation)       (None, 13, 13, 128)   0           batch_normalization_38[0][0]     \n",
            "____________________________________________________________________________________________________\n",
            "average_pooling2d_4 (AveragePool (None, 13, 13, 768)   0           mixed3[0][0]                     \n",
            "____________________________________________________________________________________________________\n",
            "conv2d_31 (Conv2D)               (None, 13, 13, 192)   147456      mixed3[0][0]                     \n",
            "____________________________________________________________________________________________________\n",
            "conv2d_34 (Conv2D)               (None, 13, 13, 192)   172032      activation_33[0][0]              \n",
            "____________________________________________________________________________________________________\n",
            "conv2d_39 (Conv2D)               (None, 13, 13, 192)   172032      activation_38[0][0]              \n",
            "____________________________________________________________________________________________________\n",
            "conv2d_40 (Conv2D)               (None, 13, 13, 192)   147456      average_pooling2d_4[0][0]        \n",
            "____________________________________________________________________________________________________\n",
            "batch_normalization_31 (BatchNor (None, 13, 13, 192)   576         conv2d_31[0][0]                  \n",
            "____________________________________________________________________________________________________\n",
            "batch_normalization_34 (BatchNor (None, 13, 13, 192)   576         conv2d_34[0][0]                  \n",
            "____________________________________________________________________________________________________\n",
            "batch_normalization_39 (BatchNor (None, 13, 13, 192)   576         conv2d_39[0][0]                  \n",
            "____________________________________________________________________________________________________\n",
            "batch_normalization_40 (BatchNor (None, 13, 13, 192)   576         conv2d_40[0][0]                  \n",
            "____________________________________________________________________________________________________\n",
            "activation_31 (Activation)       (None, 13, 13, 192)   0           batch_normalization_31[0][0]     \n",
            "____________________________________________________________________________________________________\n",
            "activation_34 (Activation)       (None, 13, 13, 192)   0           batch_normalization_34[0][0]     \n",
            "____________________________________________________________________________________________________\n",
            "activation_39 (Activation)       (None, 13, 13, 192)   0           batch_normalization_39[0][0]     \n",
            "____________________________________________________________________________________________________\n",
            "activation_40 (Activation)       (None, 13, 13, 192)   0           batch_normalization_40[0][0]     \n",
            "____________________________________________________________________________________________________\n",
            "mixed4 (Concatenate)             (None, 13, 13, 768)   0           activation_31[0][0]              \n",
            "                                                                   activation_34[0][0]              \n",
            "                                                                   activation_39[0][0]              \n",
            "                                                                   activation_40[0][0]              \n",
            "____________________________________________________________________________________________________\n",
            "conv2d_45 (Conv2D)               (None, 13, 13, 160)   122880      mixed4[0][0]                     \n",
            "____________________________________________________________________________________________________\n",
            "batch_normalization_45 (BatchNor (None, 13, 13, 160)   480         conv2d_45[0][0]                  \n",
            "____________________________________________________________________________________________________\n",
            "activation_45 (Activation)       (None, 13, 13, 160)   0           batch_normalization_45[0][0]     \n",
            "____________________________________________________________________________________________________\n",
            "conv2d_46 (Conv2D)               (None, 13, 13, 160)   179200      activation_45[0][0]              \n",
            "____________________________________________________________________________________________________\n",
            "batch_normalization_46 (BatchNor (None, 13, 13, 160)   480         conv2d_46[0][0]                  \n",
            "____________________________________________________________________________________________________\n",
            "activation_46 (Activation)       (None, 13, 13, 160)   0           batch_normalization_46[0][0]     \n",
            "____________________________________________________________________________________________________\n",
            "conv2d_42 (Conv2D)               (None, 13, 13, 160)   122880      mixed4[0][0]                     \n",
            "____________________________________________________________________________________________________\n",
            "conv2d_47 (Conv2D)               (None, 13, 13, 160)   179200      activation_46[0][0]              \n",
            "____________________________________________________________________________________________________\n",
            "batch_normalization_42 (BatchNor (None, 13, 13, 160)   480         conv2d_42[0][0]                  \n",
            "____________________________________________________________________________________________________\n",
            "batch_normalization_47 (BatchNor (None, 13, 13, 160)   480         conv2d_47[0][0]                  \n",
            "____________________________________________________________________________________________________\n",
            "activation_42 (Activation)       (None, 13, 13, 160)   0           batch_normalization_42[0][0]     \n",
            "____________________________________________________________________________________________________\n",
            "activation_47 (Activation)       (None, 13, 13, 160)   0           batch_normalization_47[0][0]     \n",
            "____________________________________________________________________________________________________\n",
            "conv2d_43 (Conv2D)               (None, 13, 13, 160)   179200      activation_42[0][0]              \n",
            "____________________________________________________________________________________________________\n",
            "conv2d_48 (Conv2D)               (None, 13, 13, 160)   179200      activation_47[0][0]              \n",
            "____________________________________________________________________________________________________\n",
            "batch_normalization_43 (BatchNor (None, 13, 13, 160)   480         conv2d_43[0][0]                  \n",
            "____________________________________________________________________________________________________\n",
            "batch_normalization_48 (BatchNor (None, 13, 13, 160)   480         conv2d_48[0][0]                  \n",
            "____________________________________________________________________________________________________\n",
            "activation_43 (Activation)       (None, 13, 13, 160)   0           batch_normalization_43[0][0]     \n",
            "____________________________________________________________________________________________________\n",
            "activation_48 (Activation)       (None, 13, 13, 160)   0           batch_normalization_48[0][0]     \n",
            "____________________________________________________________________________________________________\n",
            "average_pooling2d_5 (AveragePool (None, 13, 13, 768)   0           mixed4[0][0]                     \n",
            "____________________________________________________________________________________________________\n",
            "conv2d_41 (Conv2D)               (None, 13, 13, 192)   147456      mixed4[0][0]                     \n",
            "____________________________________________________________________________________________________\n",
            "conv2d_44 (Conv2D)               (None, 13, 13, 192)   215040      activation_43[0][0]              \n",
            "____________________________________________________________________________________________________\n",
            "conv2d_49 (Conv2D)               (None, 13, 13, 192)   215040      activation_48[0][0]              \n",
            "____________________________________________________________________________________________________\n",
            "conv2d_50 (Conv2D)               (None, 13, 13, 192)   147456      average_pooling2d_5[0][0]        \n",
            "____________________________________________________________________________________________________\n",
            "batch_normalization_41 (BatchNor (None, 13, 13, 192)   576         conv2d_41[0][0]                  \n",
            "____________________________________________________________________________________________________\n",
            "batch_normalization_44 (BatchNor (None, 13, 13, 192)   576         conv2d_44[0][0]                  \n",
            "____________________________________________________________________________________________________\n",
            "batch_normalization_49 (BatchNor (None, 13, 13, 192)   576         conv2d_49[0][0]                  \n",
            "____________________________________________________________________________________________________\n",
            "batch_normalization_50 (BatchNor (None, 13, 13, 192)   576         conv2d_50[0][0]                  \n",
            "____________________________________________________________________________________________________\n",
            "activation_41 (Activation)       (None, 13, 13, 192)   0           batch_normalization_41[0][0]     \n",
            "____________________________________________________________________________________________________\n",
            "activation_44 (Activation)       (None, 13, 13, 192)   0           batch_normalization_44[0][0]     \n",
            "____________________________________________________________________________________________________\n",
            "activation_49 (Activation)       (None, 13, 13, 192)   0           batch_normalization_49[0][0]     \n",
            "____________________________________________________________________________________________________\n",
            "activation_50 (Activation)       (None, 13, 13, 192)   0           batch_normalization_50[0][0]     \n",
            "____________________________________________________________________________________________________\n",
            "mixed5 (Concatenate)             (None, 13, 13, 768)   0           activation_41[0][0]              \n",
            "                                                                   activation_44[0][0]              \n",
            "                                                                   activation_49[0][0]              \n",
            "                                                                   activation_50[0][0]              \n",
            "____________________________________________________________________________________________________\n",
            "conv2d_55 (Conv2D)               (None, 13, 13, 160)   122880      mixed5[0][0]                     \n",
            "____________________________________________________________________________________________________\n",
            "batch_normalization_55 (BatchNor (None, 13, 13, 160)   480         conv2d_55[0][0]                  \n",
            "____________________________________________________________________________________________________\n",
            "activation_55 (Activation)       (None, 13, 13, 160)   0           batch_normalization_55[0][0]     \n",
            "____________________________________________________________________________________________________\n",
            "conv2d_56 (Conv2D)               (None, 13, 13, 160)   179200      activation_55[0][0]              \n",
            "____________________________________________________________________________________________________\n",
            "batch_normalization_56 (BatchNor (None, 13, 13, 160)   480         conv2d_56[0][0]                  \n",
            "____________________________________________________________________________________________________\n",
            "activation_56 (Activation)       (None, 13, 13, 160)   0           batch_normalization_56[0][0]     \n",
            "____________________________________________________________________________________________________\n",
            "conv2d_52 (Conv2D)               (None, 13, 13, 160)   122880      mixed5[0][0]                     \n",
            "____________________________________________________________________________________________________\n",
            "conv2d_57 (Conv2D)               (None, 13, 13, 160)   179200      activation_56[0][0]              \n",
            "____________________________________________________________________________________________________\n",
            "batch_normalization_52 (BatchNor (None, 13, 13, 160)   480         conv2d_52[0][0]                  \n",
            "____________________________________________________________________________________________________\n",
            "batch_normalization_57 (BatchNor (None, 13, 13, 160)   480         conv2d_57[0][0]                  \n",
            "____________________________________________________________________________________________________\n",
            "activation_52 (Activation)       (None, 13, 13, 160)   0           batch_normalization_52[0][0]     \n",
            "____________________________________________________________________________________________________\n",
            "activation_57 (Activation)       (None, 13, 13, 160)   0           batch_normalization_57[0][0]     \n",
            "____________________________________________________________________________________________________\n",
            "conv2d_53 (Conv2D)               (None, 13, 13, 160)   179200      activation_52[0][0]              \n",
            "____________________________________________________________________________________________________\n",
            "conv2d_58 (Conv2D)               (None, 13, 13, 160)   179200      activation_57[0][0]              \n",
            "____________________________________________________________________________________________________\n",
            "batch_normalization_53 (BatchNor (None, 13, 13, 160)   480         conv2d_53[0][0]                  \n",
            "____________________________________________________________________________________________________\n",
            "batch_normalization_58 (BatchNor (None, 13, 13, 160)   480         conv2d_58[0][0]                  \n",
            "____________________________________________________________________________________________________\n",
            "activation_53 (Activation)       (None, 13, 13, 160)   0           batch_normalization_53[0][0]     \n",
            "____________________________________________________________________________________________________\n",
            "activation_58 (Activation)       (None, 13, 13, 160)   0           batch_normalization_58[0][0]     \n",
            "____________________________________________________________________________________________________\n",
            "average_pooling2d_6 (AveragePool (None, 13, 13, 768)   0           mixed5[0][0]                     \n",
            "____________________________________________________________________________________________________\n",
            "conv2d_51 (Conv2D)               (None, 13, 13, 192)   147456      mixed5[0][0]                     \n",
            "____________________________________________________________________________________________________\n",
            "conv2d_54 (Conv2D)               (None, 13, 13, 192)   215040      activation_53[0][0]              \n",
            "____________________________________________________________________________________________________\n",
            "conv2d_59 (Conv2D)               (None, 13, 13, 192)   215040      activation_58[0][0]              \n",
            "____________________________________________________________________________________________________\n",
            "conv2d_60 (Conv2D)               (None, 13, 13, 192)   147456      average_pooling2d_6[0][0]        \n",
            "____________________________________________________________________________________________________\n",
            "batch_normalization_51 (BatchNor (None, 13, 13, 192)   576         conv2d_51[0][0]                  \n",
            "____________________________________________________________________________________________________\n",
            "batch_normalization_54 (BatchNor (None, 13, 13, 192)   576         conv2d_54[0][0]                  \n",
            "____________________________________________________________________________________________________\n",
            "batch_normalization_59 (BatchNor (None, 13, 13, 192)   576         conv2d_59[0][0]                  \n",
            "____________________________________________________________________________________________________\n",
            "batch_normalization_60 (BatchNor (None, 13, 13, 192)   576         conv2d_60[0][0]                  \n",
            "____________________________________________________________________________________________________\n",
            "activation_51 (Activation)       (None, 13, 13, 192)   0           batch_normalization_51[0][0]     \n",
            "____________________________________________________________________________________________________\n",
            "activation_54 (Activation)       (None, 13, 13, 192)   0           batch_normalization_54[0][0]     \n",
            "____________________________________________________________________________________________________\n",
            "activation_59 (Activation)       (None, 13, 13, 192)   0           batch_normalization_59[0][0]     \n",
            "____________________________________________________________________________________________________\n",
            "activation_60 (Activation)       (None, 13, 13, 192)   0           batch_normalization_60[0][0]     \n",
            "____________________________________________________________________________________________________\n",
            "mixed6 (Concatenate)             (None, 13, 13, 768)   0           activation_51[0][0]              \n",
            "                                                                   activation_54[0][0]              \n",
            "                                                                   activation_59[0][0]              \n",
            "                                                                   activation_60[0][0]              \n",
            "____________________________________________________________________________________________________\n",
            "conv2d_65 (Conv2D)               (None, 13, 13, 192)   147456      mixed6[0][0]                     \n",
            "____________________________________________________________________________________________________\n",
            "batch_normalization_65 (BatchNor (None, 13, 13, 192)   576         conv2d_65[0][0]                  \n",
            "____________________________________________________________________________________________________\n",
            "activation_65 (Activation)       (None, 13, 13, 192)   0           batch_normalization_65[0][0]     \n",
            "____________________________________________________________________________________________________\n",
            "conv2d_66 (Conv2D)               (None, 13, 13, 192)   258048      activation_65[0][0]              \n",
            "____________________________________________________________________________________________________\n",
            "batch_normalization_66 (BatchNor (None, 13, 13, 192)   576         conv2d_66[0][0]                  \n",
            "____________________________________________________________________________________________________\n",
            "activation_66 (Activation)       (None, 13, 13, 192)   0           batch_normalization_66[0][0]     \n",
            "____________________________________________________________________________________________________\n",
            "conv2d_62 (Conv2D)               (None, 13, 13, 192)   147456      mixed6[0][0]                     \n",
            "____________________________________________________________________________________________________\n",
            "conv2d_67 (Conv2D)               (None, 13, 13, 192)   258048      activation_66[0][0]              \n",
            "____________________________________________________________________________________________________\n",
            "batch_normalization_62 (BatchNor (None, 13, 13, 192)   576         conv2d_62[0][0]                  \n",
            "____________________________________________________________________________________________________\n",
            "batch_normalization_67 (BatchNor (None, 13, 13, 192)   576         conv2d_67[0][0]                  \n",
            "____________________________________________________________________________________________________\n",
            "activation_62 (Activation)       (None, 13, 13, 192)   0           batch_normalization_62[0][0]     \n",
            "____________________________________________________________________________________________________\n",
            "activation_67 (Activation)       (None, 13, 13, 192)   0           batch_normalization_67[0][0]     \n",
            "____________________________________________________________________________________________________\n",
            "conv2d_63 (Conv2D)               (None, 13, 13, 192)   258048      activation_62[0][0]              \n",
            "____________________________________________________________________________________________________\n",
            "conv2d_68 (Conv2D)               (None, 13, 13, 192)   258048      activation_67[0][0]              \n",
            "____________________________________________________________________________________________________\n",
            "batch_normalization_63 (BatchNor (None, 13, 13, 192)   576         conv2d_63[0][0]                  \n",
            "____________________________________________________________________________________________________\n",
            "batch_normalization_68 (BatchNor (None, 13, 13, 192)   576         conv2d_68[0][0]                  \n",
            "____________________________________________________________________________________________________\n",
            "activation_63 (Activation)       (None, 13, 13, 192)   0           batch_normalization_63[0][0]     \n",
            "____________________________________________________________________________________________________\n",
            "activation_68 (Activation)       (None, 13, 13, 192)   0           batch_normalization_68[0][0]     \n",
            "____________________________________________________________________________________________________\n",
            "average_pooling2d_7 (AveragePool (None, 13, 13, 768)   0           mixed6[0][0]                     \n",
            "____________________________________________________________________________________________________\n",
            "conv2d_61 (Conv2D)               (None, 13, 13, 192)   147456      mixed6[0][0]                     \n",
            "____________________________________________________________________________________________________\n",
            "conv2d_64 (Conv2D)               (None, 13, 13, 192)   258048      activation_63[0][0]              \n",
            "____________________________________________________________________________________________________\n",
            "conv2d_69 (Conv2D)               (None, 13, 13, 192)   258048      activation_68[0][0]              \n",
            "____________________________________________________________________________________________________\n",
            "conv2d_70 (Conv2D)               (None, 13, 13, 192)   147456      average_pooling2d_7[0][0]        \n",
            "____________________________________________________________________________________________________\n",
            "batch_normalization_61 (BatchNor (None, 13, 13, 192)   576         conv2d_61[0][0]                  \n",
            "____________________________________________________________________________________________________\n",
            "batch_normalization_64 (BatchNor (None, 13, 13, 192)   576         conv2d_64[0][0]                  \n",
            "____________________________________________________________________________________________________\n",
            "batch_normalization_69 (BatchNor (None, 13, 13, 192)   576         conv2d_69[0][0]                  \n",
            "____________________________________________________________________________________________________\n",
            "batch_normalization_70 (BatchNor (None, 13, 13, 192)   576         conv2d_70[0][0]                  \n",
            "____________________________________________________________________________________________________\n",
            "activation_61 (Activation)       (None, 13, 13, 192)   0           batch_normalization_61[0][0]     \n",
            "____________________________________________________________________________________________________\n",
            "activation_64 (Activation)       (None, 13, 13, 192)   0           batch_normalization_64[0][0]     \n",
            "____________________________________________________________________________________________________\n",
            "activation_69 (Activation)       (None, 13, 13, 192)   0           batch_normalization_69[0][0]     \n",
            "____________________________________________________________________________________________________\n",
            "activation_70 (Activation)       (None, 13, 13, 192)   0           batch_normalization_70[0][0]     \n",
            "____________________________________________________________________________________________________\n",
            "mixed7 (Concatenate)             (None, 13, 13, 768)   0           activation_61[0][0]              \n",
            "                                                                   activation_64[0][0]              \n",
            "                                                                   activation_69[0][0]              \n",
            "                                                                   activation_70[0][0]              \n",
            "____________________________________________________________________________________________________\n",
            "conv2d_73 (Conv2D)               (None, 13, 13, 192)   147456      mixed7[0][0]                     \n",
            "____________________________________________________________________________________________________\n",
            "batch_normalization_73 (BatchNor (None, 13, 13, 192)   576         conv2d_73[0][0]                  \n",
            "____________________________________________________________________________________________________\n",
            "activation_73 (Activation)       (None, 13, 13, 192)   0           batch_normalization_73[0][0]     \n",
            "____________________________________________________________________________________________________\n",
            "conv2d_74 (Conv2D)               (None, 13, 13, 192)   258048      activation_73[0][0]              \n",
            "____________________________________________________________________________________________________\n",
            "batch_normalization_74 (BatchNor (None, 13, 13, 192)   576         conv2d_74[0][0]                  \n",
            "____________________________________________________________________________________________________\n",
            "activation_74 (Activation)       (None, 13, 13, 192)   0           batch_normalization_74[0][0]     \n",
            "____________________________________________________________________________________________________\n",
            "conv2d_71 (Conv2D)               (None, 13, 13, 192)   147456      mixed7[0][0]                     \n",
            "____________________________________________________________________________________________________\n",
            "conv2d_75 (Conv2D)               (None, 13, 13, 192)   258048      activation_74[0][0]              \n",
            "____________________________________________________________________________________________________\n",
            "batch_normalization_71 (BatchNor (None, 13, 13, 192)   576         conv2d_71[0][0]                  \n",
            "____________________________________________________________________________________________________\n",
            "batch_normalization_75 (BatchNor (None, 13, 13, 192)   576         conv2d_75[0][0]                  \n",
            "____________________________________________________________________________________________________\n",
            "activation_71 (Activation)       (None, 13, 13, 192)   0           batch_normalization_71[0][0]     \n",
            "____________________________________________________________________________________________________\n",
            "activation_75 (Activation)       (None, 13, 13, 192)   0           batch_normalization_75[0][0]     \n",
            "____________________________________________________________________________________________________\n",
            "conv2d_72 (Conv2D)               (None, 6, 6, 320)     552960      activation_71[0][0]              \n",
            "____________________________________________________________________________________________________\n",
            "conv2d_76 (Conv2D)               (None, 6, 6, 192)     331776      activation_75[0][0]              \n",
            "____________________________________________________________________________________________________\n",
            "batch_normalization_72 (BatchNor (None, 6, 6, 320)     960         conv2d_72[0][0]                  \n",
            "____________________________________________________________________________________________________\n",
            "batch_normalization_76 (BatchNor (None, 6, 6, 192)     576         conv2d_76[0][0]                  \n",
            "____________________________________________________________________________________________________\n",
            "activation_72 (Activation)       (None, 6, 6, 320)     0           batch_normalization_72[0][0]     \n",
            "____________________________________________________________________________________________________\n",
            "activation_76 (Activation)       (None, 6, 6, 192)     0           batch_normalization_76[0][0]     \n",
            "____________________________________________________________________________________________________\n",
            "max_pooling2d_4 (MaxPooling2D)   (None, 6, 6, 768)     0           mixed7[0][0]                     \n",
            "____________________________________________________________________________________________________\n",
            "mixed8 (Concatenate)             (None, 6, 6, 1280)    0           activation_72[0][0]              \n",
            "                                                                   activation_76[0][0]              \n",
            "                                                                   max_pooling2d_4[0][0]            \n",
            "____________________________________________________________________________________________________\n",
            "conv2d_81 (Conv2D)               (None, 6, 6, 448)     573440      mixed8[0][0]                     \n",
            "____________________________________________________________________________________________________\n",
            "batch_normalization_81 (BatchNor (None, 6, 6, 448)     1344        conv2d_81[0][0]                  \n",
            "____________________________________________________________________________________________________\n",
            "activation_81 (Activation)       (None, 6, 6, 448)     0           batch_normalization_81[0][0]     \n",
            "____________________________________________________________________________________________________\n",
            "conv2d_78 (Conv2D)               (None, 6, 6, 384)     491520      mixed8[0][0]                     \n",
            "____________________________________________________________________________________________________\n",
            "conv2d_82 (Conv2D)               (None, 6, 6, 384)     1548288     activation_81[0][0]              \n",
            "____________________________________________________________________________________________________\n",
            "batch_normalization_78 (BatchNor (None, 6, 6, 384)     1152        conv2d_78[0][0]                  \n",
            "____________________________________________________________________________________________________\n",
            "batch_normalization_82 (BatchNor (None, 6, 6, 384)     1152        conv2d_82[0][0]                  \n",
            "____________________________________________________________________________________________________\n",
            "activation_78 (Activation)       (None, 6, 6, 384)     0           batch_normalization_78[0][0]     \n",
            "____________________________________________________________________________________________________\n",
            "activation_82 (Activation)       (None, 6, 6, 384)     0           batch_normalization_82[0][0]     \n",
            "____________________________________________________________________________________________________\n",
            "conv2d_79 (Conv2D)               (None, 6, 6, 384)     442368      activation_78[0][0]              \n",
            "____________________________________________________________________________________________________\n",
            "conv2d_80 (Conv2D)               (None, 6, 6, 384)     442368      activation_78[0][0]              \n",
            "____________________________________________________________________________________________________\n",
            "conv2d_83 (Conv2D)               (None, 6, 6, 384)     442368      activation_82[0][0]              \n",
            "____________________________________________________________________________________________________\n",
            "conv2d_84 (Conv2D)               (None, 6, 6, 384)     442368      activation_82[0][0]              \n",
            "____________________________________________________________________________________________________\n",
            "average_pooling2d_8 (AveragePool (None, 6, 6, 1280)    0           mixed8[0][0]                     \n",
            "____________________________________________________________________________________________________\n",
            "conv2d_77 (Conv2D)               (None, 6, 6, 320)     409600      mixed8[0][0]                     \n",
            "____________________________________________________________________________________________________\n",
            "batch_normalization_79 (BatchNor (None, 6, 6, 384)     1152        conv2d_79[0][0]                  \n",
            "____________________________________________________________________________________________________\n",
            "batch_normalization_80 (BatchNor (None, 6, 6, 384)     1152        conv2d_80[0][0]                  \n",
            "____________________________________________________________________________________________________\n",
            "batch_normalization_83 (BatchNor (None, 6, 6, 384)     1152        conv2d_83[0][0]                  \n",
            "____________________________________________________________________________________________________\n",
            "batch_normalization_84 (BatchNor (None, 6, 6, 384)     1152        conv2d_84[0][0]                  \n",
            "____________________________________________________________________________________________________\n",
            "conv2d_85 (Conv2D)               (None, 6, 6, 192)     245760      average_pooling2d_8[0][0]        \n",
            "____________________________________________________________________________________________________\n",
            "batch_normalization_77 (BatchNor (None, 6, 6, 320)     960         conv2d_77[0][0]                  \n",
            "____________________________________________________________________________________________________\n",
            "activation_79 (Activation)       (None, 6, 6, 384)     0           batch_normalization_79[0][0]     \n",
            "____________________________________________________________________________________________________\n",
            "activation_80 (Activation)       (None, 6, 6, 384)     0           batch_normalization_80[0][0]     \n",
            "____________________________________________________________________________________________________\n",
            "activation_83 (Activation)       (None, 6, 6, 384)     0           batch_normalization_83[0][0]     \n",
            "____________________________________________________________________________________________________\n",
            "activation_84 (Activation)       (None, 6, 6, 384)     0           batch_normalization_84[0][0]     \n",
            "____________________________________________________________________________________________________\n",
            "batch_normalization_85 (BatchNor (None, 6, 6, 192)     576         conv2d_85[0][0]                  \n",
            "____________________________________________________________________________________________________\n",
            "activation_77 (Activation)       (None, 6, 6, 320)     0           batch_normalization_77[0][0]     \n",
            "____________________________________________________________________________________________________\n",
            "mixed9_0 (Concatenate)           (None, 6, 6, 768)     0           activation_79[0][0]              \n",
            "                                                                   activation_80[0][0]              \n",
            "____________________________________________________________________________________________________\n",
            "concatenate_1 (Concatenate)      (None, 6, 6, 768)     0           activation_83[0][0]              \n",
            "                                                                   activation_84[0][0]              \n",
            "____________________________________________________________________________________________________\n",
            "activation_85 (Activation)       (None, 6, 6, 192)     0           batch_normalization_85[0][0]     \n",
            "____________________________________________________________________________________________________\n",
            "mixed9 (Concatenate)             (None, 6, 6, 2048)    0           activation_77[0][0]              \n",
            "                                                                   mixed9_0[0][0]                   \n",
            "                                                                   concatenate_1[0][0]              \n",
            "                                                                   activation_85[0][0]              \n",
            "____________________________________________________________________________________________________\n",
            "conv2d_90 (Conv2D)               (None, 6, 6, 448)     917504      mixed9[0][0]                     \n",
            "____________________________________________________________________________________________________\n",
            "batch_normalization_90 (BatchNor (None, 6, 6, 448)     1344        conv2d_90[0][0]                  \n",
            "____________________________________________________________________________________________________\n",
            "activation_90 (Activation)       (None, 6, 6, 448)     0           batch_normalization_90[0][0]     \n",
            "____________________________________________________________________________________________________\n",
            "conv2d_87 (Conv2D)               (None, 6, 6, 384)     786432      mixed9[0][0]                     \n",
            "____________________________________________________________________________________________________\n",
            "conv2d_91 (Conv2D)               (None, 6, 6, 384)     1548288     activation_90[0][0]              \n",
            "____________________________________________________________________________________________________\n",
            "batch_normalization_87 (BatchNor (None, 6, 6, 384)     1152        conv2d_87[0][0]                  \n",
            "____________________________________________________________________________________________________\n",
            "batch_normalization_91 (BatchNor (None, 6, 6, 384)     1152        conv2d_91[0][0]                  \n",
            "____________________________________________________________________________________________________\n",
            "activation_87 (Activation)       (None, 6, 6, 384)     0           batch_normalization_87[0][0]     \n",
            "____________________________________________________________________________________________________\n",
            "activation_91 (Activation)       (None, 6, 6, 384)     0           batch_normalization_91[0][0]     \n",
            "____________________________________________________________________________________________________\n",
            "conv2d_88 (Conv2D)               (None, 6, 6, 384)     442368      activation_87[0][0]              \n",
            "____________________________________________________________________________________________________\n",
            "conv2d_89 (Conv2D)               (None, 6, 6, 384)     442368      activation_87[0][0]              \n",
            "____________________________________________________________________________________________________\n",
            "conv2d_92 (Conv2D)               (None, 6, 6, 384)     442368      activation_91[0][0]              \n",
            "____________________________________________________________________________________________________\n",
            "conv2d_93 (Conv2D)               (None, 6, 6, 384)     442368      activation_91[0][0]              \n",
            "____________________________________________________________________________________________________\n",
            "average_pooling2d_9 (AveragePool (None, 6, 6, 2048)    0           mixed9[0][0]                     \n",
            "____________________________________________________________________________________________________\n",
            "conv2d_86 (Conv2D)               (None, 6, 6, 320)     655360      mixed9[0][0]                     \n",
            "____________________________________________________________________________________________________\n",
            "batch_normalization_88 (BatchNor (None, 6, 6, 384)     1152        conv2d_88[0][0]                  \n",
            "____________________________________________________________________________________________________\n",
            "batch_normalization_89 (BatchNor (None, 6, 6, 384)     1152        conv2d_89[0][0]                  \n",
            "____________________________________________________________________________________________________\n",
            "batch_normalization_92 (BatchNor (None, 6, 6, 384)     1152        conv2d_92[0][0]                  \n",
            "____________________________________________________________________________________________________\n",
            "batch_normalization_93 (BatchNor (None, 6, 6, 384)     1152        conv2d_93[0][0]                  \n",
            "____________________________________________________________________________________________________\n",
            "conv2d_94 (Conv2D)               (None, 6, 6, 192)     393216      average_pooling2d_9[0][0]        \n",
            "____________________________________________________________________________________________________\n",
            "batch_normalization_86 (BatchNor (None, 6, 6, 320)     960         conv2d_86[0][0]                  \n",
            "____________________________________________________________________________________________________\n",
            "activation_88 (Activation)       (None, 6, 6, 384)     0           batch_normalization_88[0][0]     \n",
            "____________________________________________________________________________________________________\n",
            "activation_89 (Activation)       (None, 6, 6, 384)     0           batch_normalization_89[0][0]     \n",
            "____________________________________________________________________________________________________\n",
            "activation_92 (Activation)       (None, 6, 6, 384)     0           batch_normalization_92[0][0]     \n",
            "____________________________________________________________________________________________________\n",
            "activation_93 (Activation)       (None, 6, 6, 384)     0           batch_normalization_93[0][0]     \n",
            "____________________________________________________________________________________________________\n",
            "batch_normalization_94 (BatchNor (None, 6, 6, 192)     576         conv2d_94[0][0]                  \n",
            "____________________________________________________________________________________________________\n",
            "activation_86 (Activation)       (None, 6, 6, 320)     0           batch_normalization_86[0][0]     \n",
            "____________________________________________________________________________________________________\n",
            "mixed9_1 (Concatenate)           (None, 6, 6, 768)     0           activation_88[0][0]              \n",
            "                                                                   activation_89[0][0]              \n",
            "____________________________________________________________________________________________________\n",
            "concatenate_2 (Concatenate)      (None, 6, 6, 768)     0           activation_92[0][0]              \n",
            "                                                                   activation_93[0][0]              \n",
            "____________________________________________________________________________________________________\n",
            "activation_94 (Activation)       (None, 6, 6, 192)     0           batch_normalization_94[0][0]     \n",
            "____________________________________________________________________________________________________\n",
            "mixed10 (Concatenate)            (None, 6, 6, 2048)    0           activation_86[0][0]              \n",
            "                                                                   mixed9_1[0][0]                   \n",
            "                                                                   concatenate_2[0][0]              \n",
            "                                                                   activation_94[0][0]              \n",
            "____________________________________________________________________________________________________\n",
            "global_average_pooling2d_1 (Glob (None, 2048)          0           mixed10[0][0]                    \n",
            "____________________________________________________________________________________________________\n",
            "dense_1 (Dense)                  (None, 102)           208998      global_average_pooling2d_1[0][0] \n",
            "====================================================================================================\n",
            "Total params: 22,011,782\n",
            "Trainable params: 21,977,350\n",
            "Non-trainable params: 34,432\n",
            "____________________________________________________________________________________________________\n"
          ]
        }
      ],
      "source": [
        "model.summary()"
      ]
    },
    {
      "cell_type": "code",
      "execution_count": 26,
      "metadata": {
        "ExecuteTime": {
          "end_time": "2017-09-03T13:00:45.273005Z",
          "start_time": "2017-09-03T13:00:45.254250Z"
        },
        "colab": {
          "base_uri": "https://localhost:8080/",
          "height": 35
        },
        "colab_type": "code",
        "id": "b6SP5c5u65md",
        "outputId": "b050a66c-523c-4b2d-9e40-97e314490feb",
        "scrolled": false
      },
      "outputs": [
        {
          "name": "stdout",
          "output_type": "stream",
          "text": [
            "313\n"
          ]
        }
      ],
      "source": [
        "# how many layers our model has\n",
        "print(len(model.layers))"
      ]
    },
    {
      "cell_type": "code",
      "execution_count": null,
      "metadata": {
        "ExecuteTime": {
          "end_time": "2017-09-03T13:00:45.370171Z",
          "start_time": "2017-09-03T13:00:45.274354Z"
        },
        "colab": {},
        "colab_type": "code",
        "id": "E6GiOfH665mf",
        "scrolled": false
      },
      "outputs": [],
      "source": [
        "# set all layers trainable by default\n",
        "for layer in model.layers:\n",
        "    layer.trainable = True\n",
        "    if isinstance(layer, keras.layers.BatchNormalization):\n",
        "        # we do aggressive exponential smoothing of batch norm\n",
        "        # parameters to faster adjust to our new dataset\n",
        "        layer.momentum = 0.9\n",
        "    \n",
        "# fix deep layers (fine-tuning only last 50)\n",
        "for layer in model.layers[:-50]:\n",
        "    # fix all but batch norm layers, because we neeed to update moving averages for a new dataset!\n",
        "    if not isinstance(layer, keras.layers.BatchNormalization):\n",
        "        layer.trainable = False"
      ]
    },
    {
      "cell_type": "code",
      "execution_count": 28,
      "metadata": {
        "ExecuteTime": {
          "end_time": "2017-09-03T13:00:45.494833Z",
          "start_time": "2017-09-03T13:00:45.371512Z"
        },
        "colab": {
          "base_uri": "https://localhost:8080/",
          "height": 129
        },
        "colab_type": "code",
        "id": "PIhG-DvS65mj",
        "outputId": "e88e5c35-fe4b-4e96-d9bf-7d0767690903",
        "scrolled": false
      },
      "outputs": [
        {
          "name": "stderr",
          "output_type": "stream",
          "text": [
            "W0802 06:22:56.376624 139950620673920 deprecation_wrapper.py:119] From /usr/local/lib/python3.6/dist-packages/keras/optimizers.py:697: The name tf.train.Optimizer is deprecated. Please use tf.compat.v1.train.Optimizer instead.\n",
            "\n",
            "W0802 06:22:56.381526 139950620673920 deprecation.py:506] From /usr/local/lib/python3.6/dist-packages/keras/backend/tensorflow_backend.py:2745: calling reduce_sum_v1 (from tensorflow.python.ops.math_ops) with keep_dims is deprecated and will be removed in a future version.\n",
            "Instructions for updating:\n",
            "keep_dims is deprecated, use keepdims instead\n"
          ]
        }
      ],
      "source": [
        "# compile new model\n",
        "model.compile(\n",
        "    loss='categorical_crossentropy',  # we train 102-way classification\n",
        "    optimizer=keras.optimizers.adamax(lr=1e-2),  # we can take big lr here because we fixed first layers\n",
        "    metrics=['accuracy']  # report accuracy during training\n",
        ")"
      ]
    },
    {
      "cell_type": "code",
      "execution_count": 35,
      "metadata": {
        "colab": {
          "base_uri": "https://localhost:8080/",
          "height": 472
        },
        "colab_type": "code",
        "id": "0MHtxC3065ml",
        "outputId": "88446aea-092d-40af-8c31-b57d94b7f30d"
      },
      "outputs": [
        {
          "ename": "OSError",
          "evalue": "ignored",
          "output_type": "error",
          "traceback": [
            "\u001b[0;31m---------------------------------------------------------------------------\u001b[0m",
            "\u001b[0;31mOSError\u001b[0m                                   Traceback (most recent call last)",
            "\u001b[0;32m<ipython-input-35-f211ce5b1616>\u001b[0m in \u001b[0;36m<module>\u001b[0;34m()\u001b[0m\n\u001b[1;32m      7\u001b[0m \u001b[0ms\u001b[0m \u001b[0;34m=\u001b[0m \u001b[0mreset_tf_session\u001b[0m\u001b[0;34m(\u001b[0m\u001b[0;34m)\u001b[0m\u001b[0;34m\u001b[0m\u001b[0;34m\u001b[0m\u001b[0m\n\u001b[1;32m      8\u001b[0m \u001b[0mlast_finished_epoch\u001b[0m \u001b[0;34m=\u001b[0m \u001b[0;36m0\u001b[0m\u001b[0;34m\u001b[0m\u001b[0;34m\u001b[0m\u001b[0m\n\u001b[0;32m----> 9\u001b[0;31m \u001b[0mmodel\u001b[0m \u001b[0;34m=\u001b[0m \u001b[0mload_model\u001b[0m\u001b[0;34m(\u001b[0m\u001b[0mmodel_filename\u001b[0m\u001b[0;34m.\u001b[0m\u001b[0mformat\u001b[0m\u001b[0;34m(\u001b[0m\u001b[0mlast_finished_epoch\u001b[0m\u001b[0;34m)\u001b[0m\u001b[0;34m)\u001b[0m\u001b[0;34m\u001b[0m\u001b[0;34m\u001b[0m\u001b[0m\n\u001b[0m",
            "\u001b[0;32m/usr/local/lib/python3.6/dist-packages/keras/models.py\u001b[0m in \u001b[0;36mload_model\u001b[0;34m(filepath, custom_objects, compile)\u001b[0m\n\u001b[1;32m    225\u001b[0m             \u001b[0;32mreturn\u001b[0m \u001b[0mcustom_objects\u001b[0m\u001b[0;34m[\u001b[0m\u001b[0mobj\u001b[0m\u001b[0;34m]\u001b[0m\u001b[0;34m\u001b[0m\u001b[0;34m\u001b[0m\u001b[0m\n\u001b[1;32m    226\u001b[0m         \u001b[0;32mreturn\u001b[0m \u001b[0mobj\u001b[0m\u001b[0;34m\u001b[0m\u001b[0;34m\u001b[0m\u001b[0m\n\u001b[0;32m--> 227\u001b[0;31m     \u001b[0;32mwith\u001b[0m \u001b[0mh5py\u001b[0m\u001b[0;34m.\u001b[0m\u001b[0mFile\u001b[0m\u001b[0;34m(\u001b[0m\u001b[0mfilepath\u001b[0m\u001b[0;34m,\u001b[0m \u001b[0mmode\u001b[0m\u001b[0;34m=\u001b[0m\u001b[0;34m'r'\u001b[0m\u001b[0;34m)\u001b[0m \u001b[0;32mas\u001b[0m \u001b[0mf\u001b[0m\u001b[0;34m:\u001b[0m\u001b[0;34m\u001b[0m\u001b[0;34m\u001b[0m\u001b[0m\n\u001b[0m\u001b[1;32m    228\u001b[0m         \u001b[0;31m# instantiate model\u001b[0m\u001b[0;34m\u001b[0m\u001b[0;34m\u001b[0m\u001b[0;34m\u001b[0m\u001b[0m\n\u001b[1;32m    229\u001b[0m         \u001b[0mmodel_config\u001b[0m \u001b[0;34m=\u001b[0m \u001b[0mf\u001b[0m\u001b[0;34m.\u001b[0m\u001b[0mattrs\u001b[0m\u001b[0;34m.\u001b[0m\u001b[0mget\u001b[0m\u001b[0;34m(\u001b[0m\u001b[0;34m'model_config'\u001b[0m\u001b[0;34m)\u001b[0m\u001b[0;34m\u001b[0m\u001b[0;34m\u001b[0m\u001b[0m\n",
            "\u001b[0;32m/usr/local/lib/python3.6/dist-packages/h5py/_hl/files.py\u001b[0m in \u001b[0;36m__init__\u001b[0;34m(self, name, mode, driver, libver, userblock_size, swmr, **kwds)\u001b[0m\n\u001b[1;32m    310\u001b[0m             \u001b[0;32mwith\u001b[0m \u001b[0mphil\u001b[0m\u001b[0;34m:\u001b[0m\u001b[0;34m\u001b[0m\u001b[0;34m\u001b[0m\u001b[0m\n\u001b[1;32m    311\u001b[0m                 \u001b[0mfapl\u001b[0m \u001b[0;34m=\u001b[0m \u001b[0mmake_fapl\u001b[0m\u001b[0;34m(\u001b[0m\u001b[0mdriver\u001b[0m\u001b[0;34m,\u001b[0m \u001b[0mlibver\u001b[0m\u001b[0;34m,\u001b[0m \u001b[0;34m**\u001b[0m\u001b[0mkwds\u001b[0m\u001b[0;34m)\u001b[0m\u001b[0;34m\u001b[0m\u001b[0;34m\u001b[0m\u001b[0m\n\u001b[0;32m--> 312\u001b[0;31m                 \u001b[0mfid\u001b[0m \u001b[0;34m=\u001b[0m \u001b[0mmake_fid\u001b[0m\u001b[0;34m(\u001b[0m\u001b[0mname\u001b[0m\u001b[0;34m,\u001b[0m \u001b[0mmode\u001b[0m\u001b[0;34m,\u001b[0m \u001b[0muserblock_size\u001b[0m\u001b[0;34m,\u001b[0m \u001b[0mfapl\u001b[0m\u001b[0;34m,\u001b[0m \u001b[0mswmr\u001b[0m\u001b[0;34m=\u001b[0m\u001b[0mswmr\u001b[0m\u001b[0;34m)\u001b[0m\u001b[0;34m\u001b[0m\u001b[0;34m\u001b[0m\u001b[0m\n\u001b[0m\u001b[1;32m    313\u001b[0m \u001b[0;34m\u001b[0m\u001b[0m\n\u001b[1;32m    314\u001b[0m                 \u001b[0;32mif\u001b[0m \u001b[0mswmr_support\u001b[0m\u001b[0;34m:\u001b[0m\u001b[0;34m\u001b[0m\u001b[0;34m\u001b[0m\u001b[0m\n",
            "\u001b[0;32m/usr/local/lib/python3.6/dist-packages/h5py/_hl/files.py\u001b[0m in \u001b[0;36mmake_fid\u001b[0;34m(name, mode, userblock_size, fapl, fcpl, swmr)\u001b[0m\n\u001b[1;32m    140\u001b[0m         \u001b[0;32mif\u001b[0m \u001b[0mswmr\u001b[0m \u001b[0;32mand\u001b[0m \u001b[0mswmr_support\u001b[0m\u001b[0;34m:\u001b[0m\u001b[0;34m\u001b[0m\u001b[0;34m\u001b[0m\u001b[0m\n\u001b[1;32m    141\u001b[0m             \u001b[0mflags\u001b[0m \u001b[0;34m|=\u001b[0m \u001b[0mh5f\u001b[0m\u001b[0;34m.\u001b[0m\u001b[0mACC_SWMR_READ\u001b[0m\u001b[0;34m\u001b[0m\u001b[0;34m\u001b[0m\u001b[0m\n\u001b[0;32m--> 142\u001b[0;31m         \u001b[0mfid\u001b[0m \u001b[0;34m=\u001b[0m \u001b[0mh5f\u001b[0m\u001b[0;34m.\u001b[0m\u001b[0mopen\u001b[0m\u001b[0;34m(\u001b[0m\u001b[0mname\u001b[0m\u001b[0;34m,\u001b[0m \u001b[0mflags\u001b[0m\u001b[0;34m,\u001b[0m \u001b[0mfapl\u001b[0m\u001b[0;34m=\u001b[0m\u001b[0mfapl\u001b[0m\u001b[0;34m)\u001b[0m\u001b[0;34m\u001b[0m\u001b[0;34m\u001b[0m\u001b[0m\n\u001b[0m\u001b[1;32m    143\u001b[0m     \u001b[0;32melif\u001b[0m \u001b[0mmode\u001b[0m \u001b[0;34m==\u001b[0m \u001b[0;34m'r+'\u001b[0m\u001b[0;34m:\u001b[0m\u001b[0;34m\u001b[0m\u001b[0;34m\u001b[0m\u001b[0m\n\u001b[1;32m    144\u001b[0m         \u001b[0mfid\u001b[0m \u001b[0;34m=\u001b[0m \u001b[0mh5f\u001b[0m\u001b[0;34m.\u001b[0m\u001b[0mopen\u001b[0m\u001b[0;34m(\u001b[0m\u001b[0mname\u001b[0m\u001b[0;34m,\u001b[0m \u001b[0mh5f\u001b[0m\u001b[0;34m.\u001b[0m\u001b[0mACC_RDWR\u001b[0m\u001b[0;34m,\u001b[0m \u001b[0mfapl\u001b[0m\u001b[0;34m=\u001b[0m\u001b[0mfapl\u001b[0m\u001b[0;34m)\u001b[0m\u001b[0;34m\u001b[0m\u001b[0;34m\u001b[0m\u001b[0m\n",
            "\u001b[0;32mh5py/_objects.pyx\u001b[0m in \u001b[0;36mh5py._objects.with_phil.wrapper\u001b[0;34m()\u001b[0m\n",
            "\u001b[0;32mh5py/_objects.pyx\u001b[0m in \u001b[0;36mh5py._objects.with_phil.wrapper\u001b[0;34m()\u001b[0m\n",
            "\u001b[0;32mh5py/h5f.pyx\u001b[0m in \u001b[0;36mh5py.h5f.open\u001b[0;34m()\u001b[0m\n",
            "\u001b[0;31mOSError\u001b[0m: Unable to open file (unable to open file: name = 'flowers.000.hdf5', errno = 2, error message = 'No such file or directory', flags = 0, o_flags = 0)"
          ]
        }
      ],
      "source": [
        "# we will save model checkpoints to continue training in case of kernel death\n",
        "model_filename = 'flowers.{0:03d}.hdf5'\n",
        "last_finished_epoch = None\n",
        "\n",
        "#### uncomment below to continue training from model checkpoint\n",
        "#### fill `last_finished_epoch` with your latest finished epoch\n",
        "from keras.models import load_model\n",
        "s = reset_tf_session()\n",
        "last_finished_epoch = 0\n",
        "model = load_model(model_filename.format(last_finished_epoch))"
      ]
    },
    {
      "cell_type": "markdown",
      "metadata": {
        "colab_type": "text",
        "id": "3dyZVMuh65mo"
      },
      "source": [
        "Training takes **2 hours**. You're aiming for ~0.93 validation accuracy."
      ]
    },
    {
      "cell_type": "code",
      "execution_count": 29,
      "metadata": {
        "ExecuteTime": {
          "end_time": "2017-09-03T14:23:36.792701Z",
          "start_time": "2017-09-03T13:00:45.496194Z"
        },
        "colab": {
          "base_uri": "https://localhost:8080/",
          "height": 313
        },
        "colab_type": "code",
        "id": "u_12ehoy65mq",
        "outputId": "b4a01a12-1d7c-4b0d-ccc1-c79ff1dd260e",
        "scrolled": false
      },
      "outputs": [
        {
          "name": "stderr",
          "output_type": "stream",
          "text": [
            "W0802 06:24:31.380597 139950620673920 deprecation.py:323] From /usr/local/lib/python3.6/dist-packages/tensorflow/python/ops/math_grad.py:1250: add_dispatch_support.<locals>.wrapper (from tensorflow.python.ops.array_ops) is deprecated and will be removed in a future version.\n",
            "Instructions for updating:\n",
            "Use tf.where in 2.0, which has the same broadcast rule as np.where\n",
            "W0802 06:24:42.170804 139950620673920 deprecation.py:506] From /usr/local/lib/python3.6/dist-packages/keras/backend/tensorflow_backend.py:602: calling Constant.__init__ (from tensorflow.python.ops.init_ops) with dtype is deprecated and will be removed in a future version.\n",
            "Instructions for updating:\n",
            "Call initializer instance with the dtype argument instead of passing it to the constructor\n"
          ]
        },
        {
          "name": "stdout",
          "output_type": "stream",
          "text": [
            "\n",
            "Epoch 1/2\n",
            "***************************************************\n",
            "loss: 1.2158; acc: 0.7385; val_loss: 0.3636; val_acc: 0.9038\n",
            "\n",
            "Epoch 2/2\n",
            "***************************************************\n",
            "loss: 0.0859; acc: 0.9819; val_loss: 0.2058; val_acc: 0.9463\n"
          ]
        },
        {
          "data": {
            "text/plain": [
              "<keras.callbacks.History at 0x7f48077aa828>"
            ]
          },
          "execution_count": 29,
          "metadata": {
            "tags": []
          },
          "output_type": "execute_result"
        }
      ],
      "source": [
        "# fine tune for 2 epochs (full passes through all training data)\n",
        "# we make 2*8 epochs, where epoch is 1/8 of our training data to see progress more often\n",
        "model.fit_generator(\n",
        "    train_generator(tr_files, tr_labels), \n",
        "    steps_per_epoch=len(tr_files) // BATCH_SIZE, \n",
        "    epochs=2,\n",
        "    validation_data=train_generator(te_files, te_labels), \n",
        "    validation_steps=len(te_files) // BATCH_SIZE // 2,\n",
        "    callbacks=[keras_utils.TqdmProgressCallback()],\n",
        "    verbose=0\n",
        ")"
      ]
    },
    {
      "cell_type": "code",
      "execution_count": 30,
      "metadata": {
        "colab": {
          "base_uri": "https://localhost:8080/",
          "height": 35
        },
        "colab_type": "code",
        "id": "1n5tNLWN65mv",
        "outputId": "f429fd27-b5f1-48da-da27-eae333f5b99c",
        "scrolled": false
      },
      "outputs": [
        {
          "name": "stdout",
          "output_type": "stream",
          "text": [
            "0.9525\n"
          ]
        }
      ],
      "source": [
        "## GRADED PART, DO NOT CHANGE!\n",
        "# Accuracy on validation set\n",
        "test_accuracy = model.evaluate_generator(\n",
        "    train_generator(te_files, te_labels), \n",
        "    len(te_files) // BATCH_SIZE // 2\n",
        ")[1]\n",
        "grader.set_answer(\"wuwwC\", test_accuracy)\n",
        "print(test_accuracy)"
      ]
    },
    {
      "cell_type": "code",
      "execution_count": 32,
      "metadata": {
        "colab": {
          "base_uri": "https://localhost:8080/",
          "height": 35
        },
        "colab_type": "code",
        "id": "x4Td7UBA65mz",
        "outputId": "e46cd1d0-5848-45fa-9156-509a89d133ee",
        "scrolled": false
      },
      "outputs": [
        {
          "name": "stdout",
          "output_type": "stream",
          "text": [
            "Submitted to Coursera platform. See results on assignment page!\n"
          ]
        }
      ],
      "source": [
        "# you can make submission with answers so far to check yourself at this stage\n",
        "grader.submit(COURSERA_EMAIL, COURSERA_TOKEN)"
      ]
    },
    {
      "cell_type": "markdown",
      "metadata": {
        "colab_type": "text",
        "id": "p4k_6Vp965m1"
      },
      "source": [
        "That's it! Congratulations!\n",
        "\n",
        "What you've done:\n",
        "- prepared images for the model\n",
        "- implemented your own batch generator\n",
        "- fine-tuned the pre-trained model"
      ]
    }
  ],
  "metadata": {
    "accelerator": "GPU",
    "colab": {
      "collapsed_sections": [],
      "name": "Copy of week3_task2_fine_tuning_clean.ipynb",
      "provenance": [],
      "version": "0.3.2"
    },
    "kernelspec": {
      "display_name": "Python 3",
      "name": "python3"
    },
    "language_info": {
      "codemirror_mode": {
        "name": "ipython",
        "version": 3
      },
      "file_extension": ".py",
      "mimetype": "text/x-python",
      "name": "python",
      "nbconvert_exporter": "python",
      "pygments_lexer": "ipython3",
      "version": "3.6.13"
    },
    "toc": {
      "colors": {
        "hover_highlight": "#DAA520",
        "navigate_num": "#000000",
        "navigate_text": "#333333",
        "running_highlight": "#FF0000",
        "selected_highlight": "#FFD700",
        "sidebar_border": "#EEEEEE",
        "wrapper_background": "#FFFFFF"
      },
      "moveMenuLeft": true,
      "nav_menu": {
        "height": "120px",
        "width": "252px"
      },
      "navigate_menu": true,
      "number_sections": true,
      "sideBar": true,
      "threshold": 4,
      "toc_cell": false,
      "toc_section_display": "block",
      "toc_window_display": false,
      "widenNotebook": false
    }
  },
  "nbformat": 4,
  "nbformat_minor": 0
}
