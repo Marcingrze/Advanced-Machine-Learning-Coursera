{
 "cells": [
  {
   "cell_type": "markdown",
   "metadata": {
    "slideshow": {
     "slide_type": "slide"
    }
   },
   "source": [
    "# Intro to TensorFlow\n",
    "\n",
    "This notebook covers the basics of TF and shows you an animation with gradient descent trajectory.\n",
    "<img src=\"images/gradient_descent.png\" style=\"width:50%\">"
   ]
  },
  {
   "cell_type": "markdown",
   "metadata": {},
   "source": [
    "# TensorBoard"
   ]
  },
  {
   "cell_type": "markdown",
   "metadata": {},
   "source": [
    "**Plase note that if you are running on the Coursera platform, you won't be able to access the tensorboard instance due to the network setup there.**\n",
    "\n",
    "Run `tensorboard --logdir=./tensorboard_logs --port=7007` in bash.\n",
    "\n",
    "If you run the notebook locally, you should be able to access TensorBoard on http://127.0.0.1:7007/"
   ]
  },
  {
   "cell_type": "code",
   "execution_count": 1,
   "metadata": {},
   "outputs": [
    {
     "name": "stderr",
     "output_type": "stream",
     "text": [
      "ERROR:root:Internal Python error in the inspect module.\n",
      "Below is the traceback from this internal error.\n",
      "\n",
      "ERROR:root:Internal Python error in the inspect module.\n",
      "Below is the traceback from this internal error.\n",
      "\n",
      "ERROR:root:Internal Python error in the inspect module.\n",
      "Below is the traceback from this internal error.\n",
      "\n"
     ]
    },
    {
     "name": "stdout",
     "output_type": "stream",
     "text": [
      "Traceback (most recent call last):\n",
      "  File \"C:\\tools\\Anaconda3\\envs\\tf-keras-gpu-test\\lib\\site-packages\\IPython\\core\\interactiveshell.py\", line 3343, in run_code\n",
      "    exec(code_obj, self.user_global_ns, self.user_ns)\n",
      "  File \"<ipython-input-1-c31036d4838f>\", line 4, in <module>\n",
      "    from keras_utils import reset_tf_session\n",
      "ModuleNotFoundError: No module named 'keras_utils'\n",
      "\n",
      "During handling of the above exception, another exception occurred:\n",
      "\n",
      "Traceback (most recent call last):\n",
      "  File \"C:\\tools\\Anaconda3\\envs\\tf-keras-gpu-test\\lib\\site-packages\\IPython\\core\\interactiveshell.py\", line 2044, in showtraceback\n",
      "    stb = value._render_traceback_()\n",
      "AttributeError: 'ModuleNotFoundError' object has no attribute '_render_traceback_'\n",
      "\n",
      "During handling of the above exception, another exception occurred:\n",
      "\n",
      "Traceback (most recent call last):\n",
      "  File \"C:\\tools\\Anaconda3\\envs\\tf-keras-gpu-test\\lib\\site-packages\\IPython\\core\\ultratb.py\", line 1169, in get_records\n",
      "    return _fixed_getinnerframes(etb, number_of_lines_of_context, tb_offset)\n",
      "  File \"C:\\tools\\Anaconda3\\envs\\tf-keras-gpu-test\\lib\\site-packages\\IPython\\core\\ultratb.py\", line 316, in wrapped\n",
      "    return f(*args, **kwargs)\n",
      "  File \"C:\\tools\\Anaconda3\\envs\\tf-keras-gpu-test\\lib\\site-packages\\IPython\\core\\ultratb.py\", line 350, in _fixed_getinnerframes\n",
      "    records = fix_frame_records_filenames(inspect.getinnerframes(etb, context))\n",
      "  File \"C:\\tools\\Anaconda3\\envs\\tf-keras-gpu-test\\lib\\inspect.py\", line 1490, in getinnerframes\n",
      "    frameinfo = (tb.tb_frame,) + getframeinfo(tb, context)\n",
      "  File \"C:\\tools\\Anaconda3\\envs\\tf-keras-gpu-test\\lib\\inspect.py\", line 1448, in getframeinfo\n",
      "    filename = getsourcefile(frame) or getfile(frame)\n",
      "  File \"C:\\tools\\Anaconda3\\envs\\tf-keras-gpu-test\\lib\\inspect.py\", line 696, in getsourcefile\n",
      "    if getattr(getmodule(object, filename), '__loader__', None) is not None:\n",
      "  File \"C:\\tools\\Anaconda3\\envs\\tf-keras-gpu-test\\lib\\inspect.py\", line 733, in getmodule\n",
      "    if ismodule(module) and hasattr(module, '__file__'):\n",
      "  File \"C:\\tools\\Anaconda3\\envs\\tf-keras-gpu-test\\lib\\site-packages\\tensorflow\\__init__.py\", line 50, in __getattr__\n",
      "    module = self._load()\n",
      "  File \"C:\\tools\\Anaconda3\\envs\\tf-keras-gpu-test\\lib\\site-packages\\tensorflow\\__init__.py\", line 44, in _load\n",
      "    module = _importlib.import_module(self.__name__)\n",
      "  File \"C:\\tools\\Anaconda3\\envs\\tf-keras-gpu-test\\lib\\importlib\\__init__.py\", line 126, in import_module\n",
      "    return _bootstrap._gcd_import(name[level:], package, level)\n",
      "  File \"<frozen importlib._bootstrap>\", line 994, in _gcd_import\n",
      "  File \"<frozen importlib._bootstrap>\", line 971, in _find_and_load\n",
      "  File \"<frozen importlib._bootstrap>\", line 953, in _find_and_load_unlocked\n",
      "ModuleNotFoundError: No module named 'tensorflow_core.estimator'\n",
      "Traceback (most recent call last):\n",
      "  File \"C:\\tools\\Anaconda3\\envs\\tf-keras-gpu-test\\lib\\site-packages\\IPython\\core\\interactiveshell.py\", line 3343, in run_code\n",
      "    exec(code_obj, self.user_global_ns, self.user_ns)\n",
      "  File \"<ipython-input-1-c31036d4838f>\", line 4, in <module>\n",
      "    from keras_utils import reset_tf_session\n",
      "ModuleNotFoundError: No module named 'keras_utils'\n",
      "\n",
      "During handling of the above exception, another exception occurred:\n",
      "\n",
      "Traceback (most recent call last):\n",
      "  File \"C:\\tools\\Anaconda3\\envs\\tf-keras-gpu-test\\lib\\site-packages\\IPython\\core\\interactiveshell.py\", line 2044, in showtraceback\n",
      "    stb = value._render_traceback_()\n",
      "AttributeError: 'ModuleNotFoundError' object has no attribute '_render_traceback_'\n",
      "\n",
      "During handling of the above exception, another exception occurred:\n",
      "\n",
      "Traceback (most recent call last):\n",
      "  File \"C:\\tools\\Anaconda3\\envs\\tf-keras-gpu-test\\lib\\site-packages\\IPython\\core\\interactiveshell.py\", line 3263, in run_ast_nodes\n",
      "    if (await self.run_code(code, result,  async_=asy)):\n",
      "  File \"C:\\tools\\Anaconda3\\envs\\tf-keras-gpu-test\\lib\\site-packages\\IPython\\core\\interactiveshell.py\", line 3360, in run_code\n",
      "    self.showtraceback(running_compiled_code=True)\n",
      "  File \"C:\\tools\\Anaconda3\\envs\\tf-keras-gpu-test\\lib\\site-packages\\IPython\\core\\interactiveshell.py\", line 2047, in showtraceback\n",
      "    value, tb, tb_offset=tb_offset)\n",
      "  File \"C:\\tools\\Anaconda3\\envs\\tf-keras-gpu-test\\lib\\site-packages\\IPython\\core\\ultratb.py\", line 1436, in structured_traceback\n",
      "    self, etype, value, tb, tb_offset, number_of_lines_of_context)\n",
      "  File \"C:\\tools\\Anaconda3\\envs\\tf-keras-gpu-test\\lib\\site-packages\\IPython\\core\\ultratb.py\", line 1336, in structured_traceback\n",
      "    self, etype, value, tb, tb_offset, number_of_lines_of_context\n",
      "  File \"C:\\tools\\Anaconda3\\envs\\tf-keras-gpu-test\\lib\\site-packages\\IPython\\core\\ultratb.py\", line 1193, in structured_traceback\n",
      "    tb_offset)\n",
      "  File \"C:\\tools\\Anaconda3\\envs\\tf-keras-gpu-test\\lib\\site-packages\\IPython\\core\\ultratb.py\", line 1150, in format_exception_as_a_whole\n",
      "    last_unique, recursion_repeat = find_recursion(orig_etype, evalue, records)\n",
      "  File \"C:\\tools\\Anaconda3\\envs\\tf-keras-gpu-test\\lib\\site-packages\\IPython\\core\\ultratb.py\", line 451, in find_recursion\n",
      "    return len(records), 0\n",
      "TypeError: object of type 'NoneType' has no len()\n",
      "\n",
      "During handling of the above exception, another exception occurred:\n",
      "\n",
      "Traceback (most recent call last):\n",
      "  File \"C:\\tools\\Anaconda3\\envs\\tf-keras-gpu-test\\lib\\site-packages\\IPython\\core\\interactiveshell.py\", line 2044, in showtraceback\n",
      "    stb = value._render_traceback_()\n",
      "AttributeError: 'TypeError' object has no attribute '_render_traceback_'\n",
      "\n",
      "During handling of the above exception, another exception occurred:\n",
      "\n",
      "Traceback (most recent call last):\n",
      "  File \"C:\\tools\\Anaconda3\\envs\\tf-keras-gpu-test\\lib\\site-packages\\IPython\\core\\ultratb.py\", line 1169, in get_records\n",
      "    return _fixed_getinnerframes(etb, number_of_lines_of_context, tb_offset)\n",
      "  File \"C:\\tools\\Anaconda3\\envs\\tf-keras-gpu-test\\lib\\site-packages\\IPython\\core\\ultratb.py\", line 316, in wrapped\n",
      "    return f(*args, **kwargs)\n",
      "  File \"C:\\tools\\Anaconda3\\envs\\tf-keras-gpu-test\\lib\\site-packages\\IPython\\core\\ultratb.py\", line 350, in _fixed_getinnerframes\n",
      "    records = fix_frame_records_filenames(inspect.getinnerframes(etb, context))\n",
      "  File \"C:\\tools\\Anaconda3\\envs\\tf-keras-gpu-test\\lib\\inspect.py\", line 1490, in getinnerframes\n",
      "    frameinfo = (tb.tb_frame,) + getframeinfo(tb, context)\n",
      "  File \"C:\\tools\\Anaconda3\\envs\\tf-keras-gpu-test\\lib\\inspect.py\", line 1448, in getframeinfo\n",
      "    filename = getsourcefile(frame) or getfile(frame)\n",
      "  File \"C:\\tools\\Anaconda3\\envs\\tf-keras-gpu-test\\lib\\inspect.py\", line 696, in getsourcefile\n",
      "    if getattr(getmodule(object, filename), '__loader__', None) is not None:\n",
      "  File \"C:\\tools\\Anaconda3\\envs\\tf-keras-gpu-test\\lib\\inspect.py\", line 733, in getmodule\n",
      "    if ismodule(module) and hasattr(module, '__file__'):\n",
      "  File \"C:\\tools\\Anaconda3\\envs\\tf-keras-gpu-test\\lib\\site-packages\\tensorflow\\__init__.py\", line 50, in __getattr__\n",
      "    module = self._load()\n",
      "  File \"C:\\tools\\Anaconda3\\envs\\tf-keras-gpu-test\\lib\\site-packages\\tensorflow\\__init__.py\", line 44, in _load\n",
      "    module = _importlib.import_module(self.__name__)\n",
      "  File \"C:\\tools\\Anaconda3\\envs\\tf-keras-gpu-test\\lib\\importlib\\__init__.py\", line 126, in import_module\n",
      "    return _bootstrap._gcd_import(name[level:], package, level)\n",
      "  File \"<frozen importlib._bootstrap>\", line 994, in _gcd_import\n",
      "  File \"<frozen importlib._bootstrap>\", line 971, in _find_and_load\n",
      "  File \"<frozen importlib._bootstrap>\", line 953, in _find_and_load_unlocked\n",
      "ModuleNotFoundError: No module named 'tensorflow_core.estimator'\n",
      "Traceback (most recent call last):\n",
      "  File \"C:\\tools\\Anaconda3\\envs\\tf-keras-gpu-test\\lib\\site-packages\\IPython\\core\\interactiveshell.py\", line 3343, in run_code\n",
      "    exec(code_obj, self.user_global_ns, self.user_ns)\n",
      "  File \"<ipython-input-1-c31036d4838f>\", line 4, in <module>\n",
      "    from keras_utils import reset_tf_session\n",
      "ModuleNotFoundError: No module named 'keras_utils'\n",
      "\n",
      "During handling of the above exception, another exception occurred:\n",
      "\n",
      "Traceback (most recent call last):\n",
      "  File \"C:\\tools\\Anaconda3\\envs\\tf-keras-gpu-test\\lib\\site-packages\\IPython\\core\\interactiveshell.py\", line 2044, in showtraceback\n",
      "    stb = value._render_traceback_()\n",
      "AttributeError: 'ModuleNotFoundError' object has no attribute '_render_traceback_'\n",
      "\n",
      "During handling of the above exception, another exception occurred:\n",
      "\n",
      "Traceback (most recent call last):\n",
      "  File \"C:\\tools\\Anaconda3\\envs\\tf-keras-gpu-test\\lib\\site-packages\\IPython\\core\\interactiveshell.py\", line 3263, in run_ast_nodes\n",
      "    if (await self.run_code(code, result,  async_=asy)):\n",
      "  File \"C:\\tools\\Anaconda3\\envs\\tf-keras-gpu-test\\lib\\site-packages\\IPython\\core\\interactiveshell.py\", line 3360, in run_code\n",
      "    self.showtraceback(running_compiled_code=True)\n",
      "  File \"C:\\tools\\Anaconda3\\envs\\tf-keras-gpu-test\\lib\\site-packages\\IPython\\core\\interactiveshell.py\", line 2047, in showtraceback\n",
      "    value, tb, tb_offset=tb_offset)\n",
      "  File \"C:\\tools\\Anaconda3\\envs\\tf-keras-gpu-test\\lib\\site-packages\\IPython\\core\\ultratb.py\", line 1436, in structured_traceback\n",
      "    self, etype, value, tb, tb_offset, number_of_lines_of_context)\n",
      "  File \"C:\\tools\\Anaconda3\\envs\\tf-keras-gpu-test\\lib\\site-packages\\IPython\\core\\ultratb.py\", line 1336, in structured_traceback\n",
      "    self, etype, value, tb, tb_offset, number_of_lines_of_context\n",
      "  File \"C:\\tools\\Anaconda3\\envs\\tf-keras-gpu-test\\lib\\site-packages\\IPython\\core\\ultratb.py\", line 1193, in structured_traceback\n",
      "    tb_offset)\n",
      "  File \"C:\\tools\\Anaconda3\\envs\\tf-keras-gpu-test\\lib\\site-packages\\IPython\\core\\ultratb.py\", line 1150, in format_exception_as_a_whole\n",
      "    last_unique, recursion_repeat = find_recursion(orig_etype, evalue, records)\n",
      "  File \"C:\\tools\\Anaconda3\\envs\\tf-keras-gpu-test\\lib\\site-packages\\IPython\\core\\ultratb.py\", line 451, in find_recursion\n",
      "    return len(records), 0\n",
      "TypeError: object of type 'NoneType' has no len()\n",
      "\n",
      "During handling of the above exception, another exception occurred:\n",
      "\n",
      "Traceback (most recent call last):\n",
      "  File \"C:\\tools\\Anaconda3\\envs\\tf-keras-gpu-test\\lib\\site-packages\\IPython\\core\\interactiveshell.py\", line 2044, in showtraceback\n",
      "    stb = value._render_traceback_()\n",
      "AttributeError: 'TypeError' object has no attribute '_render_traceback_'\n",
      "\n",
      "During handling of the above exception, another exception occurred:\n",
      "\n",
      "Traceback (most recent call last):\n",
      "  File \"C:\\tools\\Anaconda3\\envs\\tf-keras-gpu-test\\lib\\site-packages\\IPython\\core\\interactiveshell.py\", line 2895, in _run_cell\n",
      "    return runner(coro)\n",
      "  File \"C:\\tools\\Anaconda3\\envs\\tf-keras-gpu-test\\lib\\site-packages\\IPython\\core\\async_helpers.py\", line 68, in _pseudo_sync_runner\n",
      "    coro.send(None)\n",
      "  File \"C:\\tools\\Anaconda3\\envs\\tf-keras-gpu-test\\lib\\site-packages\\IPython\\core\\interactiveshell.py\", line 3072, in run_cell_async\n",
      "    interactivity=interactivity, compiler=compiler, result=result)\n",
      "  File \"C:\\tools\\Anaconda3\\envs\\tf-keras-gpu-test\\lib\\site-packages\\IPython\\core\\interactiveshell.py\", line 3282, in run_ast_nodes\n",
      "    self.showtraceback()\n",
      "  File \"C:\\tools\\Anaconda3\\envs\\tf-keras-gpu-test\\lib\\site-packages\\IPython\\core\\interactiveshell.py\", line 2047, in showtraceback\n",
      "    value, tb, tb_offset=tb_offset)\n",
      "  File \"C:\\tools\\Anaconda3\\envs\\tf-keras-gpu-test\\lib\\site-packages\\IPython\\core\\ultratb.py\", line 1436, in structured_traceback\n",
      "    self, etype, value, tb, tb_offset, number_of_lines_of_context)\n",
      "  File \"C:\\tools\\Anaconda3\\envs\\tf-keras-gpu-test\\lib\\site-packages\\IPython\\core\\ultratb.py\", line 1336, in structured_traceback\n",
      "    self, etype, value, tb, tb_offset, number_of_lines_of_context\n",
      "  File \"C:\\tools\\Anaconda3\\envs\\tf-keras-gpu-test\\lib\\site-packages\\IPython\\core\\ultratb.py\", line 1211, in structured_traceback\n",
      "    chained_exceptions_tb_offset)\n",
      "  File \"C:\\tools\\Anaconda3\\envs\\tf-keras-gpu-test\\lib\\site-packages\\IPython\\core\\ultratb.py\", line 1150, in format_exception_as_a_whole\n",
      "    last_unique, recursion_repeat = find_recursion(orig_etype, evalue, records)\n",
      "  File \"C:\\tools\\Anaconda3\\envs\\tf-keras-gpu-test\\lib\\site-packages\\IPython\\core\\ultratb.py\", line 451, in find_recursion\n",
      "    return len(records), 0\n",
      "TypeError: object of type 'NoneType' has no len()\n",
      "\n",
      "During handling of the above exception, another exception occurred:\n",
      "\n",
      "Traceback (most recent call last):\n",
      "  File \"C:\\tools\\Anaconda3\\envs\\tf-keras-gpu-test\\lib\\site-packages\\IPython\\core\\interactiveshell.py\", line 2044, in showtraceback\n",
      "    stb = value._render_traceback_()\n",
      "AttributeError: 'TypeError' object has no attribute '_render_traceback_'\n",
      "\n",
      "During handling of the above exception, another exception occurred:\n",
      "\n",
      "Traceback (most recent call last):\n",
      "  File \"C:\\tools\\Anaconda3\\envs\\tf-keras-gpu-test\\lib\\site-packages\\IPython\\core\\ultratb.py\", line 1169, in get_records\n",
      "    return _fixed_getinnerframes(etb, number_of_lines_of_context, tb_offset)\n",
      "  File \"C:\\tools\\Anaconda3\\envs\\tf-keras-gpu-test\\lib\\site-packages\\IPython\\core\\ultratb.py\", line 316, in wrapped\n",
      "    return f(*args, **kwargs)\n",
      "  File \"C:\\tools\\Anaconda3\\envs\\tf-keras-gpu-test\\lib\\site-packages\\IPython\\core\\ultratb.py\", line 350, in _fixed_getinnerframes\n",
      "    records = fix_frame_records_filenames(inspect.getinnerframes(etb, context))\n",
      "  File \"C:\\tools\\Anaconda3\\envs\\tf-keras-gpu-test\\lib\\inspect.py\", line 1490, in getinnerframes\n",
      "    frameinfo = (tb.tb_frame,) + getframeinfo(tb, context)\n",
      "  File \"C:\\tools\\Anaconda3\\envs\\tf-keras-gpu-test\\lib\\inspect.py\", line 1448, in getframeinfo\n",
      "    filename = getsourcefile(frame) or getfile(frame)\n",
      "  File \"C:\\tools\\Anaconda3\\envs\\tf-keras-gpu-test\\lib\\inspect.py\", line 696, in getsourcefile\n",
      "    if getattr(getmodule(object, filename), '__loader__', None) is not None:\n",
      "  File \"C:\\tools\\Anaconda3\\envs\\tf-keras-gpu-test\\lib\\inspect.py\", line 733, in getmodule\n",
      "    if ismodule(module) and hasattr(module, '__file__'):\n",
      "  File \"C:\\tools\\Anaconda3\\envs\\tf-keras-gpu-test\\lib\\site-packages\\tensorflow\\__init__.py\", line 50, in __getattr__\n",
      "    module = self._load()\n",
      "  File \"C:\\tools\\Anaconda3\\envs\\tf-keras-gpu-test\\lib\\site-packages\\tensorflow\\__init__.py\", line 44, in _load\n",
      "    module = _importlib.import_module(self.__name__)\n",
      "  File \"C:\\tools\\Anaconda3\\envs\\tf-keras-gpu-test\\lib\\importlib\\__init__.py\", line 126, in import_module\n",
      "    return _bootstrap._gcd_import(name[level:], package, level)\n",
      "  File \"<frozen importlib._bootstrap>\", line 994, in _gcd_import\n",
      "  File \"<frozen importlib._bootstrap>\", line 971, in _find_and_load\n",
      "  File \"<frozen importlib._bootstrap>\", line 953, in _find_and_load_unlocked\n",
      "ModuleNotFoundError: No module named 'tensorflow_core.estimator'\n"
     ]
    }
   ],
   "source": [
    "import tensorflow as tf\n",
    "import sys\n",
    "sys.path.append(\"../..\")\n",
    "from keras_utils import reset_tf_session\n",
    "s = reset_tf_session()\n",
    "print(\"We're using TF\", tf.__version__)"
   ]
  },
  {
   "cell_type": "markdown",
   "metadata": {},
   "source": [
    "# Warming up\n",
    "For starters, let's implement a python function that computes the sum of squares of numbers from 0 to N-1."
   ]
  },
  {
   "cell_type": "code",
   "execution_count": 2,
   "metadata": {
    "collapsed": true
   },
   "outputs": [],
   "source": [
    "import numpy as np\n",
    "\n",
    "def sum_python(N):\n",
    "    return np.sum(np.arange(N)**2)"
   ]
  },
  {
   "cell_type": "code",
   "execution_count": 3,
   "metadata": {},
   "outputs": [
    {
     "name": "stdout",
     "output_type": "stream",
     "text": [
      "CPU times: user 1.73 ms, sys: 0 ns, total: 1.73 ms\n",
      "Wall time: 1.19 ms\n"
     ]
    },
    {
     "data": {
      "text/plain": [
       "333328333350000"
      ]
     },
     "execution_count": 3,
     "metadata": {},
     "output_type": "execute_result"
    }
   ],
   "source": [
    "%%time\n",
    "sum_python(10**5)"
   ]
  },
  {
   "cell_type": "markdown",
   "metadata": {},
   "source": [
    "# Tensoflow teaser\n",
    "\n",
    "Doing the very same thing"
   ]
  },
  {
   "cell_type": "code",
   "execution_count": 4,
   "metadata": {
    "collapsed": true
   },
   "outputs": [],
   "source": [
    "# An integer parameter\n",
    "N = tf.placeholder('int64', name=\"input_to_your_function\")\n",
    "\n",
    "# A recipe on how to produce the same result\n",
    "result = tf.reduce_sum(tf.range(N)**2)"
   ]
  },
  {
   "cell_type": "code",
   "execution_count": 5,
   "metadata": {},
   "outputs": [
    {
     "data": {
      "text/plain": [
       "<tf.Tensor 'Sum:0' shape=() dtype=int64>"
      ]
     },
     "execution_count": 5,
     "metadata": {},
     "output_type": "execute_result"
    }
   ],
   "source": [
    "# just a graph definition\n",
    "result"
   ]
  },
  {
   "cell_type": "code",
   "execution_count": 6,
   "metadata": {},
   "outputs": [
    {
     "name": "stdout",
     "output_type": "stream",
     "text": [
      "CPU times: user 4.68 ms, sys: 23 µs, total: 4.7 ms\n",
      "Wall time: 3.32 ms\n"
     ]
    },
    {
     "data": {
      "text/plain": [
       "333328333350000"
      ]
     },
     "execution_count": 6,
     "metadata": {},
     "output_type": "execute_result"
    }
   ],
   "source": [
    "%%time\n",
    "# actually executing\n",
    "result.eval({N: 10**5})"
   ]
  },
  {
   "cell_type": "code",
   "execution_count": 7,
   "metadata": {
    "collapsed": true
   },
   "outputs": [],
   "source": [
    "# logger for tensorboard\n",
    "writer = tf.summary.FileWriter(\"tensorboard_logs\", graph=s.graph)"
   ]
  },
  {
   "cell_type": "markdown",
   "metadata": {},
   "source": [
    "# How does it work?\n",
    "1. Define placeholders where you'll send inputs\n",
    "2. Make a symbolic graph: a recipe for mathematical transformation of those placeholders\n",
    "3. Compute outputs of your graph with particular values for each placeholder\n",
    "  * `output.eval({placeholder: value})`\n",
    "  * `s.run(output, {placeholder: value})`\n",
    "\n",
    "So far there are two main entities: \"placeholder\" and \"transformation\" (operation output)\n",
    "* Both can be numbers, vectors, matrices, tensors, etc.\n",
    "* Both can be int32/64, floats, booleans (uint8) of various size.\n",
    "\n",
    "* You can define new transformations as an arbitrary operation on placeholders and other transformations\n",
    " * `tf.reduce_sum(tf.arange(N)**2)` are 3 sequential transformations of placeholder `N`\n",
    " * There's a tensorflow symbolic version for every numpy function\n",
    "   * `a+b, a/b, a**b, ...` behave just like in numpy\n",
    "   * `np.mean` -> `tf.reduce_mean`\n",
    "   * `np.arange` -> `tf.range`\n",
    "   * `np.cumsum` -> `tf.cumsum`\n",
    "   * If you can't find the operation you need, see the [docs](https://www.tensorflow.org/versions/r1.3/api_docs/python).\n",
    "   \n",
    "`tf.contrib` has many high-level features, may be worth a look."
   ]
  },
  {
   "cell_type": "code",
   "execution_count": 8,
   "metadata": {
    "collapsed": true
   },
   "outputs": [],
   "source": [
    "with tf.name_scope(\"Placeholders_examples\"):\n",
    "    # Default placeholder that can be arbitrary float32\n",
    "    # scalar, vertor, matrix, etc.\n",
    "    arbitrary_input = tf.placeholder('float32')\n",
    "\n",
    "    # Input vector of arbitrary length\n",
    "    input_vector = tf.placeholder('float32', shape=(None,))\n",
    "\n",
    "    # Input vector that _must_ have 10 elements and integer type\n",
    "    fixed_vector = tf.placeholder('int32', shape=(10,))\n",
    "\n",
    "    # Matrix of arbitrary n_rows and 15 columns\n",
    "    # (e.g. a minibatch of your data table)\n",
    "    input_matrix = tf.placeholder('float32', shape=(None, 15))\n",
    "    \n",
    "    # You can generally use None whenever you don't need a specific shape\n",
    "    input1 = tf.placeholder('float64', shape=(None, 100, None))\n",
    "    input2 = tf.placeholder('int32', shape=(None, None, 3, 224, 224))\n",
    "\n",
    "    # elementwise multiplication\n",
    "    double_the_vector = input_vector*2\n",
    "\n",
    "    # elementwise cosine\n",
    "    elementwise_cosine = tf.cos(input_vector)\n",
    "\n",
    "    # difference between squared vector and vector itself plus one\n",
    "    vector_squares = input_vector**2 - input_vector + 1"
   ]
  },
  {
   "cell_type": "code",
   "execution_count": 9,
   "metadata": {
    "collapsed": true
   },
   "outputs": [],
   "source": [
    "my_vector =  tf.placeholder('float32', shape=(None,), name=\"VECTOR_1\")\n",
    "my_vector2 = tf.placeholder('float32', shape=(None,))\n",
    "my_transformation = my_vector * my_vector2 / (tf.sin(my_vector) + 1)"
   ]
  },
  {
   "cell_type": "code",
   "execution_count": 10,
   "metadata": {},
   "outputs": [
    {
     "name": "stdout",
     "output_type": "stream",
     "text": [
      "Tensor(\"truediv:0\", shape=(?,), dtype=float32)\n"
     ]
    }
   ],
   "source": [
    "print(my_transformation)"
   ]
  },
  {
   "cell_type": "code",
   "execution_count": 11,
   "metadata": {},
   "outputs": [
    {
     "name": "stdout",
     "output_type": "stream",
     "text": [
      "[ 0.  1.  2.  3.  4.]\n"
     ]
    },
    {
     "data": {
      "text/plain": [
       "array([ 0.        ,  1.62913239,  2.09501147,  2.62899613,  0.        ], dtype=float32)"
      ]
     },
     "execution_count": 11,
     "metadata": {},
     "output_type": "execute_result"
    }
   ],
   "source": [
    "dummy = np.arange(5).astype('float32')\n",
    "print(dummy)\n",
    "my_transformation.eval({my_vector: dummy, my_vector2: dummy[::-1]})"
   ]
  },
  {
   "cell_type": "code",
   "execution_count": 12,
   "metadata": {
    "collapsed": true
   },
   "outputs": [],
   "source": [
    "writer.add_graph(my_transformation.graph)\n",
    "writer.flush()"
   ]
  },
  {
   "cell_type": "markdown",
   "metadata": {},
   "source": [
    "TensorBoard allows writing scalars, images, audio, histogram. You can read more on tensorboard usage [here](https://www.tensorflow.org/get_started/graph_viz)."
   ]
  },
  {
   "cell_type": "markdown",
   "metadata": {},
   "source": [
    "# Summary\n",
    "* Tensorflow is based on computation graphs\n",
    "* A graph consists of placeholders and transformations"
   ]
  },
  {
   "cell_type": "markdown",
   "metadata": {},
   "source": [
    "# Loss function: Mean Squared Error\n",
    "\n",
    "Loss function must be a part of the graph as well, so that we can do backpropagation."
   ]
  },
  {
   "cell_type": "code",
   "execution_count": 29,
   "metadata": {
    "collapsed": true
   },
   "outputs": [],
   "source": [
    "with tf.name_scope(\"MSE\"):\n",
    "    y_true = tf.placeholder(\"float32\", shape=(None,), name=\"y_true\")\n",
    "    y_predicted = tf.placeholder(\"float32\", shape=(None,), name=\"y_predicted\")\n",
    "    # Implement MSE(y_true, y_predicted), use tf.reduce_mean(...)\n",
    "    # mse = ### YOUR CODE HERE ###\n",
    "    mse = tf.reduce_mean((y_predicted - y_true) ** 2)\n",
    "def compute_mse(vector1, vector2):\n",
    "    return mse.eval({y_true: vector1, y_predicted: vector2})"
   ]
  },
  {
   "cell_type": "code",
   "execution_count": 30,
   "metadata": {},
   "outputs": [],
   "source": [
    "writer.add_graph(mse.graph)\n",
    "writer.flush()"
   ]
  },
  {
   "cell_type": "code",
   "execution_count": 31,
   "metadata": {
    "collapsed": true
   },
   "outputs": [],
   "source": [
    "# Rigorous local testing of MSE implementation\n",
    "import sklearn.metrics\n",
    "for n in [1, 5, 10, 10**3]:\n",
    "    elems = [np.arange(n), np.arange(n, 0, -1), np.zeros(n),\n",
    "             np.ones(n), np.random.random(n), np.random.randint(100, size=n)]\n",
    "    for el in elems:\n",
    "        for el_2 in elems:\n",
    "            true_mse = np.array(sklearn.metrics.mean_squared_error(el, el_2))\n",
    "            my_mse = compute_mse(el, el_2)\n",
    "            if not np.allclose(true_mse, my_mse):\n",
    "                print('mse(%s,%s)' % (el, el_2))\n",
    "                print(\"should be: %f, but your function returned %f\" % (true_mse, my_mse))\n",
    "                raise ValueError('Wrong result')"
   ]
  },
  {
   "cell_type": "markdown",
   "metadata": {},
   "source": [
    "# Variables\n",
    "\n",
    "Placeholder and transformation values are not stored in the graph once the execution is finished. This isn't too comfortable if you want your model to have parameters (e.g. network weights) that are always present, but can change their value over time.\n",
    "\n",
    "Tensorflow solves this with `tf.Variable` objects.\n",
    "* You can assign variable a value at any time in your graph\n",
    "* Unlike placeholders, there's no need to explicitly pass values to variables when `s.run(...)`-ing\n",
    "* You can use variables the same way you use transformations \n",
    " "
   ]
  },
  {
   "cell_type": "code",
   "execution_count": 32,
   "metadata": {
    "collapsed": true
   },
   "outputs": [],
   "source": [
    "# Creating a shared variable\n",
    "shared_vector_1 = tf.Variable(initial_value=np.ones(5),\n",
    "                              name=\"example_variable\")"
   ]
  },
  {
   "cell_type": "code",
   "execution_count": 33,
   "metadata": {},
   "outputs": [
    {
     "name": "stdout",
     "output_type": "stream",
     "text": [
      "Initial value [ 1.  1.  1.  1.  1.]\n"
     ]
    }
   ],
   "source": [
    "# Initialize variable(s) with initial values\n",
    "s.run(tf.global_variables_initializer())\n",
    "\n",
    "# Evaluating the shared variable\n",
    "print(\"Initial value\", s.run(shared_vector_1))"
   ]
  },
  {
   "cell_type": "code",
   "execution_count": 34,
   "metadata": {},
   "outputs": [
    {
     "name": "stdout",
     "output_type": "stream",
     "text": [
      "New value [ 0.  1.  2.  3.  4.]\n"
     ]
    }
   ],
   "source": [
    "# Setting a new value\n",
    "s.run(shared_vector_1.assign(np.arange(5)))\n",
    "\n",
    "# Getting that new value\n",
    "print(\"New value\", s.run(shared_vector_1))"
   ]
  },
  {
   "cell_type": "markdown",
   "metadata": {},
   "source": [
    "# tf.gradients - why graphs matter\n",
    "* Tensorflow can compute derivatives and gradients automatically using the computation graph\n",
    "* True to its name it can manage matrix derivatives\n",
    "* Gradients are computed as a product of elementary derivatives via the chain rule:\n",
    "\n",
    "$$ {\\partial f(g(x)) \\over \\partial x} = {\\partial f(g(x)) \\over \\partial g(x)}\\cdot {\\partial g(x) \\over \\partial x} $$\n",
    "\n",
    "It can get you the derivative of any graph as long as it knows how to differentiate elementary operations"
   ]
  },
  {
   "cell_type": "code",
   "execution_count": 35,
   "metadata": {
    "collapsed": true
   },
   "outputs": [],
   "source": [
    "my_scalar = tf.placeholder('float32')\n",
    "\n",
    "scalar_squared = my_scalar**2\n",
    "\n",
    "# A derivative of scalar_squared by my_scalar\n",
    "derivative = tf.gradients(scalar_squared, [my_scalar, ])"
   ]
  },
  {
   "cell_type": "code",
   "execution_count": 36,
   "metadata": {},
   "outputs": [
    {
     "data": {
      "text/plain": [
       "[<tf.Tensor 'gradients_4/pow_12_grad/Reshape:0' shape=<unknown> dtype=float32>]"
      ]
     },
     "execution_count": 36,
     "metadata": {},
     "output_type": "execute_result"
    }
   ],
   "source": [
    "derivative"
   ]
  },
  {
   "cell_type": "code",
   "execution_count": 37,
   "metadata": {},
   "outputs": [
    {
     "data": {
      "image/png": "[encoded data removed]",
      "text/plain": [
       "<matplotlib.figure.Figure at 0x7f018c6c3cf8>"
      ]
     },
     "metadata": {},
     "output_type": "display_data"
    }
   ],
   "source": [
    "import matplotlib.pyplot as plt\n",
    "%matplotlib inline\n",
    "\n",
    "x = np.linspace(-3, 3)\n",
    "x_squared, x_squared_der = s.run([scalar_squared, derivative[0]],\n",
    "                                 {my_scalar:x})\n",
    "\n",
    "plt.plot(x, x_squared,label=\"$x^2$\")\n",
    "plt.plot(x, x_squared_der, label=r\"$\\frac{dx^2}{dx}$\")\n",
    "plt.legend();"
   ]
  },
  {
   "cell_type": "markdown",
   "metadata": {},
   "source": [
    "# Why that rocks"
   ]
  },
  {
   "cell_type": "code",
   "execution_count": 38,
   "metadata": {
    "collapsed": true
   },
   "outputs": [],
   "source": [
    "my_vector = tf.placeholder('float32', [None])\n",
    "# Compute the gradient of the next weird function over my_scalar and my_vector\n",
    "# Warning! Trying to understand the meaning of that function may result in permanent brain damage\n",
    "weird_psychotic_function = tf.reduce_mean(\n",
    "    (my_vector+my_scalar)**(1+tf.nn.moments(my_vector,[0])[1]) + \n",
    "    1./ tf.atan(my_scalar))/(my_scalar**2 + 1) + 0.01*tf.sin(\n",
    "    2*my_scalar**1.5)*(tf.reduce_sum(my_vector)* my_scalar**2\n",
    "                      )*tf.exp((my_scalar-4)**2)/(\n",
    "    1+tf.exp((my_scalar-4)**2))*(1.-(tf.exp(-(my_scalar-4)**2)\n",
    "                                    )/(1+tf.exp(-(my_scalar-4)**2)))**2\n",
    "\n",
    "der_by_scalar = tf.gradients(weird_psychotic_function, my_scalar)\n",
    "der_by_vector = tf.gradients(weird_psychotic_function, my_vector)"
   ]
  },
  {
   "cell_type": "code",
   "execution_count": 39,
   "metadata": {},
   "outputs": [
    {
     "data": {
      "image/png": "[encoded data removed]",
      "text/plain": [
       "<matplotlib.figure.Figure at 0x7f01814bd5c0>"
      ]
     },
     "metadata": {},
     "output_type": "display_data"
    }
   ],
   "source": [
    "# Plotting the derivative\n",
    "scalar_space = np.linspace(1, 7, 100)\n",
    "\n",
    "y = [s.run(weird_psychotic_function, {my_scalar:x, my_vector:[1, 2, 3]})\n",
    "     for x in scalar_space]\n",
    "\n",
    "plt.plot(scalar_space, y, label='function')\n",
    "\n",
    "y_der_by_scalar = [s.run(der_by_scalar,\n",
    "                         {my_scalar:x, my_vector:[1, 2, 3]})\n",
    "                   for x in scalar_space]\n",
    "\n",
    "plt.plot(scalar_space, y_der_by_scalar, label='derivative')\n",
    "plt.grid()\n",
    "plt.legend();"
   ]
  },
  {
   "cell_type": "markdown",
   "metadata": {},
   "source": [
    "# Almost done - optimizers\n",
    "\n",
    "While you can perform gradient descent by hand with automatic gradients from above, tensorflow also has some optimization methods implemented for you. Recall momentum & rmsprop?"
   ]
  },
  {
   "cell_type": "code",
   "execution_count": 40,
   "metadata": {
    "collapsed": true
   },
   "outputs": [],
   "source": [
    "y_guess = tf.Variable(np.zeros(2, dtype='float32'))\n",
    "y_true = tf.range(1, 3, dtype='float32')\n",
    "\n",
    "loss = tf.reduce_mean((y_guess - y_true + 0.5*tf.random_normal([2]))**2) \n",
    "\n",
    "step = tf.train.MomentumOptimizer(0.03, 0.5).minimize(loss, var_list=y_guess)"
   ]
  },
  {
   "cell_type": "markdown",
   "metadata": {},
   "source": [
    "Let's draw a trajectory of a gradient descent in 2D"
   ]
  },
  {
   "cell_type": "code",
   "execution_count": 41,
   "metadata": {},
   "outputs": [
    {
     "data": {
      "image/png": "[encoded data removed]",
      "text/plain": [
       "<matplotlib.figure.Figure at 0x7f017b037dd8>"
      ]
     },
     "metadata": {},
     "output_type": "display_data"
    }
   ],
   "source": [
    "from matplotlib import animation, rc\n",
    "import matplotlib_utils\n",
    "from IPython.display import HTML, display_html\n",
    "\n",
    "# nice figure settings\n",
    "fig, ax = plt.subplots()\n",
    "y_true_value = s.run(y_true)\n",
    "level_x = np.arange(0, 2, 0.02)\n",
    "level_y = np.arange(0, 3, 0.02)\n",
    "X, Y = np.meshgrid(level_x, level_y)\n",
    "Z = (X - y_true_value[0])**2 + (Y - y_true_value[1])**2\n",
    "ax.set_xlim(-0.02, 2)\n",
    "ax.set_ylim(-0.02, 3)\n",
    "s.run(tf.global_variables_initializer())\n",
    "ax.scatter(*s.run(y_true), c='red')\n",
    "contour = ax.contour(X, Y, Z, 10)\n",
    "ax.clabel(contour, inline=1, fontsize=10)\n",
    "line, = ax.plot([], [], lw=2)\n",
    "\n",
    "# start animation with empty trajectory\n",
    "def init():\n",
    "    line.set_data([], [])\n",
    "    return (line,)\n",
    "\n",
    "trajectory = [s.run(y_guess)]\n",
    "\n",
    "# one animation step (make one GD step)\n",
    "def animate(i):\n",
    "    s.run(step)\n",
    "    trajectory.append(s.run(y_guess))\n",
    "    line.set_data(*zip(*trajectory))\n",
    "    return (line,)\n",
    "\n",
    "anim = animation.FuncAnimation(fig, animate, init_func=init,\n",
    "                               frames=100, interval=20, blit=True)"
   ]
  },
  {
   "cell_type": "code",
   "execution_count": 42,
   "metadata": {},
   "outputs": [
    {
     "data": {
      "text/html": [
       "<video width=\"432\" height=\"288\" controls autoplay loop>\n",
       "  <source type=\"video/mp4\" src=\"data:video/mp4;base64,AAAAHGZ0eXBNNFYgAAACAGlzb21pc28yYXZjMQAAAAhmcmVlAABMxG1kYXQAAAKuBgX//6rcRem9\n",
       "5tlIt5Ys2CDZI+7veDI2NCAtIGNvcmUgMTQ4IHIyNjQzIDVjNjU3MDQgLSBILjI2NC9NUEVHLTQg\n",
       "QVZDIGNvZGVjIC0gQ29weWxlZnQgMjAwMy0yMDE1IC0gaHR0cDovL3d3dy52aWRlb2xhbi5vcmcv\n",
       "eDI2NC5odG1sIC0gb3B0aW9uczogY2FiYWM9MSByZWY9MyBkZWJsb2NrPTE6MDowIGFuYWx5c2U9\n",
       "MHgzOjB4MTEzIG1lPWhleCBzdWJtZT03IHBzeT0xIHBzeV9yZD0xLjAwOjAuMDAgbWl4ZWRfcmVm\n",
       "PTEgbWVfcmFuZ2U9MTYgY2hyb21hX21lPTEgdHJlbGxpcz0xIDh4OGRjdD0xIGNxbT0wIGRlYWR6\n",
       "b25lPTIxLDExIGZhc3RfcHNraXA9MSBjaHJvbWFfcXBfb2Zmc2V0PS0yIHRocmVhZHM9OSBsb29r\n",
       "YWhlYWRfdGhyZWFkcz0xIHNsaWNlZF90aHJlYWRzPTAgbnI9MCBkZWNpbWF0ZT0xIGludGVybGFj\n",
       "ZWQ9MCBibHVyYXlfY29tcGF0PTAgY29uc3RyYWluZWRfaW50cmE9MCBiZnJhbWVzPTMgYl9weXJh\n",
       "bWlkPTIgYl9hZGFwdD0xIGJfYmlhcz0wIGRpcmVjdD0xIHdlaWdodGI9MSBvcGVuX2dvcD0wIHdl\n",
       "aWdodHA9MiBrZXlpbnQ9MjUwIGtleWludF9taW49MjUgc2NlbmVjdXQ9NDAgaW50cmFfcmVmcmVz\n",
       "aD0wIHJjX2xvb2thaGVhZD00MCByYz1jcmYgbWJ0cmVlPTEgY3JmPTIzLjAgcWNvbXA9MC42MCBx\n",
       "cG1pbj0wIHFwbWF4PTY5IHFwc3RlcD00IGlwX3JhdGlvPTEuNDAgYXE9MToxLjAwAIAAADIbZYiE\n",
       "ADP//vbsvgU1/Z/QlxEsxdpKcD4qpICAdzTAAAADAAB4He8+UME3qAgRXU+O3+/edMJ0DnCMXWPN\n",
       "eZygE92gs3qdzsl1RjH5VUqIbQW4lbEY1EhCwAAAp+d7WlESNH8y4yoHWdjEy3i5zj0iR5r7oD4c\n",
       "evRGf5YZpSE2T/MqtpALqtLPBV7Di/jhpp/BE5Hr5txSfEu67UvppgZwAi2i8q+512MwmU2ndWiZ\n",
       "0/gy29dsLpujNTmKwjGLSMJz2YilEL4r07flZfkmw/NVWvox9hjJ1m9L6gw8Ob76LAgnuCGgc52d\n",
       "Dha90pVUIyCF8fKxNLt4Gbva9jGQsOR1327NyC2X7ON7gecpbjvz3Mtumnet+DhqiiQX2r6+ex3K\n",
       "UIboAKQlLQfGXbSRo+zfPXXlcAq497i8YsYhV4qxiPAJOu7czM80g4LGjbRY6+1qIA4l9hm/SuOm\n",
       "kJhBZIbKIk9WF7RsjjGFOAdS/rNzWx+Oc4WL30dHn9bymJE+/o6VRBxvsG8BcsmPaAMG1vUannqL\n",
       "i6L3pdl3hHgqFTFNhoreScQKNSVCM7qfSh2BWfXn/oAWuSe5NxbT0yu/Rp2N5gIyqPOjHIlspSgq\n",
       "xbess6Djpl8fXHUGJZbdH+ex4aWjROxi/9c7iGaE8uOMOB9wPXwXhicJjay35RBRf9DvLHwOVQDF\n",
       "8F/3WM2et/+aVVjVA4vGmnd2udW7ZM+XwHTxgp9t74x13KyDl5SEbLup2dMZHg1FjkyM7k3RBxuN\n",
       "wcv99vIZF3502Mtj97eqCA6nq+EFKOvwAak1VMmF6l9o9jHoNBbrKkF5kOoxmxsAZWQ6FHZPGqhA\n",
       "xdZhsFrOSfdS91UjOPCYwd9//mdCThpuQK8y9aR4CYWf0SH6PFBje3T+Uppd2gaZueG8EyMJSsDf\n",
       "3zew6EDyNS6CNWV0M6OMzF7htHJaIBdXPtfaFQSRyC9sgHfoMOKstKQHpfrbK0WLXEeyOtczBE+i\n",
       "LbeT/hflOXKnQuBvXTVP4p2DdqqTzZQcg5iy+dQB0sRzfzKMA9tyrtN3NuT8isMNo53GXkDccYu+\n",
       "jNnUEY5F6d4fN4eD9p+SxlYvhUVi3nkosieWiluS3/2IFUnY4kJ5jky0ldhLl7nRhFt8NPzrW+CF\n",
       "4i3g8vVYe2GaZBHog9VQcUyirOnVBxdG1BM51/LOGAGJFflZU7zm2/z4tr+SY7QexJlgcySU4/dy\n",
       "jlANYfN8kC/bEXOlvjNpYxIWQjrgcRnoKNl1SNoHqljPu/BNaZCeH49BAYbJlhIZRIeXdoh7bSQH\n",
       "ryNnUxZWsPd/MUq9Hj6nGa9NB3gZFy8gwR85mVrB9j0dOqXJ4DEKv0rkG+BtnOtiPZg/8o4B8UOU\n",
       "Jt0HR+SxVCIvgeuWBauvS5UlZq0uxbKQFioxdewXSVcedNh8ZoLgT/234NOxIst3FPuPTYQn8Mlh\n",
       "yDOVtiVbEfJHrszn0YAAGJTn1a+VLpS/jUeaLxxnIzaSWY2AUC4CcBegGkrz13SeKcfhz7/HfPEI\n",
       "0OBXCV35mSEBAs526ysd5XeSM8LSvV+TjcMhPppYKtV8eDNMdF7crn1qwVzJm3Jfi09llA/l6cz9\n",
       "UnmfF6WbX6gGvnzoGC06I3qbQepPsoYythH2w/NnyQ6qwBrJxZaszyyBcMpThd1i1k6eXC3SDmsJ\n",
       "W8q2XEtTOFBeBWCKza/vlyt0q8sb+cKNdMNwv2JntO3rK8Jo30osrz1F3U+xHHQzvVqYKmTYujVp\n",
       "12UDMvJmLCa6rTNIt84pOlV75ThwG0q2FRt3I6jf4pVWCtHBAm3AJkiDxHyXzD6pr1u82tiGTR+C\n",
       "L7ZrCc00c8qSY3sidIJEMTrdOFraZPaUfMD5Ay8pK/tgQ4vg1cuHJKhNOCDrLaUEeli72eyYrew6\n",
       "Xx5vL41axaNHcScR4T6h5hvTefgxmyDHPT+LA6LT12eJfBSLS6webJ4e9ATOXcvZ9Y8bc9gV3yE8\n",
       "SReHlboFRUeyeCh4AjgycvnNM64dvUfEZngvZ+iDxPIp+HliuUknhiIQ9/IxdyXBKTZN8aioAOge\n",
       "ID8do/MGFEOtxsELXSWsmk4qZdxCJC9WFuBBjW82uz1Lbz2NqH1kxdI5Uuf/HrYZ03H4BmZR2w0r\n",
       "F/qhXEu+A2MvJjkZH6C+SZg2nH8NlPkddAhAijN41p2Hib/3UIOXef8NA4tPWIUUom9m9rXqQ8H8\n",
       "SrrHaww3deWaQ7NhtaONoDm+J8qAHKu5qatxsrgVFCEPTLzs/5gXZBtL9XzENRrQZnxF8EIoISEi\n",
       "13fmK1fG/KvSN/58QAm5PA+6HXyrIVQ2d2w4c19opOa3qDFYQyXAQQaXnW1Qq21clLFidddW1N7c\n",
       "DhG0RPvIurSHu2szKUcgulr06HA+Pb3tIfM/OlQns7M2Ku6GWxc9vIdt1DQti1w12fzAmeDwPh+n\n",
       "d3A2SDZsoK+6mKC6HTNgjWuN67PAQ9DydQTD8mCLCFQN8GXCEOmq8AEtqJYUWIgmxxxM5bcu8dio\n",
       "2q/UnVfK0ZodmRthMbrz0cxtV053moWAfPqY5c7OEsgyn6auOQGHMhSpZjwwVry2Q3PwAay8V1Db\n",
       "vsMMFwGhpjQV9bq9msejIe877StnHN++XZUAfY49zLFjUoBWRqIzKD21QmFAILJp4IBpglFkPz3S\n",
       "AquXjCHm4TEXi5ecp+w32pJ4vzvkW+Nx6DolPo/hUkanT3k3jxFmivCIQ3D1jm15f+eU7YJ4ivuB\n",
       "0J2twIU7oM6A/DfTsIvy8Gaor08EnVwlY75cwJUEmsNWzwfaSatInR5J9wV4EzZ4XM2kp5tLK1Hy\n",
       "530PzXt9a6sKimdJkYUh3V++HIO/fEextfjhyTq0vmPijgkUIn16ce5iKS4NpvlOyIMb7gjZgza1\n",
       "NfPl4VSwczsYFLDNvpG/Af7fimLtQUFygdWcApzzQ/fBovXNdSdP7p/50sBKFOEW3L36uy98ySMW\n",
       "V7O2MTiYHbSXk3dGEpEQzt4fCCgiwg4Q3dDhvfgtnkxtOhYkU4XjQgCQJuH8yRw5beEsjLd0c/La\n",
       "HKz+IZaepYAApzfq8YLdGs1L3aHiEABgwHh2SlG7woydxfebFECavAnGVSYck53Vj742FaZMzDfw\n",
       "7uZGoiqDeFiu+47tFaAiVDfvaReIxl6EyGI8fkgsG8iqAP+BGcaKXBGriVXN+Ucr6/6HOPm3VQ5Z\n",
       "F4EX71bFmF9JDmdiOc77NBaEJAM68MHq8Z2Xte3xW2p0gbA5G3Kf7JnpmcAP/F5g6dHYNJoajMkQ\n",
       "68F9yRjzQvp8R0JKJs9AUKgS5ZZTfWqUSHHIVYrhY3uuY+dP9Kb9bTd4M4cG0loo61nnVRUQZyTx\n",
       "lWVQQbuak8MG9ODFMNuX1SLMGLWp0oIFt1kYpcgYcn6tQcZ8Tn6b9zS4NSRICX6VzmYiCBCC4II+\n",
       "MjY0jMyL8Sgcp2fWJ+annKq/XRttLvS6/wU1kBQ0x3HtX2wSkEGq3Oai/MeilMylGozPVF/F6Jrv\n",
       "heItp5SP3K8TxSzq90bjpyhHFqGOTotCln/iLxsAQQLWRW3IzMxc1rLrOuAmhXPCF9jud11nCjQA\n",
       "JVJcka57Bvzu+KAkaEqGZkIQFTViTfFt4NgTeBEgxuASHc1pNOd3aqs/u59elnTMz3DYs5WEg/P+\n",
       "Iz+TqRTu/F6ZxfuTZivy0JAAE+h1l0pwxWXcorR+xT0zlnmGvJBVP2j4/zbmYHuzAxjQN2O5/FMe\n",
       "eD2QBnSoznuJQmgmQ+1TBmE13KTLeV2AnZ4kWhzoXi/KgKGu31/mX1kERF3/+KAp4xZVfWTiiGYs\n",
       "ubEy/a6him7ZQafYXfMA12kPV6HOhOkdGUEh9PH2RcX37y4wv3pPG58o3rlQVDy6blCnjA6iNpmb\n",
       "fRngRIyMCqLEfzDuUU/bbgz+ZFGPb7YHOjkquwz+t3IHp3jnHGBdev0O9KCRf+GvFtYrLCfmHRSy\n",
       "NVu/rZmhWA+1xwZZk8G6KmScfhfFBF1Hm+KKfGFSK9YBYJMdLJQoIKV9ipihpufHPtWDBPuDUwp+\n",
       "gQZXUvZoifp3Wei812KT6WTKG05Ze4fRI7tR+tpk3ysaBXRmdrGztv+CLmczCRTyPra8ikA6FSDO\n",
       "vyXMIjcfQMkoTyU5cQbGdZcjbvVa0BhtesJYRWOq859ZDk4qBSzdAbVoxtalcTPzQm5rQ++TRpCj\n",
       "5r9qkJQVZEU4YBwOOn22CJQy9saXY4cipBkL2hQxbpHT+oFakTMsdNXkNAPgP9h4dujCTDnZ2kBG\n",
       "zHeA8HdEvtIF057r9bISB//mPfWgJMGlEY8Is1xZAE2zZahN3yklHyFPVt3ZBwD35fLxOTy4j6Xp\n",
       "Kt0ufnZRexgXhDuRRruSgZlUoZuAg6bWtleeuKl0VBxCx4ULMqbZyp9aJCfv8qX/6sJlxdPquVuj\n",
       "/5v8Hroc3s0S/uwDgOufcNanbF7I4YKEM6Yjz3ul8GUPCvc9739NyVCIoSOm4aXUBULAKuv9n3TK\n",
       "tgLuBbJYbRf6j7WPyEkuZ4dkHxnf2kwIx4r5JNkfWdseexYvpspLKk4AIOtPJfZGX1MUVtjj422O\n",
       "b3G7V0i8FMJWAgR1K1TaTJ19FNXTI7ZyLswbwr99DI5uwLYKXjETC6KM6lVAxoCRHECxk2RFy9Vo\n",
       "rdSx6F1AbRkyPQ6SslxZoVc8WhR993wfPvYSQ73jEbXv2U2at/bMAvDtreK9GtQCHomOINym7LCD\n",
       "J3C8hH/aci+Y9XIH6E4Cho5PjxMQcnYG2+BBgGtpQFwClEEf/Gyyz6pnvFLBvaH8adbSG5qLz13k\n",
       "hGeY8Q38M30R59JYA6o44Aa1rRzdjzO6BWko9jdUsnziof3AqTvaszlgyj7ZqEJb+jEeg+nOopaV\n",
       "UBwf7pCrCBwr2/vYQH0qjMvvbsKE7OShd2WmxfDYHeQowDKi/Y45zdrisXai2E0yKkdyvjaaHx32\n",
       "x//W80D3bvme3JFqDoTYqPpuDPlv/nHGiT+yynKVT/9lr5J2DnEiW4yHNnRU2J5WMCzmRbR0rpOh\n",
       "gsNUFodI4OGRfGN/5MbApEd7+6TpEDA13CtR4WWd9dDmUHQFRIMWrCdi5Oc7/iZeGhjc7wrTOI2Z\n",
       "dlqYdOqETDFOxM4T17CsUAaOualnc+5/4jnewBsIMXSyHrLwl/DCSZxRCFCoC/RNnofIbp2ZeW3i\n",
       "S7RRarOu8cL9isa2+IEF7NSzEwnFxGeXaK68wvB83CkCWsodl5TM1OMaJ9OmwEp1cjpTf9S7Zdrn\n",
       "dGQ6dE/TJTREmFh4e25/BoYa+KfzcSdsIloNsIv49RA0yv2l4MMMRO11dmYd11xUutMg9H08alOH\n",
       "t3rgN3uvzrJrhi3JvvolX5qxsYcQelTMw4vUtlYL4CUnlFvMwJkGXW3n5KWa4NeFqC6FI8lZXieU\n",
       "OtiZNO/4M2IVHnEFHley3PpLNDD4NlKA9zRakzj7W40PmfQ6QHLGSmtYkuYdRFQP78y7mJS4sR/P\n",
       "Uxxbh9PNO9Ds3Y9qPLMyexW+gZ7NI7A5w51kSju+lK5N62L13Al1vlvHdgdkfy9d/EhF4p9h5t9X\n",
       "9w6aNXLyP9JjIOllIKPkv6NV2YOvm6r58AjMi5dqsqO61ayk1uzds+UfG/sMV8QJN/ellbpvq0sg\n",
       "b2gstt/ICZG+fDQjVcvMDQxs/RbYRdybXXyXTBusOp7Sst7r0ebk6BkDibyuHcE/6NwDFC4SedGe\n",
       "qsik5wiTgpPKIkBHCC4J6tHLlJ1DNBrMW+VsEwLx/wXjoIriFRcVnT2iG4mm4zUuGhIzkWsolvFu\n",
       "DylHvL8PcETDwBRKiJ3hP6LVzBkon3sXW+fNhorpZreM2W2dquEtDQtAJQVWHiC26ofXv+4DyxxR\n",
       "DWdJAKbO+56GpjAUVP7V53+1PqYMQNAyaPsLsSk005Xy50SB7ZL+1u+ZpZFwfZnYOgFqFjj5z3pb\n",
       "g2fJiuRTJK+G6rf0yWdEVUGksx6XomKA9ml40KRgA15HG+kOioL5X2ht3nYUFcbcG1NH1HtKQMol\n",
       "RaZNBESTfN5Fzi40TFvgcrnASEFE8gYXB4PhN3vxrzr6hhDwy3dyGUJjzLOcmTJzWPRy4q4qaB9z\n",
       "85rCLHHuX3BaTpD1PxXKUKXHG5Il/V26PrPTzVN/QOW8QZ8gvB2mSNGZrZ9tVI0FxJpeYW3JMfmg\n",
       "+ZLsaLKtWMPffqu96ByqRgE4OHl7N9viSSK8HXO3eU4zZEc9Mg4JoIcJi2L49DC6Q7KE279+03WF\n",
       "FQ7XEj4EiOnZos2DvaPOYVrZuV/SwYa+vcia8muv7OXkyvxLOmC8qc+W7M3vac/2rHypOFeFt+Dk\n",
       "avLl1aI8B0fMOl/mqyAKDT4A5l3f/tYX6kV2wTJPu9Gj5VZ+bm6nKBvoDV5D3DeBTzFuKoEByVyh\n",
       "qe9alIQ3IbqBp7TKkT20+TCzmjr3L5RCGmEMMblJRZ3dhQQmjkmEYN7dXOFvJfFNmnRtuwWYXeQ7\n",
       "UhGv0T6qnzyCY3XgTJFTA5sMLEqdVYHp3tEnyf4cei/qe4EjTw95eQuEKbArMsB4/cZZds5W/jO7\n",
       "Ib3Xz45MJU+RRaK/BfyXt1jQfV6ydw2K+dDjdiEX2yFQjTi4hN4SPw0QfQkh1nytxYyXvwFZgatP\n",
       "M/D5Ap5AuVrzkU7MWMl5AzIxIl/VaTB57h5LlmzIMOfKNaNPAi/oE52CDC79x6OpoVdulFhOZ6AI\n",
       "n01jHhawVY0EoFMks9hgGbPPHvCrW/yATNFVBrExVxycFhZjyGMbXri88duJ3RVnlkAXFS//08xs\n",
       "vE1XNo7dFtKXGWd6aStmuH6Z9X6TECBT78NybIxTAwVHPdfynMLZxepjcmtvBvjUTdNR2b2fG+H7\n",
       "r+kZUxEyQx/YGMiP9oQ75lUNB5NhQjVMwT2wb4NIU4Ja2fELlC9yS9tSDDsRjBMU0Ae5vEuHx1HQ\n",
       "mvbxgoeA9MEt7PGmLKvZWOC1K54D2vza6kg45RxsYBFANcSz0llYlddtUPnaw2DcxswBnYg/tDa9\n",
       "wXEPi2FCcdb8C+zBGPm9nq/fPQVmculRqMcvGWXTTLVy50yGQDCcWj5wAx4PZGIxz14B6jHXbVam\n",
       "pXimjNj6XX7yZtb8eElDc5fTRRoHpUti7NmnwQHANXe55P/kzKaitUkzc0G8qJejwJcQd+a8qBDa\n",
       "GbF7iZkBGTeHN7dvrPeRPFJ6mCTFFDpF66IvYlfMpNiG8sobgzogdHsrOGiChEV0TljmG6jUQVum\n",
       "XhAfD3G6JGaOgb+U3ULKgpaaWSQuEgs+0dC6uoLAVj1fUyTFmevg9mV4HdG0hqrAI27PxVVWfKu2\n",
       "00xJu35qiK8gF7ek9+JwDr6oRCLSDLt4OaFKd5bqp4s0Z5FN8dfk54dr0WAbXF3DZLGRzenIXxRW\n",
       "kXovrAFhTadgJXy+IMOEBQkZovN+gIiNRli6XMeJbbPeoZyiyfVOcbvoTzfCqRSgwNlVeV0nE4fD\n",
       "FtY/EcF1C7j8KndhA06eVTZMsyvNhhqTR6lWCbaOfdtd1CNw3SB9ZNN7KaPF9AfAQMLNmbMXJ8fq\n",
       "vyyCBrM9kR5NgMoA41uJd7XIoYxWMcg0Uuixvrw6I/ar6geL4hNSEuu2CMrY+a8leUYARR17V6FE\n",
       "6eZs0Wew2NJ9Lztc+fI0E9WvzKa1KA28/J0QxzD581Qzh5RZkDnf9UJIGkmV6m9jQaEEaV6jcP2E\n",
       "b4DtZPTrmJ6WvPGFsWREK9mEL5iM9RgijCSudIlsy+5tv7juLIq/CHZbn7x6S+eAPF2S7r+ai/8G\n",
       "dLIjq3BSEZ9RP0vxTMEQU5U6SyqL3Q/XhHe1GDvRNyFkQjdzaAfq8t34R0CP2yfSoE4krejD8L5v\n",
       "xJnYFzz23gmSWXIQ1uHrDFTs/EIuFmYbksGNwhzyIapBq1kbfhf7rUBeK1kVS3QUDlHOZvRPgjT9\n",
       "qtB9DSESF8+X3efAdJ+qPVuIRHKInJfbqxWhRDcUuiPM3gLSMaQI51pmhV4Cv0cTLVzKUrzq5Brh\n",
       "nsaJuUymFE3WZfAi1XHVdV5ELJtc8jQar72rTY/TN2aA4smMuwedsPyi3uQfzV8KC/dVRaYiP/Yn\n",
       "zmkcdwSLOKhmgXaCl7MqEw+zRWyQ41dGp9Jvi2p/EIw9XfeaXT8bgfxiakUhb4aGZYnLlRpwIVl+\n",
       "5V0UvU8cddnHPPsFe3IR4zjRpIXTyzhFjD3UVOQ96lzJ5s/B24GZ9/8Oojba4K5XOcPPIhzLUToh\n",
       "BQmHvJjWgxC0+hyNJ6Enl9se3VyTK9XZD5JEWiTQpSti1hmK+KykL7s+954XQrNKHNd2Ntii5llG\n",
       "m1m4JLKqIY+m4BgSLtcxYfzU/r4WocuFHSUoH/uKP3AYhvrnMQZEBvKmSF+Ok45L29oxcoJw0YD6\n",
       "gHRi8jgE2GFyn3zx6QIr2Yww06zsE05SCmnFKRCc5FRSsuhaDrmRU35O/aT5gjy/bRDmCqIw+aCc\n",
       "MdlH541B0Mm4MZYo73oP3GTrwn5mkdSHKK0+hszQAcyWPSK2EmJP1N5OXe9uw/ORX45PV9tMsC5L\n",
       "tKTAVtFTIrrBrKtQB59dkAYkegfntOkD3VtRk88jWlGIN2Rf2rtUd8M0yvawlHHF19RV0d9lRQxg\n",
       "7Xix27d+7rJ7du0Su3/HoKqIvBHOtxxvIMccsK6ifIBqLJkTcfAFMMHfolh8hieyWkb/jbMOjnCB\n",
       "8bvfAx2p9JmWJtsl9GrN0SqcXlizs6npla/6JmLPcNVnlMp3VtttHe3hLlN1o9aTRrI4x+obKHpE\n",
       "J4OOnhpcWj3Z8DuxwGkDMPBSI0p3AnZaZXZOQfJjyNTuXyn6HLviaTbDf45n/LaGTSg6nDc5tM2m\n",
       "dYUfBd47UP31gwtogGGHOCYXwpUmm40IlcUn6O0D7VjXJzWzR2j/8WvwujWT03aLclW+98Q1RtBB\n",
       "5Z+b7bLI+kLjQCzBRiGMBRBQVvAmAMxPRARhB1C6KOOhlIr5lDdd5wk4ZUzLZzbUXA7A3OwOUoZh\n",
       "xfYFtsAeak16+zG+9TX2Lt1Smg1/i+Cluez44RsQOi3M5sXp7X4nqoKpyzqdveWJwcS/jEc6930C\n",
       "w7AiKwBRtiHNb5wdNIteBwgoBBnl2bzyOYgEB92LKwdRXW6fEdsLUHQnEgeXGnVnCwjFdkCD9r60\n",
       "1owkdRsRARtYXKMjzE1tbZKFSCeqQ70i37SWGuXIZxNTU0E0NgSMFydrMqonj5paVin1yYJZmxzI\n",
       "bfreVBBwwAR1xB/nMT4ddn2B86SEh08498yjAEChxzk/uLPJ+FQNOffehFIvUNV8TiN0uQDPrGAV\n",
       "NQ5TADSq/lQQDqB0ak4pu5KPJ+pORuMg0wTH65n35jhYtiMXjz9Jrp0iyLjh1p5fkGIT2NP9KJHU\n",
       "D++Q7EY8vp8t5wU6bQhDOXhtlgOuT7LtbR7vjSoSvLd5hDWCnrmhWVIWw/XAr5PssjOrX+9FHF+t\n",
       "vUWcByYranPae/Cgyo5AIwEeN0vHF+Lu372XpCsKcEga3DQYlSA6cSfHMoEh3/MERs1m3Z3n095y\n",
       "DspbaYoDIJkn5S+cgjcZeiflJfFITNZMQ+AZxQKduugnSACaCqS6gUCdSMNyaLbtdQtKbPXqhav0\n",
       "5aMxHKJyrTry0716M1wGx0ceqMIr9D9hqybluL1V5wv20jgeyLKLzlGB29UzI0L89eVandnxDDYj\n",
       "11+9S+2I/DfOHGJM6Q6l6JprexG2blsCiHv6jmX2KHcWMOFsGooX54OGH4Ti5ndTOXoHK+ItGXwZ\n",
       "ivkP4E/kigqrR+KYLZ5mXWPIzMPyvrId10XE5i/R96IE4tOX7ClWN0KogEkVFbMkuptQkL6zb4wG\n",
       "zJ4scjNe7gh/Q0ug4BUxm2yw/PTxsVcTWYPwtLtwb/5NEuOCQGScayTUzCTjJnXbQqoRlkEG9j5u\n",
       "gUd3ePZDqW0SeKr8CmSyo/2HfEn5UJwe1hQ+xzzaMF2+JMeCUjc+eWZ5E7AbdVN9OJ1O1T7x3f2x\n",
       "3uU+jjQtkVEHGMsa1qYrRxGYj3GXNeJK3/scVB+dhKL+4/KUQJBoefInWqv6TxYQCAZ+gKFSwmq7\n",
       "aoM8QZsX4ENvXaGBbofneUwxBAzXNtKrH10X7xj/yX2j2TA831Rd9CAGfpJ7M3bmw//4XEXXvjx8\n",
       "lTczTNfkXm//gnVWxAkIS8MMAKSOZo2pZfItqnYpUsKGJj5PbI8byggLL5dU8wAonyuHHPRlbJSy\n",
       "7Y5MPcQ8tgXveOwb0CBFtYFtyltVHUbbTvwVUVQE193mhWkiTdxg0VjbWCX8KOGTRA2FqCd303Yh\n",
       "7hAr9SZmis3nHPEiZnOvgNNG65RQZoCuU+5nVTrkI5mZ2vUuNh4442gBO9QJjGYUW5GyBHlLBEdq\n",
       "UnP6vIen2pgmBRNZIw3G1icVEQoRzkULEnzIaWM/EMrTo/SHQxx08eo+X1fm5656ZB7dXmKdAkGc\n",
       "0CT05OVjfHC9D8CqMXzzGziCx5hdqc57Bua0Xe4ReN3Ta8oVhtnQKOHQRYhiZ1O1YaYqaNZSi9xc\n",
       "6fIGdU9KqpC9vjh9t01L9fBi6RE/agTgzRVVBI/fas1JJnCa2+5Xyo9c2XpzmsamwIGiTPue3YHS\n",
       "f7AY4bs2C8gz/7KjX6Nk5mQcEIZOFX0cYU0GkqBSFSOViV9v/VCeHOgqRwg24rKkpTBN2Cck7iNB\n",
       "Mmt6RPemyrLFqY1yELrcx7YhFghV4YC3koNnyULAzl+n6h7ON80R9k40z/0IIUFBabaS1HD1ASgN\n",
       "KVw9cKdMmajCzsqVslqvCY0k7tuT/8unepmEVu9OL/sYL6kMHvHRaaE+hFVRm3lKCwqMPqq1AmGy\n",
       "VuRnzYY7XxM1ZY3uE6k1+dlSH5fvR3wv/h2z3/v8yUPHQbpoAm13LJJOY2F0hWVD1jNCZwxfhmaH\n",
       "rCToyjb2IqCo7xFVnGUmuTqtnmW2Bg66mbd6k1n7KHzzl81pICsT7wPFmuM3Ueikgk9GM0l94K4l\n",
       "KAPqxF9Lc/JUn42uwfBSFxprPxwKSV4D7Jfjua/aQYurvzhrtyzXczKVXHYFgopOrxO6Cr8uoci5\n",
       "hN+bvxpQH8r0NW8HaXyvldtw67KoHDomOJF6QewnrasXN2YGIkZrsAVmarr/prY0FmrWKoZ0GAOg\n",
       "RbQ5hd6b7gwJ16nc/FDopmKkcvjXGUKncC+HebL2I+1tWa1IwTWfbRmdU8v56/dE1dExjIJ8K33D\n",
       "LWq/0aCIA27gPhHbqoitfjD0hd4xLXsUUANcD9iQTmif3mMDDrVlqRRno6XbQRvwk4XMB2SmF44Z\n",
       "f6OG/tRSHFcCCAVFietzNQhkv/PpJmlo3sk4CEQfsr5IOMAVi4BlCqQ/gI+oE7c7+YfLNiSqwJSE\n",
       "WAE3pq7y9T4JX1jEWpvJYIwJKHLO06A3b+t5LgKtBjJGqLFGx12OGqRP/RuzWW1CIMHRVYK/wDuL\n",
       "BMFUjMDViMcaiNJsaJxixKRITjln0QwCfow7FgfzVvqfsBmza5MseqvgD6dsYCAuGW5VMqWct5aj\n",
       "AL15ebrLoSk/iyNeR7JQCSARME1a9IUIUCIi4mfmA5q2x3rFhWRew0qBH1zPGSCmPkm78PEoaCkE\n",
       "wMNy0NG0IiZ8/RJ7JSHE77qulADsHbQRb60mJp2OzVaLqCXzE/Hsbtj0wjWjV1J3mJzGlqrXdAqx\n",
       "iIptCrQwHjgHGMhRSKNGlE9diA3ZGqj+VpRf/X7OIWBfgMaFiynPQCZaD9qmLMQ5xZXBjjdET8Pg\n",
       "9t4Foeb4x4ZK3Z3a4GOm3gLd8SKSyLfU7s53hT0tbft43cqpHzj+L95NJ+NOt60SQ0dDxxWjxZvU\n",
       "znb1XNjG2cqsnWEmcP8DyhoL+vg1P7UeO3Obn5/rm23p9ohCaDQ75G1TnDBqQu0oV3r03VGPJ05H\n",
       "OAAyP6lrFVwBKyyEeJC+re/yBm/uQ6ioDNfHoePz8ZuZaR8qO/LPcRvgKAKyzAXXGQ8q0Cm/FLsW\n",
       "noXZNIw6uE7iIMcHPODU1/r75RFF2WuGXZvhWvGOoeOX40hbbOy2FGNri+BnKR2IhIn4mzbcdaOS\n",
       "OqRS66aTKu7kMiRUZCFSd9baWLqyy3eAvBKkUeM0V70fk9XsmYYqVeYVqBC2DHA1eft0zPZuKQSj\n",
       "ikT7Y3F+aqyLGJDFQwj/mF3R9y1PD/uAQ/uNNYCnPwBpwEhRmpnFdSyqKKZxVT5SzPLc4Pm93Z2p\n",
       "ASG2K4bzilaekJ43wizmlcjKZmcwnb8+tULLcl6ENLt6va/ixQoZXpUyKeUoWrwQ0lY+6sLg9Tvb\n",
       "/r6E8/D8wuk04/eeho/l9e//DPAlcccsGOZktz7KXB+eo7EFwV3MeLeTtlRwWgu8kT2itkFfv+pB\n",
       "FQ6fKrDXFT8l94V6BMtUg7hYbLnw6YMIrzH4zHlePzg8LVY1oKyUiz1PFVERzPw9/bKL/z4r13u4\n",
       "+sqV429JhPuwDsZg87CoazxL8zKmcpTDl/dbJa6i8IAKMmHLwY1sX+XlUDLHXpXC7usEv/oE2loE\n",
       "SghM0L++kYRtsMDpTSAbWyvbuAxdTou6mhw4PVeUQhwvGRvI//R034ixylfMtXtyVTokkCWOfeZr\n",
       "tFjrZaallzCS1Vx5cAIvK7yMGsRN1AzffK84HOxLeQvgZam2SyJ6nLwUKLgdju2STNqHCqoIwCjB\n",
       "E+EIZ1EN8q9drMt6CcmzBNfm9J4GDAcjq6bVYnW50T3qXk9v1qloJ0a24N2pbMiATX0kSmCMMG1H\n",
       "V/g7uWP444lw7r48DQH4fwba+Hr+UFliu6g0pGpDIktk7d+3HX5YPBl6+Fzkoc5bWHJKbKt6TzkP\n",
       "TINNZn76jCjlo9zWjyIpugoPsdrFHu7Ynftdtd+0riYVof0EYRSRqpaAB3paDm0yB5y3s7ARaYgv\n",
       "rm4YDE2RJhGrEn2SZQ1Nh9N5q1ZZXo8Q2GwTb5sX+FEHgdZYlTFP3BrC/DA1eVgta313HNoHxZeA\n",
       "yVetXR1uK8c559xjiXQLSIawHmC+8qg9Vtcf980BfEZFXpHcnWa+e5mTAAps2UrSdzQV4KyeO/k5\n",
       "2PeNGM3f6kkIhD81y6lS3y4Yl8oMgio47Zca2Wl7kev0Rvq+nnjEw5Xm6itAH5kSsJOQ/ewFoXgp\n",
       "IVF7T3UoBKrDdS2G2+/gr30Gl+MoXQAnLMYH/VGrms0IphbmQM8pYxOtKBjSBEhDqzudC0zrrgn0\n",
       "yIIr97zmibazUL4KmtN9Z4ySRW7GVb9ZJz1FFxnv9wHufO0NS6Xxjf4p4YlVeRGNTxSJkC6Rfn8L\n",
       "/tq91VqbEDHjYFftHfOOLwI+gMbkPcEYpx7Oo/MsR93b/AgusMxOZCoyrWjFLkJ+cnRtPuapqFiw\n",
       "I4qeV4+ElzUUQCtPJMOUqp/otdH9/z7ZLxlNN+KX8It1EcojbtLTqIqXVMx5DAP3q95BbcGhDpPR\n",
       "Kc2jfIL6yRePkR7nYB8RhCe2YVz/epWY9YxZtgTNY0B73z5L3mUQ+VtDm9+tnAAcUs9oCV6IjX/s\n",
       "vhcnSqRU6qVRVKvwE63+KARah7nFLl11nJsac9kTzL4TVS67+jvf5b50OTeJZOtca5Jq1VbvkK81\n",
       "lq7W1J4pDKE9Fmd5yderSYffkUz0asVcqm8YTjJDYnZ8r0MzPW13ti4aVdhgjKHVJod7LNBfpkP2\n",
       "qFEO4oDKT26E6urdQU99KH6KGrK0c53DjIM+DdFIUHFVSSbeLzg/ZtUIBfxVnry1Y5br4x5sr5uf\n",
       "EgLZkL3yO8kD+zcuj1zIU3FqGYjPUg00cH/4+HQfAmoyflhgiIDxvJbscLCXwdpQx1zAEF4OTmIY\n",
       "DmyBnT3Z6nlVfg2CnHldWiwCI8h7Jafumsvzp1MF19MgFD7/fqkwr2EEu8hItMo3vWWi8gnYSzVb\n",
       "PCbFdK1k/SwGuJ+RFGV+eHdSeNN2sZhMptLqHOdaOGpjT+gREw0ycUGamOYMnxJ3TQm3Ta7qLlF/\n",
       "qphAGhdFrU81LHVvvJipMt4SQf0YtU2rfdjJPvcJnkfLOgupsACYk0lfbkQUSawlGB96ZCXYquxS\n",
       "0PL6KkiWmt3DrywrU7ljX/vu/uwZtc2jvxqGwdMoC+yfXNhi/wRYe5Q1EQ/waQwchb/Lj6h6jHUj\n",
       "WAB9szy2RLpEJmPvC6uIfCrZ2R/423RBAUPofnRsn9H5k3wDBiU4dpNCP05pHBCVf7tGM4gKEapT\n",
       "MRokFldNQF7xQLy8Bmts9dpIuwN4iAKdAeE3AZ6LvzlaCpKxt/vq6Gn5LzE7OdxkwJIkp9mTP2i/\n",
       "7tRPVWxYpdT04HfGlOpPw8ZgJlyobS5QwFjGNPhyZhhAVXwnsM9RG+1LUSRwYExPKqLBCBmLd6Ou\n",
       "0y/u1vtcC2kbjSSSesryUiIRn09YOhqUvcYQM/I6oNualn1Dxr1Wr2vULotPo1KcmNYn+HX2yZ+X\n",
       "phArQExSMjiRmD6sUyEIIQ8YA5lFJm/Bo5LCeVdb1plW6n0bQNuinB2cDSjtaACyoLPlLFVpWYt+\n",
       "48qNjHBEosb12U1cZA3dL055sGf1T8Jb0g7nzktbSBqcsy7j3mDkc4xdmv1mugPmPIlhau/qJ3jM\n",
       "s5wFwujU4OPblm5NLZeVhdPWVVSkgFNn8qcK1NuXmbqz5H/fsW+1pzPvUQ0+ZKvLwwv87SWNaJ9t\n",
       "kqtzHohn/JBmuISBVYBAEGTBFPQyzvJZcwOV0mfdnvvMmKkro1n3aMkLFiYlGnRUO/PamSj85yoc\n",
       "DFUCu9MlmgxOKZhgpuGMCDTqWOv/tYHPnYNDPjASJjPSUg8xMlPKKmrY78lDBMJVdkIiZkU5J+NE\n",
       "Zu99Ww4NyNE3t2dOjGh6ptrDeRmtuxN6zSVghLgbn//++EyESLqRplTALZMvCYvKn2eMVyRbAhxF\n",
       "qi5JPIj/LRwooUbGNsFaMkPkFN9a+jb6yR2TIB+4lAWiRDHzUk+vPAdTLVz5ObQOEGP0SBfAKkmE\n",
       "UMhhzGrO1jiaWjm7uEO4La+gnmemBw+w06Fz8uFjdV1iesm+NS/68VoinNs6W6ZrszDiu1nCgtl8\n",
       "11zK/nTihEqs3WPDiAGXj3b0CmIIaiHhKKOCHMM0FlEzYMQwnQQZsxa++5O+thKV3c2tKjIauT6S\n",
       "9FE5IdHgTQ4auIuFiSv4iwKe+7q7zO496cpWlfQ3nx2xREqzYmafTzNoFLxNvWfyXLr/wkWb+pjy\n",
       "iF+UVecllthe8oCIWrJi6skATxSuZBZPfferu9/bjFxbFHESq9ibLwPUfbJxs4gXXaVzsksFOqZR\n",
       "RzinyBQX0sUfdZAo3OH6P2Ys/WbVGTerLLwac5oESoxITuToOSXgiiWgQrPlm6bsftnVrh4j+FNb\n",
       "6XUAFm0sjfwBzigujsME6TBC3MzuagDsqbRRbbACh35PxzWUd96uaNfRrmWF06Rr6+0TyxmiQv7k\n",
       "77PDeqfHPjVTweCqsgG98YO039ZwCd/lPtxmuWnmu3//5RiTxtynEr3A5HfgYi3jCUk7zssakxqy\n",
       "WFYnlaiR7RAWyy26BYkKPWmyDjbYltcgeDHkVOOsqLWFwyadosqHtFAs3ce/vJ3nQJIbzMGkeRJS\n",
       "O++cKFpRcVDDcxJy0d+pmxDSrM0eRuKaoj6DrmqrFs7nTxrH0MtmIgjWUqsY8mFODEqxzFIY0jKK\n",
       "0Uubcy3ro9i+FaZywDOZO/BbKCmih1Rc4P3Q71cWKSHJRrXjv6iaz/d6RRAw/hfBg8TU/7cyFdFD\n",
       "ElSpuUBl51GJRXxVEQeSfyuMI/C+Skrh1lGnlf6sjhm4z3lfYeC52UMgdY4lWs2mTLgW7Hx21mWg\n",
       "CXiy3tzQ4LPERyIRHRV+0bf5AkIfjxyVKGrh6dxvVm1tU45daKAAr6j1tGlAgm2DQvlWR31zLtgC\n",
       "rSzT1sxHgnLIJHUfsBzNCMnpWk2r3eKbCpp0tYfsz3FZWfzrEOB6EL57PXdKPxkb+qeODhld5kiG\n",
       "GGrqIdLZ8/jr3PVcekkeDZwf3WzdBmdFrY1VPo1Nys6GxbQ42VaG+DRwj6iyi6csnPwTeA+NnHiB\n",
       "Rp/kfGXu6Ymm/PtubceC2Yg6VXY8WNVQYntjDBhla2gDG+GHiIaxSe9mitzooFFQ6YoqJbhwYkT7\n",
       "RmM5Vo7K9UIH5Sdf/5TCzN6Dn6zbWaHzPZRk3KuRwqR2Jcpvz2UUBLX/wspoPHZmfrl20DNgOFa5\n",
       "Jkm8dnMmuyyVWg1SWpTiQmsSE6qhep9UCXHXSZc+ui7t70rzPx0/IhdJb53sEnZSOQaBzEDpQhRc\n",
       "CKBTMVu3V1ED7a4KAU5oZb6uPAqOqfhjM6LPmCxT9SuSUEtRUXd9+rYs8yNNpQgDMgL50AuWYilk\n",
       "tWCJqXLi5d40Fs87YgtsbvtI77AR4pnbB36UKoMf4Dgs1L1CDWGXdeqTdLNH4m1SiF9l0QUvrwy0\n",
       "DPqQOdrmWimIdeSjAB2xi4Vlpu4aAwGDlc+5nNys81hFwDewVvwFDTxbAunbc0sFslml918/kbBF\n",
       "m7KSOpRrrzgElBKY/COfJkn4JbXe7P3loUqAAABKg23xz+QskZ5cVWbWiq+G0yOrjBxu/FgWDv8b\n",
       "YKOzykv7N6d0yGSN8MpjRpff6mkc2HJYTsoo/fWZbfilHLIEwuVZZstt/4uWOFtQG+lbYMkyZXek\n",
       "y4R3Ix7rfJHDv9ccXcTZCTrIC96hNm4kkdN1Uo8SFZ4OKfHFJdodHP2Nki16gPBEfmoSzHnrfZjn\n",
       "9UKYPeoUFDiJq/CetPTT69E1HOPWyMOIFXhOnHKx6nIFdPTxVfN2RK+Jw1jWvzLXfoETsU1f4dBP\n",
       "z218sN76xBV+cLlIN+sXafgHe7NFbvcRqAMOs+EguTCUah1qECPJammD0J0Gzq3zAVSi+6rNQKZi\n",
       "tzAYzDJqEMJvKew/sT2lb6vMVLyWQ7H/BMdUksvF8kn2bNqR8LBdRblDymysVTs4iDThwF99q8+S\n",
       "v8eWBMJmMrT+JRJdBKpMGrtmwIDT+snr6yzhDMihNgKIP1v1+Y9mDtlb2ij0V6GUK5roudc6lraJ\n",
       "EKwyRLycuZuYUEwSXpIUPwi17Dn6dkEtF1KIlFUlq6cwP1L+JdjOh1kj1xv2gKgfU37NOap19RP/\n",
       "v38hUt7WcNq//nJg93kOKKo6cIaFTLTNEsEnpnAFzhVhdzuLJ12e33AAAKlpYopwABrchEAA1oEA\n",
       "AANCQZokbEL//oywDK8Tk5z4GfBIQAI/JDhiC5aMa57kCis418BoUTbqeeMM/AohZrWEByfi2fIC\n",
       "xXlybo4s/MMHAOk/oQrsf8PEfm7/rwmVD+s3esKE55R6OZRzXR4+8uAD6QSvT/DT4l24yNlajWi2\n",
       "VetvLC2WDdzhIYl9sZOpNWwvx+ZJQZbptR+uoRLnSBAO7mKgHP3MPOII0ngDnVkXKrzHXXGk/l0L\n",
       "3uXy6Cn9uu6hxcueFqK7CjLJfRi6QgMVIrtkoHAwGQjt0rrorGHgsL5E0UtxAzVbTjLi5O2ViQY8\n",
       "eSxbKaSTZ/xdOjdHIsWvsdT9fXn8L9pp6lciYUXK3+breQr13D0DSFMXC2ceEFLCnwIXrK+/IMFc\n",
       "pSID0ui6bEjRwbSdiUGihIH/dlg2/nT46ZqyI+krvJrP8pbhIaOtfyfNWBcK8m7IIGSpbO5dwkDd\n",
       "wXbdKiqxQyWE027AcKCncJPha9duA+IRKrvgJgxnvyT7MCKwPUUmcGCnRm86WVMiz5ficXTgin8z\n",
       "WytCOshpoE46S0f5fxt2p7EGOITtV39DMzicy/6klIdkS0tpWgRHBXAlO3IBkE0XlipAf54jLgwp\n",
       "lYHJVsqfuYMp0lRgLReTdq3ONbjxM4CGhbFR0Fv8lxs1ebo2Gm6ra5ApEbAVYS4BfewWILRjoF3d\n",
       "f4+IZSrmA27khjw5ojX2xxfehCNpi/XPb9ECfKOmgq3DNUuWLmsYWYX2xJDOTd8UnLdnWvBZ4Wnj\n",
       "WtdglHpmONMmbtZl+oY0H5o12l0YFk/bU96PMHu/BIS5SiBB+BMgvtbB7RGOy0ydxRxTTqtEvCyz\n",
       "uHXY9dIiSucdLl8GxdhtwEHJ0r2S4lsq/ctlZgJ06vWNyL8h80TB5AJ0fID+ruUJwn9HNtOC7s9h\n",
       "SAbguA1t1wGf1Syu2B4QJGsWYkipJ8QBg84RLnH67bonm4XWpKBFgZev3+Fg4yYd75pHJ1NlJPEw\n",
       "rdo0IV4UjBp8EDVseqiVkD5wJ90DSTbwYlNOa8a2Tr05cVsPAEiH8HLPKVs1dmKW5kWw/aJ4gYIs\n",
       "a8YlVTEUzq3CQDvQDQk/cSjQDsOPVO+qgn/rTTeEB78BwqOZ9AQ8AAAASEGeQniEfwKo8ls1MCYt\n",
       "wMM2JXdpbjMZpd4yC5NohWExYg2Z5T7h3xRaddkzgATjYVqaEImCdhFOhqO2muQ3VHrSogAFwtgJ\n",
       "GQAAADcBnmF0R/8Fxs44Qb+VMG/OH1fGxtNFUwbdbtanHKM8GlHw/kTlax6nukLZbFip02vcPWn7\n",
       "0EDAAAAAMQGeY2pH/wXHv1IHQFh2ooDuOhi/8x8xv+kwdX49igAAkHequ82FI2pQMSlNqdOrXtEA\n",
       "AAFZQZpoSahBaJlMCF///oywDK8Tk5z4FGPu6Aa7eoRTjxf9wn/pJ0LFsqhqlBVHu7woIuWPSEwU\n",
       "fV6s5Mzb2Q4ytad3t5KT7S8q4mIe7EcCJWnQ2vGTQOOh9TmkRYLq9q3NZNQjZtH8yknBwYOOyer3\n",
       "dNMpzhZCW0h2AOPjaZk0u47bmhOKPfhT/xxisPbUaYYXCVVPdMGmM0oYcALezjZcJVZuJpzn76xN\n",
       "+FRQJi45GaPUqivVlgMY1jxV7gmiikS+WfcSd+EBIoQKXzV8gQ/inixDAW5ae14wmo8UV2tIW0dP\n",
       "7fEsJBDJS2EWPkWKxlEj5tDA6yd1fYeYgwwuCSpD6rg8El+8d2zqpI/e+NTq6S810vT/6zsXhmEw\n",
       "5QkdjqmJlWLjwVGsqfTf8i0aMwFk6C8Cy5WX3edzSp2NHCL5sM7e6n1HFxSMz2pAbJlXJZoLVxvc\n",
       "MOHQ9oVVAAAAKUGehkURLCP/A7WqMRw/Ab60OKRZ5PbzIMga0lmdUkGXDMdp7rDG6OTxAAAAHwGe\n",
       "pXRH/wXCLUSpENI+zuwVeD3qV71eorq/vaZligkAAAAfAZ6nakf/BcYDJB6ORO1DFh2oE+nuSisS\n",
       "kjjNwro8YAAAAPRBmqxJqEFsmUwIX//+jLAMrxOTnPgWhdCt0wzJV0mQnOnQA2/UoQ1Nx1LW9C8s\n",
       "ZV9LM24MeyCOTY0hZsTm0qbxeWkynK8RKYCOZ4QZpmtcE0fVV6SRolGjknJXFqTGGVqeCNjfR5sO\n",
       "zFnk5dsdRSCdmEeEFl0Kl8XPq0OT3zd96UM+eTS+Bey256y/y0h4mE8OQAzDDzEY1W3reZ+/49D1\n",
       "gfM9KpAcstYz/lYQXNOOgTApD4dxftn8gMjUMZtQS3y+K+D7EsrhuFYTEcH0s1hfKWfKBZgBMnKR\n",
       "pxy48oPR3tOeRJQRBA3gO2jxaNqn7a5Xn5xuAAAAL0GeykUVLCP/A7YotFRnM/WCfl74x26RcV50\n",
       "utAVz6mACcaN+hyxX46Hf9IFEYlhAAAAHQGe6XRH/wXCLUSpEOWVFhTuCd0XZjNgUbOgvXMCAAAA\n",
       "HgGe62pH/wXGAGB4rztrOY/bgAtwRTUXvp1wTRRZZQAAAERBmu1JqEFsmUwIX//+jLAABdsZkALH\n",
       "ygoXawsHzY5WXVmEHqbycEXSUKQUC248pxriRzzbQZxgJUkcxtkNXiiCUuvBtQAAANZBmxFJ4QpS\n",
       "ZTAhf/6MsAALJlOgAndKJbTtWVDBAO5COXZQt1mq3eA2VcMeImj1E0r6OtmSCVwPzOGe66fi8Gt0\n",
       "LvHM050E9rc9+eCigwrrpEKXRIjJcwRsH4qYsoX7D0oy5Hr/6TgHOfXzN5V6DVEN4vHfGc8KtmYZ\n",
       "j5Uwief94Zay2jVJP1dCJ2WHQyrZaV85xdEd5sv8hnGutAT2xhSX+1uujlwSUetiTgjBWf0Knx3P\n",
       "U8DFjhcsbvb1vl3Gjma9RJDywYjV3j4UmiyU/RzQGbmoM+7xAAAAJkGfL0U0TCP/A7Wpx+7Cv3Aj\n",
       "TDopCu7WPkAFqhV2AA79rlHOqByxAAAAGgGfTnRH/wXCKe93GAW6EoAE7doY16NU+RXmAAAAGQGf\n",
       "UGpH/wXGAGB4iOa53IACcXmwwJMU82UAAACrQZtVSahBaJlMCF///oywABXd8fBJ2gAISWxhKkNo\n",
       "MC+yP2qC3D8PijeoKQe2V21Ggs8j639L2rC8nVpzY8nCjI+v/T69p4kPBhe7AsdWnPppm6tdACFm\n",
       "Ht70VS80WJVFQvOl008Sc+u2S61cJ7odrntiD5EUYIwbxfw5dq4cv2gd1YpfkzQJZ74UKyrHsyPy\n",
       "QNU6n1rYpqTInSL9d5F+qFS+K8O2BsX5kVHdAAAALEGfc0URLCP/A7YoDgZS/cwwO5NfjlYQQAfq\n",
       "N5MIOOFQUYP1OATvAWYwoBgwAAAAHwGfknRH/wXCKe93GuNgX3tMwAH7j5+vsWU0Kzrm88AAAAAf\n",
       "AZ+Uakf/BcYAYHiKV1kpFyQSxABMw3ujg/pRSS9o4wAAAHBBm5lJqEFsmUwIV//+OEAAU9oz0A9N\n",
       "UPPKBbys+uq7Bce/yyifLOmtoUrnJ3XvUB5pHUc5CR2l+v48jz88fMh/rF9ff7kGmGCk7qdVW9Ri\n",
       "KUhLdZUsMw4u1Ysz0eeE8OQhin3R2OeKVXzrPgG+c8RMAAAAHkGft0UVLCP/A7YoDgZS/cwwRl00\n",
       "TBXD6bg2BpQQUQAAACUBn9Z0R/8Fwinvdxr2G8dQAcGht0XuFwjfU9+9J+lXx/4cWn5BAAAAFgGf\n",
       "2GpH/wXGAGB4ildopDawfgrUUYAAAABIQZvaSahBbJlMCF///oywACkzBhe8F7CN+lu8qAIyOa+p\n",
       "MhNFwLC/l7qu1P5tCggWEjo8TV9TkBs26t4fNeAab4b4GSMkax0xAAAAUkGb+0nhClJlMCGf/p4Q\n",
       "ACn2H6EdyAE00p5lvoZ9OLnRyWoN7SzTNnBlupJqafb9w68lu7g83hgjwqrGPEj1GfYb2pXvrH9c\n",
       "rzOoatiEYMMkJIAAAAB0QZofSeEOiZTAhn/+nhAAK1vvvzjoIgAcHmHV+MFwJTcTfIDErqSyuVMr\n",
       "2o9E0zhSny8bQFNkU7RwQoFLx+QkiF7WdCELgWODX2Ap93bnG0kNUIwVceHmBGE7kWUW9jSSke5U\n",
       "YuUBAvtHRqafUPeLwpbPw3sAAAAmQZ49RRE8I/8DtanH7sK/cCzgnNM3pIAJXMJp9QEUPIcs9EIb\n",
       "2dkAAAAbAZ5cdEf/BcIp73cexo5UqYAGx/3DZgss1BdwAAAAHQGeXmpH/wXGAGB4jP0o7WygAjIt\n",
       "EkRZ8lOV0F3AAAAAX0GaQ0moQWiZTAhn//6eEABWKxJV9KQMh9C0eQDd5eT2vmlWmF7ZRYWhMeK0\n",
       "IelALBC409PxILOZMfYO0owZ5s6O7J1iMFvIEv3lV4PR6F5FO2LZsIRtPXiwom7N5ulJAAAAIkGe\n",
       "YUURLCP/A7YoDgZS/cyLWhqxNADau5FEC+lQb63og44AAAARAZ6AdEf/BcIp73cXAznu5sEAAAAc\n",
       "AZ6Cakf/BcYAYHiSmXEVdAAV4ALLgbcHf/v2oAAAAGpBmodJqEFsmUwIZ//+nhAAVmrspGDOAOYe\n",
       "+pQ/HIs/b7zPYyp/H8jgpsjrPoWjL01u1wcBau4A3d6mi6LyHy/loNs0qkuzlraZiEeGjt3NeUVw\n",
       "GVT8aqCZgvczY8JO/Yy9nDL41JgGjsNhAAAAI0GepUUVLCP/A7YoDgZS/cyLreABCO5KOsYaXmj0\n",
       "aSmErAu5AAAAGAGexHRH/wXCKe93JoCJbEJYenYWOPUFsQAAABMBnsZqR/8FxgBgeJKPlOUp6/FF\n",
       "AAAAXkGay0moQWyZTAhn//6eEABWLdmQAcdytGg39saYRweeM4Q7xONyLw2p01kMmANDTAHKjjXz\n",
       "Eqw81T8TiYZvKapIc1AiVf0/0S2CWpHXljwcS3NGyilzKXK7bJzQ2YAAAAAcQZ7pRRUsI/8DtigO\n",
       "BlL9zIrZuQVsb4qPoIEUEAAAABwBnwh0R/8FwinvdyaAq0w0YAEjHsk24uWmwnDlAAAAHQGfCmpH\n",
       "/wXGAGB4jS61PDoATK82IkzJar9aqDHQAAAAWEGbD0moQWyZTAhn//6eEAAsNdCjp3AJ1khydjF0\n",
       "QwQDRCLbJi+a4vSau41WxznIScrONdsu06sWWyjP+gKnDfPzOVeGDh8I34iv5h/tVtKzczEHIu/k\n",
       "wm4AAAAmQZ8tRRUsI/8DtigOBlL9zE9jnJQA/4mNVNpi591JmX1Do2AAr4EAAAAVAZ9MdEf/BcIp\n",
       "73ce63yObz9bC7wRAAAAEgGfTmpH/wXGAGB4jQq6Q16HAQAAAFRBm1NJqEFsmUwIZ//+nhAAVjJ0\n",
       "YAiY3t2hOTkvLPkF20yOS6xB04f68+1/leRyVjZ7iFoxbvconOvqKucgWBhYPIv/yWSMu0pfxOeg\n",
       "GoxxqWJobMAAAAAhQZ9xRRUsI/8DtigOBlL9zImtM/8gAccF35DKKS51GQg4AAAAEgGfkHRH/wXC\n",
       "Ke93Jo1xBsIxXQAAABQBn5JqR/8FxgBgeJKHur0Ya1qSugAAAGFBm5dJqEFsmUwIZ//+nhAAWPff\n",
       "wqXsQULrwWd3l20gJ9Zs6rVJKoZGPX7KnWg/lnT607L3qGSdEQlav8cFxt4rZP/e6tQULWjPdWjZ\n",
       "GQkyLKYRnfpkSlf4N2bUcP9/kwTcAAAAJ0GftUUVLCP/A7YoDgZS/cyN7ACv+AA2WO7LmHsicKY4\n",
       "XpLP+UgQcQAAABwBn9R0R/8FwinvdyaB5QAAuJ8Ct+5Gg8DYUBMwAAAAHQGf1mpH/wXGAGB4kt1d\n",
       "QUgAuKfPKNZOaag2CduZAAAAQkGb20moQWyZTAhn//6eEABYyL4SLBRSgB94jkrAlbBY74KhNHQd\n",
       "KHm1IbpERuzC09Q3VDislRljq949+Dhq4cmCbwAAACJBn/lFFSwj/wO2KA4GUv3N3HK3aqZQAU5u\n",
       "9tQ17q5+pUVsAAAAFgGeGHRH/wXCKe93Jt+BddX14gIqlUEAAAASAZ4aakf/BcYAYHidqukDXocB\n",
       "AAAAMUGaH0moQWyZTAhf//6MsABZi7m2oigknSQHQF/rMbri0IIr2WM4U+jAMxTf9Big44EAAAAZ\n",
       "QZ49RRUsI/8DtigOBlL9zd5ZWlOUrNsK2QAAABQBnlx0R/8FwinvdzYBaoqYCXQroQAAABUBnl5q\n",
       "R/8FxgBgeJ2q+bESxcaV5uoAAAA7QZpDSahBbJlMCF///oywAFme9xO2zLAUL4MmeiC1DTQYXMAz\n",
       "lxe08nzkG7GGyB7iUoonTZOZaA0YU0EAAAAZQZ5hRRUsI/8DtigOBlL9zd5ZWlOUrNsK2AAAABQB\n",
       "noB0R/8FwinvdzYBaoqYCXQroQAAABYBnoJqR/8FxgBgeJ2q+aFy51caVkD0AAAAT0Gah0moQWyZ\n",
       "TAhf//6MsABZMZkAQR21vvFKJGIfx6yYNm4Ac6sVuDhXvCcO4hRKXNi0maugd5G7O20fCWRtHK6P\n",
       "0vnlI7TnhCalheaMKaEAAAAkQZ6lRRUsI/8DtigOBlL9zd5ZW6cP64ABYyI/5BxXO+VjFDjhAAAA\n",
       "FAGexHRH/wXCKe93NgGLcxlrFxuDAAAAHAGexmpH/wXGAGB4narWlb4AB+H3aJdLNNe8S6EAAABF\n",
       "QZrISahBbJlMCGf//p4QAFYzQeAK1S4Fa7KWnQ1RC/rR0auxj6pA0xtdmc2nR6YVGq0DfeMATcFb\n",
       "fgtCr7qSq6zk4JeAAAAAREGa7EnhClJlMCGf/p4QAFYzj3ACw+u9+0vPPjKU1wvdnRdNca8sEcxR\n",
       "t2XOm6gw5tJF/c4J5fUDsRV8SdkLkduHPgh4AAAAHEGfCkU0TCP/A7Wpx+7Cv3B+7/H/CCYuWBNw\n",
       "LaEAAAAbAZ8pdEf/BcIp73c2AV3QoACdtyLJu/+1QpRlAAAAEgGfK2pH/wXGAGB4narpA16HAQAA\n",
       "AElBmzBJqEFomUwIX//+jLAAVRIjvABYKFbj/MlvZYB+G//C3AIcMpk2duBZJgj3EKFAQ3VIEpbL\n",
       "yk+LKwv91uYwUc6/4XqfdA6ZAAAAJUGfTkURLCP/A7YoDgZS/c3eWUnX+3YAJ26hKSBzoS0CqueL\n",
       "B/kAAAASAZ9tdEf/BcIp73c2AWoGwoTxAAAAFwGfb2pH/wXGAGB4nar4nJVZROKFh3t/AAAAT0Gb\n",
       "dEmoQWyZTAhf//6MsABUnJO0pSoAFc4UCv9WytiQFF4rW5K+BCTiS/ZWwD+kFalqViFJmU0qKV40\n",
       "hbiFPwaKPZEcGYf3TUFeYtDRhXwAAAAmQZ+SRRUsI/8DtigOBlL9zd5ZSZppWOTNAAlqf7WVOpdk\n",
       "GNKZhx0AAAAXAZ+xdEf/BcIp73c2AYlDpcGvkLF/f3AAAAAdAZ+zakf/BcYAYHidqvjGJUABOLwM\n",
       "lIcYbAWpAm4AAAA9QZu4SahBbJlMCF///oywAFLqw7nPgAgrcQX2Lv5r5fOqEtI9UymNY4QuX36+\n",
       "9W7JIsLdLiNv3XR/P3QO6QAAAB1Bn9ZFFSwj/wO2KA4GUv3N3llCUl7Nq08+NeVCtgAAAB4Bn/V0\n",
       "R/8FwinvdzYBiLsFthjHQAtavMc+DTFTd2EAAAAYAZ/3akf/BcYAYHidqvhkFOjbleeRXHtZAAAA\n",
       "NkGb+UmoQWyZTAhf//6MsABSc83gAhnKEcjOr//wl8FE+lrOoEP1kCYNBMFziZvmiUJNGjCzgAAA\n",
       "AE1Bmh1J4QpSZTAhf/6MsACk4zIAI1a4MVoIBZY/lbGpQcvPT8WCXQ6vg+8qqGhIGyWA+/d+8XsK\n",
       "m6qUlNyYRekOXnFvo8cuMbiNepCggQAAAC1BnjtFNEwj/wO1qcfuwr9wfvHS4nCJbx1X0kGZoaAK\n",
       "CQBstduHWr85SCQAoYAAAAAXAZ5adEf/BcIp73c0oSqlAfME/VQsQCEAAAAaAZ5cakf/BcYAYHic\n",
       "irqCkAGmk+L/pJUKLtUAAAA9QZpBSahBaJlMCE///fEABidTS1m5/8rQAcZ3d3AEVHHN0Q7o/lM2\n",
       "cLPWRuQl5SN1LMJuYFly9aHe/AQSMAAAACNBnn9FESwj/wO2KA4GUv3NkqznnoYAIYXTof5N4PT4\n",
       "4swD0gAAABQBnp50R/8FwinvdzSdKX+BxgRXQQAAACABnoBqR/8FxgBgeJxcBcL0ABwZ4DSKAcf+\n",
       "faiCREDhEAAAACFBmoNJqEFsmUwUTH/8hAAlhN2fFG9KAC4LL1Lx/3yAi4EAAAAgAZ6iakf/Bce9\n",
       "8FGqRLJmOzeV3EAC6T93GatFSQ8lSCgAAAfWbW9vdgAAAGxtdmhkAAAAAAAAAAAAAAAAAAAD6AAA\n",
       "B9AAAQAAAQAAAAAAAAAAAAAAAAEAAAAAAAAAAAAAAAAAAAABAAAAAAAAAAAAAAAAAABAAAAAAAAA\n",
       "AAAAAAAAAAAAAAAAAAAAAAAAAAAAAAAAAgAABwB0cmFrAAAAXHRraGQAAAADAAAAAAAAAAAAAAAB\n",
       "AAAAAAAAB9AAAAAAAAAAAAAAAAAAAAAAAAEAAAAAAAAAAAAAAAAAAAABAAAAAAAAAAAAAAAAAABA\n",
       "AAAAAbAAAAEgAAAAAAAkZWR0cwAAABxlbHN0AAAAAAAAAAEAAAfQAAACAAABAAAAAAZ4bWRpYQAA\n",
       "ACBtZGhkAAAAAAAAAAAAAAAAAAAyAAAAZABVxAAAAAAALWhkbHIAAAAAAAAAAHZpZGUAAAAAAAAA\n",
       "AAAAAABWaWRlb0hhbmRsZXIAAAAGI21pbmYAAAAUdm1oZAAAAAEAAAAAAAAAAAAAACRkaW5mAAAA\n",
       "HGRyZWYAAAAAAAAAAQAAAAx1cmwgAAAAAQAABeNzdGJsAAAAs3N0c2QAAAAAAAAAAQAAAKNhdmMx\n",
       "AAAAAAAAAAEAAAAAAAAAAAAAAAAAAAAAAbABIABIAAAASAAAAAAAAAABAAAAAAAAAAAAAAAAAAAA\n",
       "AAAAAAAAAAAAAAAAAAAAAAAAGP//AAAAMWF2Y0MBZAAe/+EAGGdkAB6s2UGwloQAAAMABAAAAwGQ\n",
       "PFi2WAEABmjr48siwAAAABx1dWlka2hA8l8kT8W6OaUbzwMj8wAAAAAAAAAYc3R0cwAAAAAAAAAB\n",
       "AAAAZAAAAQAAAAAUc3RzcwAAAAAAAAABAAAAAQAAAyhjdHRzAAAAAAAAAGMAAAABAAACAAAAAAEA\n",
       "AAUAAAAAAQAAAgAAAAABAAAAAAAAAAEAAAEAAAAAAQAABQAAAAABAAACAAAAAAEAAAAAAAAAAQAA\n",
       "AQAAAAABAAAFAAAAAAEAAAIAAAAAAQAAAAAAAAABAAABAAAAAAEAAAIAAAAAAQAABQAAAAABAAAC\n",
       "AAAAAAEAAAAAAAAAAQAAAQAAAAABAAAFAAAAAAEAAAIAAAAAAQAAAAAAAAABAAABAAAAAAEAAAUA\n",
       "AAAAAQAAAgAAAAABAAAAAAAAAAEAAAEAAAAAAgAAAgAAAAABAAAFAAAAAAEAAAIAAAAAAQAAAAAA\n",
       "AAABAAABAAAAAAEAAAUAAAAAAQAAAgAAAAABAAAAAAAAAAEAAAEAAAAAAQAABQAAAAABAAACAAAA\n",
       "AAEAAAAAAAAAAQAAAQAAAAABAAAFAAAAAAEAAAIAAAAAAQAAAAAAAAABAAABAAAAAAEAAAUAAAAA\n",
       "AQAAAgAAAAABAAAAAAAAAAEAAAEAAAAAAQAABQAAAAABAAACAAAAAAEAAAAAAAAAAQAAAQAAAAAB\n",
       "AAAFAAAAAAEAAAIAAAAAAQAAAAAAAAABAAABAAAAAAEAAAUAAAAAAQAAAgAAAAABAAAAAAAAAAEA\n",
       "AAEAAAAAAQAABQAAAAABAAACAAAAAAEAAAAAAAAAAQAAAQAAAAABAAAFAAAAAAEAAAIAAAAAAQAA\n",
       "AAAAAAABAAABAAAAAAEAAAUAAAAAAQAAAgAAAAABAAAAAAAAAAEAAAEAAAAAAQAAAgAAAAABAAAF\n",
       "AAAAAAEAAAIAAAAAAQAAAAAAAAABAAABAAAAAAEAAAUAAAAAAQAAAgAAAAABAAAAAAAAAAEAAAEA\n",
       "AAAAAQAABQAAAAABAAACAAAAAAEAAAAAAAAAAQAAAQAAAAABAAAFAAAAAAEAAAIAAAAAAQAAAAAA\n",
       "AAABAAABAAAAAAEAAAIAAAAAAQAABQAAAAABAAACAAAAAAEAAAAAAAAAAQAAAQAAAAABAAAFAAAA\n",
       "AAEAAAIAAAAAAQAAAAAAAAABAAABAAAAAAEAAAMAAAAAAQAAAQAAAAAcc3RzYwAAAAAAAAABAAAA\n",
       "AQAAAGQAAAABAAABpHN0c3oAAAAAAAAAAAAAAGQAADTRAAADRgAAAEwAAAA7AAAANQAAAV0AAAAt\n",
       "AAAAIwAAACMAAAD4AAAAMwAAACEAAAAiAAAASAAAANoAAAAqAAAAHgAAAB0AAACvAAAAMAAAACMA\n",
       "AAAjAAAAdAAAACIAAAApAAAAGgAAAEwAAABWAAAAeAAAACoAAAAfAAAAIQAAAGMAAAAmAAAAFQAA\n",
       "ACAAAABuAAAAJwAAABwAAAAXAAAAYgAAACAAAAAgAAAAIQAAAFwAAAAqAAAAGQAAABYAAABYAAAA\n",
       "JQAAABYAAAAYAAAAZQAAACsAAAAgAAAAIQAAAEYAAAAmAAAAGgAAABYAAAA1AAAAHQAAABgAAAAZ\n",
       "AAAAPwAAAB0AAAAYAAAAGgAAAFMAAAAoAAAAGAAAACAAAABJAAAASAAAACAAAAAfAAAAFgAAAE0A\n",
       "AAApAAAAFgAAABsAAABTAAAAKgAAABsAAAAhAAAAQQAAACEAAAAiAAAAHAAAADoAAABRAAAAMQAA\n",
       "ABsAAAAeAAAAQQAAACcAAAAYAAAAJAAAACUAAAAkAAAAFHN0Y28AAAAAAAAAAQAAACwAAABidWR0\n",
       "YQAAAFptZXRhAAAAAAAAACFoZGxyAAAAAAAAAABtZGlyYXBwbAAAAAAAAAAAAAAAAC1pbHN0AAAA\n",
       "Jal0b28AAAAdZGF0YQAAAAEAAAAATGF2ZjU2LjQwLjEwMQ==\n",
       "\">\n",
       "  Your browser does not support the video tag.\n",
       "</video>"
      ]
     },
     "metadata": {},
     "output_type": "display_data"
    }
   ],
   "source": [
    "try:\n",
    "    display_html(HTML(anim.to_html5_video()))\n",
    "except (RuntimeError, KeyError):\n",
    "    # In case the build-in renderers are unaviable, fall back to\n",
    "    # a custom one, that doesn't require external libraries\n",
    "    anim.save(None, writer=matplotlib_utils.SimpleMovieWriter(0.001))"
   ]
  },
  {
   "cell_type": "code",
   "execution_count": null,
   "metadata": {
    "collapsed": true
   },
   "outputs": [],
   "source": []
  }
 ],
 "metadata": {
  "kernelspec": {
   "display_name": "Python 3",
   "language": "python",
   "name": "python3"
  },
  "language_info": {
   "codemirror_mode": {
    "name": "ipython",
    "version": 3
   },
   "file_extension": ".py",
   "mimetype": "text/x-python",
   "name": "python",
   "nbconvert_exporter": "python",
   "pygments_lexer": "ipython3",
   "version": "3.6.13"
  }
 },
 "nbformat": 4,
 "nbformat_minor": 1
}
